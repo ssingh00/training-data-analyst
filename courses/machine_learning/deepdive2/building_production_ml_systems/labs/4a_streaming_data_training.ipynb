{
 "cells": [
  {
   "cell_type": "markdown",
   "metadata": {},
   "source": [
    "# Training a model with `traffic_last_5min` feature\n",
    "\n",
    "\n",
    "## Introduction\n",
    "\n",
    "In this notebook, we'll train a taxifare prediction model but this time with an additional feature of `traffic_last_5min`."
   ]
  },
  {
   "cell_type": "code",
   "execution_count": 1,
   "metadata": {
    "colab": {},
    "colab_type": "code",
    "id": "Nny3m465gKkY"
   },
   "outputs": [],
   "source": [
    "!sudo chown -R jupyter:jupyter /home/jupyter/training-data-analyst"
   ]
  },
  {
   "cell_type": "code",
   "execution_count": 2,
   "metadata": {},
   "outputs": [
    {
     "name": "stdout",
     "output_type": "stream",
     "text": [
      "2.4.1\n"
     ]
    }
   ],
   "source": [
    "import datetime\n",
    "import os\n",
    "import shutil\n",
    "\n",
    "import pandas as pd\n",
    "import tensorflow as tf\n",
    "\n",
    "from matplotlib import pyplot as plt\n",
    "from tensorflow import keras\n",
    "\n",
    "from tensorflow.keras.models import Sequential\n",
    "from tensorflow.keras.layers import Dense, DenseFeatures\n",
    "from tensorflow.keras.callbacks import TensorBoard\n",
    "\n",
    "print(tf.__version__)\n",
    "%matplotlib inline"
   ]
  },
  {
   "cell_type": "code",
   "execution_count": 3,
   "metadata": {},
   "outputs": [],
   "source": [
    "PROJECT = 'qwiklabs-gcp-04-5e7d5c24e704' # REPLACE WITH YOUR PROJECT ID\n",
    "BUCKET = 'qwiklabs-gcp-04-5e7d5c24e704' # REPLACE WITH YOUR BUCKET NAME\n",
    "REGION = 'us-central1' # REPLACE WITH YOUR BUCKET REGION e.g. us-central1"
   ]
  },
  {
   "cell_type": "code",
   "execution_count": 4,
   "metadata": {},
   "outputs": [],
   "source": [
    "# For Bash Code\n",
    "os.environ['PROJECT'] = PROJECT\n",
    "os.environ['BUCKET'] = BUCKET\n",
    "os.environ['REGION'] = REGION"
   ]
  },
  {
   "cell_type": "code",
   "execution_count": 5,
   "metadata": {},
   "outputs": [
    {
     "name": "stderr",
     "output_type": "stream",
     "text": [
      "Updated property [core/project].\n",
      "Updated property [compute/region].\n"
     ]
    }
   ],
   "source": [
    "%%bash\n",
    "gcloud config set project $PROJECT\n",
    "gcloud config set compute/region $REGION"
   ]
  },
  {
   "cell_type": "markdown",
   "metadata": {},
   "source": [
    "## Load raw data"
   ]
  },
  {
   "cell_type": "code",
   "execution_count": 6,
   "metadata": {},
   "outputs": [
    {
     "name": "stdout",
     "output_type": "stream",
     "text": [
      "-rw-r--r-- 1 jupyter jupyter 2186310 May 24 03:56 ../data/taxi-traffic-test.csv\n",
      "-rw-r--r-- 1 jupyter jupyter 9713118 May 24 03:56 ../data/taxi-traffic-train.csv\n",
      "-rw-r--r-- 1 jupyter jupyter 2036826 May 24 03:56 ../data/taxi-traffic-valid.csv\n"
     ]
    }
   ],
   "source": [
    "!ls -l ../data/taxi-traffic*"
   ]
  },
  {
   "cell_type": "code",
   "execution_count": 7,
   "metadata": {},
   "outputs": [
    {
     "name": "stdout",
     "output_type": "stream",
     "text": [
      "==> ../data/taxi-traffic-test.csv <==\n",
      "15.7,6,12,-73.990072,40.758199,-73.974686,40.742004,2089\n",
      "6.1,7,2,-73.95647,40.771226,-73.971845,40.750089,1738\n",
      "4.1,6,18,-73.987871,40.759855,-73.996375,40.763728,2971\n",
      "5.7,2,18,-73.974177,40.761154,-73.980953,40.769357,2320\n",
      "7.4,4,23,-73.924908,40.741879,-73.897524,40.747867,1491\n",
      "20.5,1,15,-73.957528,40.766847,-73.870813,40.774044,1794\n",
      "6.5,6,9,-73.996553,40.725558,-73.992503,40.737248,2341\n",
      "4.1,4,11,-73.98353,40.746821000000004,-73.976831,40.751082000000004,2329\n",
      "10.5,3,18,-73.863998,40.770439,-73.91671099999999,40.773011,2318\n",
      "10.1,6,1,-73.979685,40.727247999999996,-73.952508,40.772492,1455\n",
      "\n",
      "==> ../data/taxi-traffic-train.csv <==\n",
      "6.1,2,0,-73.98689499999999,40.729723,-74.00631,40.739407,1129\n",
      "9.7,7,0,-73.94578299999999,40.777807,-73.97539,40.757712,2876\n",
      "5.3,6,0,-74.00644,40.739349,-73.999379,40.731804,3950\n",
      "7.3,5,0,-73.96611800000001,40.753983000000005,-73.945605,40.782802000000004,1334\n",
      "6.5,7,0,-73.974153,40.762767,-73.989152,40.742727,2623\n",
      "22.9,1,0,-73.977188,40.774063,-73.962647,40.654768,2833\n",
      "22.9,2,0,-74.00188,40.745946999999994,-73.968497,40.639375,2002\n",
      "6.1,3,0,-73.994051,40.751077,-73.977333,40.778875,661\n",
      "5.3,5,0,-73.980898,40.744515,-73.973383,40.753496999999996,1938\n",
      "6.5,7,0,-74.00540600000001,40.708533,-74.005498,40.725617,2781\n",
      "\n",
      "==> ../data/taxi-traffic-valid.csv <==\n",
      "7.7,2,11,-73.97463,40.742118,-73.98544,40.760585999999996,1059\n",
      "30.1,7,1,-73.956921,40.777588,-73.965109,40.673271,2225\n",
      "7.7,6,13,-73.98073199999999,40.742109,-73.96415400000001,40.764891999999996,1994\n",
      "24.67,4,4,-73.953387,40.822733,-73.878697,40.755373,321\n",
      "7.7,2,1,-73.982304,40.723572,-73.972778,40.74928,1115\n",
      "8.1,5,18,-73.98474300000001,40.749171999999994,-74.00232,40.72825,2697\n",
      "6.1,4,1,-73.983588,40.72224,-73.997302,40.720786,868\n",
      "19.07,3,1,-73.94446500000001,40.807284,-73.876339,40.763073999999996,711\n",
      "12.5,4,10,-73.98696899999999,40.722343,-74.01621,40.715067,1990\n",
      "5.7,7,18,-74.007972,40.738759,-73.991973,40.73704,2048\n"
     ]
    }
   ],
   "source": [
    "!head ../data/taxi-traffic*"
   ]
  },
  {
   "cell_type": "markdown",
   "metadata": {},
   "source": [
    "## Use tf.data to read the CSV files\n",
    "\n",
    "These functions for reading data from the csv files are similar to what we used in the Introduction to Tensorflow module. Note that here we have an addtional feature `traffic_last_5min`."
   ]
  },
  {
   "cell_type": "code",
   "execution_count": 8,
   "metadata": {},
   "outputs": [],
   "source": [
    "CSV_COLUMNS = [\n",
    "    'fare_amount',\n",
    "    'dayofweek',\n",
    "    'hourofday',\n",
    "    'pickup_longitude',\n",
    "    'pickup_latitude',\n",
    "    'dropoff_longitude',\n",
    "    'dropoff_latitude',\n",
    "    'traffic_last_5min'\n",
    "]\n",
    "LABEL_COLUMN = 'fare_amount'\n",
    "DEFAULTS = [[0.0], [0.0], [0.0], [0.0], [0.0], [0.0], [0.0], [0.0]]\n",
    "\n",
    "\n",
    "def features_and_labels(row_data):\n",
    "    label = row_data.pop(LABEL_COLUMN)\n",
    "    features = row_data\n",
    "\n",
    "    return features, label\n",
    "\n",
    "\n",
    "def create_dataset(pattern, batch_size=1, mode=tf.estimator.ModeKeys.EVAL):\n",
    "    dataset = tf.data.experimental.make_csv_dataset(\n",
    "        pattern, batch_size, CSV_COLUMNS, DEFAULTS)\n",
    "\n",
    "    dataset = dataset.map(features_and_labels)\n",
    "\n",
    "    if mode == tf.estimator.ModeKeys.TRAIN:\n",
    "        dataset = dataset.shuffle(buffer_size=1000).repeat()\n",
    "\n",
    "    # take advantage of multi-threading; 1=AUTOTUNE\n",
    "    dataset = dataset.prefetch(1)\n",
    "    return dataset"
   ]
  },
  {
   "cell_type": "code",
   "execution_count": 9,
   "metadata": {},
   "outputs": [],
   "source": [
    "INPUT_COLS = [\n",
    "    'dayofweek',\n",
    "    'hourofday',\n",
    "    'pickup_longitude',\n",
    "    'pickup_latitude',\n",
    "    'dropoff_longitude',\n",
    "    'dropoff_latitude',\n",
    "    'traffic_last_5min'\n",
    "]\n",
    "\n",
    "# Create input layer of feature columns\n",
    "feature_columns = {\n",
    "    colname: tf.feature_column.numeric_column(colname)\n",
    "    for colname in INPUT_COLS\n",
    "    }"
   ]
  },
  {
   "cell_type": "markdown",
   "metadata": {},
   "source": [
    "## Build a simple keras DNN model"
   ]
  },
  {
   "cell_type": "code",
   "execution_count": 10,
   "metadata": {},
   "outputs": [],
   "source": [
    "# Build a keras DNN model using Sequential API\n",
    "def build_model(dnn_hidden_units):\n",
    "    model = Sequential(DenseFeatures(feature_columns=feature_columns.values()))\n",
    "    \n",
    "    for num_nodes in dnn_hidden_units:\n",
    "        model.add(Dense(units=num_nodes, activation=\"relu\"))\n",
    "    \n",
    "    model.add(Dense(units=1, activation=\"linear\"))    \n",
    "    \n",
    "    # Create a custom evalution metric\n",
    "    def rmse(y_true, y_pred):\n",
    "        return tf.sqrt(tf.reduce_mean(tf.square(y_pred - y_true)))\n",
    "\n",
    "    # Compile the keras model\n",
    "    model.compile(optimizer=\"adam\", loss=\"mse\", metrics=[rmse, \"mse\"])\n",
    "    \n",
    "    return model"
   ]
  },
  {
   "cell_type": "markdown",
   "metadata": {},
   "source": [
    "Next, we can call the `build_model` to create the model. Here we'll have two hidden layers before our final output layer. And we'll train with the same parameters we used before."
   ]
  },
  {
   "cell_type": "code",
   "execution_count": 11,
   "metadata": {},
   "outputs": [],
   "source": [
    "HIDDEN_UNITS = [64, 32, 16]\n",
    "\n",
    "model = build_model(dnn_hidden_units=HIDDEN_UNITS)"
   ]
  },
  {
   "cell_type": "code",
   "execution_count": 12,
   "metadata": {},
   "outputs": [],
   "source": [
    "BATCH_SIZE = 1000\n",
    "NUM_TRAIN_EXAMPLES = 10000 * 6  # training dataset will repeat, wrap around\n",
    "NUM_EVALS = 60  # how many times to evaluate\n",
    "NUM_EVAL_EXAMPLES = 10000  # enough to get a reasonable sample\n",
    "\n",
    "trainds = create_dataset(\n",
    "    pattern='../data/taxi-traffic-train*',\n",
    "    batch_size=BATCH_SIZE,\n",
    "    mode=tf.estimator.ModeKeys.TRAIN)\n",
    "\n",
    "evalds = create_dataset(\n",
    "    pattern='../data/taxi-traffic-valid*',\n",
    "    batch_size=BATCH_SIZE,\n",
    "    mode=tf.estimator.ModeKeys.EVAL).take(NUM_EVAL_EXAMPLES//1000)"
   ]
  },
  {
   "cell_type": "code",
   "execution_count": 13,
   "metadata": {},
   "outputs": [
    {
     "name": "stdout",
     "output_type": "stream",
     "text": [
      "Epoch 1/60\n",
      "WARNING:tensorflow:Layers in a Sequential model should only have a single input tensor, but we receive a <class 'collections.OrderedDict'> input: OrderedDict([('dayofweek', <tf.Tensor 'ExpandDims:0' shape=(1000, 1) dtype=float32>), ('hourofday', <tf.Tensor 'ExpandDims_3:0' shape=(1000, 1) dtype=float32>), ('pickup_longitude', <tf.Tensor 'ExpandDims_5:0' shape=(1000, 1) dtype=float32>), ('pickup_latitude', <tf.Tensor 'ExpandDims_4:0' shape=(1000, 1) dtype=float32>), ('dropoff_longitude', <tf.Tensor 'ExpandDims_2:0' shape=(1000, 1) dtype=float32>), ('dropoff_latitude', <tf.Tensor 'ExpandDims_1:0' shape=(1000, 1) dtype=float32>), ('traffic_last_5min', <tf.Tensor 'ExpandDims_6:0' shape=(1000, 1) dtype=float32>)])\n",
      "Consider rewriting this model with the Functional API.\n",
      "WARNING:tensorflow:Layers in a Sequential model should only have a single input tensor, but we receive a <class 'collections.OrderedDict'> input: OrderedDict([('dayofweek', <tf.Tensor 'ExpandDims:0' shape=(1000, 1) dtype=float32>), ('hourofday', <tf.Tensor 'ExpandDims_3:0' shape=(1000, 1) dtype=float32>), ('pickup_longitude', <tf.Tensor 'ExpandDims_5:0' shape=(1000, 1) dtype=float32>), ('pickup_latitude', <tf.Tensor 'ExpandDims_4:0' shape=(1000, 1) dtype=float32>), ('dropoff_longitude', <tf.Tensor 'ExpandDims_2:0' shape=(1000, 1) dtype=float32>), ('dropoff_latitude', <tf.Tensor 'ExpandDims_1:0' shape=(1000, 1) dtype=float32>), ('traffic_last_5min', <tf.Tensor 'ExpandDims_6:0' shape=(1000, 1) dtype=float32>)])\n",
      "Consider rewriting this model with the Functional API.\n",
      "1/1 [==============================] - ETA: 0s - loss: 181613.9844 - rmse: 426.1619 - mse: 181613.9844WARNING:tensorflow:Layers in a Sequential model should only have a single input tensor, but we receive a <class 'collections.OrderedDict'> input: OrderedDict([('dayofweek', <tf.Tensor 'ExpandDims:0' shape=(1000, 1) dtype=float32>), ('hourofday', <tf.Tensor 'ExpandDims_3:0' shape=(1000, 1) dtype=float32>), ('pickup_longitude', <tf.Tensor 'ExpandDims_5:0' shape=(1000, 1) dtype=float32>), ('pickup_latitude', <tf.Tensor 'ExpandDims_4:0' shape=(1000, 1) dtype=float32>), ('dropoff_longitude', <tf.Tensor 'ExpandDims_2:0' shape=(1000, 1) dtype=float32>), ('dropoff_latitude', <tf.Tensor 'ExpandDims_1:0' shape=(1000, 1) dtype=float32>), ('traffic_last_5min', <tf.Tensor 'ExpandDims_6:0' shape=(1000, 1) dtype=float32>)])\n",
      "Consider rewriting this model with the Functional API.\n",
      "1/1 [==============================] - 15s 15s/step - loss: 181613.9844 - rmse: 426.1619 - mse: 181613.9844 - val_loss: 216573.7969 - val_rmse: 465.2947 - val_mse: 216573.7969\n",
      "Epoch 2/60\n",
      "1/1 [==============================] - 0s 348ms/step - loss: 220626.6094 - rmse: 469.7091 - mse: 220626.6094 - val_loss: 183070.3906 - val_rmse: 427.8419 - val_mse: 183070.3906\n",
      "Epoch 3/60\n",
      "1/1 [==============================] - 0s 321ms/step - loss: 190825.4062 - rmse: 436.8357 - mse: 190825.4062 - val_loss: 153481.8281 - val_rmse: 391.7217 - val_mse: 153481.8281\n",
      "Epoch 4/60\n",
      "1/1 [==============================] - 0s 333ms/step - loss: 240935.2656 - rmse: 490.8516 - mse: 240935.2656 - val_loss: 125918.8125 - val_rmse: 354.8040 - val_mse: 125918.8125\n",
      "Epoch 5/60\n",
      "1/1 [==============================] - 0s 310ms/step - loss: 129080.8281 - rmse: 359.2782 - mse: 129080.8281 - val_loss: 101586.6016 - val_rmse: 318.6933 - val_mse: 101586.6016\n",
      "Epoch 6/60\n",
      "1/1 [==============================] - 0s 346ms/step - loss: 107187.4844 - rmse: 327.3950 - mse: 107187.4844 - val_loss: 80149.0000 - val_rmse: 283.0682 - val_mse: 80149.0000\n",
      "Epoch 7/60\n",
      "1/1 [==============================] - 0s 359ms/step - loss: 107730.5625 - rmse: 328.2233 - mse: 107730.5625 - val_loss: 61794.4141 - val_rmse: 248.5287 - val_mse: 61794.4141\n",
      "Epoch 8/60\n",
      "1/1 [==============================] - 0s 376ms/step - loss: 63323.0312 - rmse: 251.6407 - mse: 63323.0312 - val_loss: 46360.8359 - val_rmse: 215.2832 - val_mse: 46360.8359\n",
      "Epoch 9/60\n",
      "1/1 [==============================] - 0s 409ms/step - loss: 49346.0000 - rmse: 222.1396 - mse: 49346.0000 - val_loss: 33941.8320 - val_rmse: 184.2124 - val_mse: 33941.8320\n",
      "Epoch 10/60\n",
      "1/1 [==============================] - 0s 362ms/step - loss: 32862.8750 - rmse: 181.2812 - mse: 32862.8750 - val_loss: 24288.9062 - val_rmse: 155.8310 - val_mse: 24288.9062\n",
      "Epoch 11/60\n",
      "1/1 [==============================] - 0s 324ms/step - loss: 25907.9512 - rmse: 160.9595 - mse: 25907.9512 - val_loss: 18435.0293 - val_rmse: 135.7555 - val_mse: 18435.0293\n",
      "Epoch 12/60\n",
      "1/1 [==============================] - 0s 326ms/step - loss: 31308.9902 - rmse: 176.9435 - mse: 31308.9902 - val_loss: 13605.6035 - val_rmse: 116.6244 - val_mse: 13605.6035\n",
      "Epoch 13/60\n",
      "1/1 [==============================] - 0s 298ms/step - loss: 11045.5020 - rmse: 105.0976 - mse: 11045.5020 - val_loss: 9893.8027 - val_rmse: 99.4518 - val_mse: 9893.8027\n",
      "Epoch 14/60\n",
      "1/1 [==============================] - 0s 335ms/step - loss: 16046.6279 - rmse: 126.6753 - mse: 16046.6279 - val_loss: 7111.1343 - val_rmse: 84.3200 - val_mse: 7111.1343\n",
      "Epoch 15/60\n",
      "1/1 [==============================] - 0s 296ms/step - loss: 11055.2578 - rmse: 105.1440 - mse: 11055.2578 - val_loss: 4957.7266 - val_rmse: 70.4039 - val_mse: 4957.7266\n",
      "Epoch 16/60\n",
      "1/1 [==============================] - 0s 311ms/step - loss: 4973.2588 - rmse: 70.5213 - mse: 4973.2588 - val_loss: 3283.3857 - val_rmse: 57.2950 - val_mse: 3283.3857\n",
      "Epoch 17/60\n",
      "1/1 [==============================] - 0s 311ms/step - loss: 3376.9541 - rmse: 58.1116 - mse: 3376.9541 - val_loss: 2074.2800 - val_rmse: 45.5390 - val_mse: 2074.2800\n",
      "Epoch 18/60\n",
      "1/1 [==============================] - 0s 313ms/step - loss: 3394.6311 - rmse: 58.2635 - mse: 3394.6311 - val_loss: 1741.2700 - val_rmse: 41.7133 - val_mse: 1741.2700\n",
      "Epoch 19/60\n",
      "1/1 [==============================] - 0s 341ms/step - loss: 2470.9341 - rmse: 49.7085 - mse: 2470.9341 - val_loss: 1548.7144 - val_rmse: 39.3491 - val_mse: 1548.7144\n",
      "Epoch 20/60\n",
      "1/1 [==============================] - 0s 316ms/step - loss: 1498.2612 - rmse: 38.7074 - mse: 1498.2612 - val_loss: 1381.8541 - val_rmse: 37.1680 - val_mse: 1381.8541\n",
      "Epoch 21/60\n",
      "1/1 [==============================] - 0s 316ms/step - loss: 1967.9053 - rmse: 44.3611 - mse: 1967.9053 - val_loss: 1203.6268 - val_rmse: 34.6912 - val_mse: 1203.6268\n",
      "Epoch 22/60\n",
      "1/1 [==============================] - 0s 314ms/step - loss: 1669.7794 - rmse: 40.8629 - mse: 1669.7794 - val_loss: 1045.9216 - val_rmse: 32.3355 - val_mse: 1045.9216\n",
      "Epoch 23/60\n",
      "1/1 [==============================] - 0s 331ms/step - loss: 783.5552 - rmse: 27.9921 - mse: 783.5552 - val_loss: 891.8424 - val_rmse: 29.8615 - val_mse: 891.8424\n",
      "Epoch 24/60\n",
      "1/1 [==============================] - 0s 335ms/step - loss: 1297.6493 - rmse: 36.0229 - mse: 1297.6493 - val_loss: 780.8120 - val_rmse: 27.9378 - val_mse: 780.8120\n",
      "Epoch 25/60\n",
      "1/1 [==============================] - 0s 364ms/step - loss: 853.9623 - rmse: 29.2226 - mse: 853.9623 - val_loss: 665.6962 - val_rmse: 25.7962 - val_mse: 665.6962\n",
      "Epoch 26/60\n",
      "1/1 [==============================] - 0s 373ms/step - loss: 679.4371 - rmse: 26.0660 - mse: 679.4371 - val_loss: 566.0352 - val_rmse: 23.7843 - val_mse: 566.0352\n",
      "Epoch 27/60\n",
      "1/1 [==============================] - 0s 364ms/step - loss: 595.5414 - rmse: 24.4037 - mse: 595.5414 - val_loss: 485.7783 - val_rmse: 22.0328 - val_mse: 485.7783\n",
      "Epoch 28/60\n",
      "1/1 [==============================] - 0s 356ms/step - loss: 610.2981 - rmse: 24.7042 - mse: 610.2981 - val_loss: 409.8261 - val_rmse: 20.2410 - val_mse: 409.8261\n",
      "Epoch 29/60\n",
      "1/1 [==============================] - 0s 359ms/step - loss: 482.8940 - rmse: 21.9748 - mse: 482.8940 - val_loss: 346.9430 - val_rmse: 18.6191 - val_mse: 346.9430\n",
      "Epoch 30/60\n",
      "1/1 [==============================] - 0s 316ms/step - loss: 392.3479 - rmse: 19.8078 - mse: 392.3479 - val_loss: 304.6580 - val_rmse: 17.4406 - val_mse: 304.6580\n",
      "Epoch 31/60\n",
      "1/1 [==============================] - 0s 308ms/step - loss: 307.3496 - rmse: 17.5314 - mse: 307.3496 - val_loss: 257.9175 - val_rmse: 16.0508 - val_mse: 257.9175\n",
      "Epoch 32/60\n",
      "1/1 [==============================] - 0s 305ms/step - loss: 218.5444 - rmse: 14.7832 - mse: 218.5444 - val_loss: 218.2923 - val_rmse: 14.7664 - val_mse: 218.2923\n",
      "Epoch 33/60\n",
      "1/1 [==============================] - 0s 304ms/step - loss: 222.9926 - rmse: 14.9329 - mse: 222.9926 - val_loss: 182.9690 - val_rmse: 13.5206 - val_mse: 182.9690\n",
      "Epoch 34/60\n",
      "1/1 [==============================] - 0s 311ms/step - loss: 172.8756 - rmse: 13.1482 - mse: 172.8756 - val_loss: 169.9327 - val_rmse: 13.0208 - val_mse: 169.9327\n",
      "Epoch 35/60\n",
      "1/1 [==============================] - 0s 332ms/step - loss: 180.8548 - rmse: 13.4482 - mse: 180.8548 - val_loss: 148.7085 - val_rmse: 12.1854 - val_mse: 148.7085\n",
      "Epoch 36/60\n",
      "1/1 [==============================] - 0s 295ms/step - loss: 105.5979 - rmse: 10.2761 - mse: 105.5979 - val_loss: 129.0377 - val_rmse: 11.3494 - val_mse: 129.0377\n",
      "Epoch 37/60\n",
      "1/1 [==============================] - 0s 287ms/step - loss: 104.6722 - rmse: 10.2309 - mse: 104.6722 - val_loss: 123.3001 - val_rmse: 11.0983 - val_mse: 123.3001\n",
      "Epoch 38/60\n",
      "1/1 [==============================] - 0s 298ms/step - loss: 119.2165 - rmse: 10.9186 - mse: 119.2165 - val_loss: 110.1318 - val_rmse: 10.4675 - val_mse: 110.1318\n",
      "Epoch 39/60\n",
      "1/1 [==============================] - 0s 287ms/step - loss: 162.1923 - rmse: 12.7355 - mse: 162.1923 - val_loss: 103.2590 - val_rmse: 10.1439 - val_mse: 103.2590\n",
      "Epoch 40/60\n",
      "1/1 [==============================] - 0s 323ms/step - loss: 86.1657 - rmse: 9.2825 - mse: 86.1657 - val_loss: 97.4795 - val_rmse: 9.8649 - val_mse: 97.4795\n",
      "Epoch 41/60\n",
      "1/1 [==============================] - 0s 414ms/step - loss: 132.8986 - rmse: 11.5282 - mse: 132.8986 - val_loss: 96.2625 - val_rmse: 9.7782 - val_mse: 96.2625\n",
      "Epoch 42/60\n",
      "1/1 [==============================] - 0s 345ms/step - loss: 83.5305 - rmse: 9.1395 - mse: 83.5305 - val_loss: 103.8295 - val_rmse: 10.1671 - val_mse: 103.8295\n",
      "Epoch 43/60\n",
      "1/1 [==============================] - 0s 388ms/step - loss: 143.5650 - rmse: 11.9819 - mse: 143.5650 - val_loss: 103.5971 - val_rmse: 10.1575 - val_mse: 103.5971\n",
      "Epoch 44/60\n",
      "1/1 [==============================] - 0s 391ms/step - loss: 91.0127 - rmse: 9.5401 - mse: 91.0127 - val_loss: 106.0257 - val_rmse: 10.2850 - val_mse: 106.0257\n",
      "Epoch 45/60\n",
      "1/1 [==============================] - 0s 351ms/step - loss: 83.3987 - rmse: 9.1323 - mse: 83.3987 - val_loss: 103.1251 - val_rmse: 10.1388 - val_mse: 103.1251\n",
      "Epoch 46/60\n",
      "1/1 [==============================] - 0s 323ms/step - loss: 123.7905 - rmse: 11.1261 - mse: 123.7905 - val_loss: 107.9636 - val_rmse: 10.3770 - val_mse: 107.9636\n",
      "Epoch 47/60\n",
      "1/1 [==============================] - 0s 289ms/step - loss: 119.7920 - rmse: 10.9450 - mse: 119.7920 - val_loss: 113.8425 - val_rmse: 10.6665 - val_mse: 113.8425\n",
      "Epoch 48/60\n",
      "1/1 [==============================] - 0s 298ms/step - loss: 104.3577 - rmse: 10.2156 - mse: 104.3577 - val_loss: 114.8009 - val_rmse: 10.6967 - val_mse: 114.8009\n",
      "Epoch 49/60\n",
      "1/1 [==============================] - 0s 308ms/step - loss: 133.1333 - rmse: 11.5383 - mse: 133.1333 - val_loss: 116.5631 - val_rmse: 10.7756 - val_mse: 116.5631\n",
      "Epoch 50/60\n",
      "1/1 [==============================] - 0s 311ms/step - loss: 139.4605 - rmse: 11.8093 - mse: 139.4605 - val_loss: 116.9089 - val_rmse: 10.8058 - val_mse: 116.9089\n",
      "Epoch 51/60\n",
      "1/1 [==============================] - 0s 322ms/step - loss: 121.7900 - rmse: 11.0359 - mse: 121.7900 - val_loss: 119.2725 - val_rmse: 10.9113 - val_mse: 119.2725\n",
      "Epoch 52/60\n",
      "1/1 [==============================] - 0s 305ms/step - loss: 141.3383 - rmse: 11.8886 - mse: 141.3383 - val_loss: 121.5130 - val_rmse: 11.0197 - val_mse: 121.5130\n",
      "Epoch 53/60\n",
      "1/1 [==============================] - 0s 318ms/step - loss: 141.1036 - rmse: 11.8787 - mse: 141.1036 - val_loss: 117.1947 - val_rmse: 10.8207 - val_mse: 117.1947\n",
      "Epoch 54/60\n",
      "1/1 [==============================] - 0s 314ms/step - loss: 164.5617 - rmse: 12.8282 - mse: 164.5617 - val_loss: 113.3123 - val_rmse: 10.6299 - val_mse: 113.3123\n",
      "Epoch 55/60\n",
      "1/1 [==============================] - 0s 292ms/step - loss: 117.2415 - rmse: 10.8278 - mse: 117.2415 - val_loss: 113.9166 - val_rmse: 10.6558 - val_mse: 113.9166\n",
      "Epoch 56/60\n",
      "1/1 [==============================] - 0s 314ms/step - loss: 129.5316 - rmse: 11.3812 - mse: 129.5316 - val_loss: 120.0628 - val_rmse: 10.9521 - val_mse: 120.0628\n",
      "Epoch 57/60\n",
      "1/1 [==============================] - 0s 319ms/step - loss: 147.2329 - rmse: 12.1340 - mse: 147.2329 - val_loss: 117.2596 - val_rmse: 10.8240 - val_mse: 117.2596\n",
      "Epoch 58/60\n",
      "1/1 [==============================] - 0s 372ms/step - loss: 106.0178 - rmse: 10.2965 - mse: 106.0178 - val_loss: 116.2097 - val_rmse: 10.7677 - val_mse: 116.2097\n",
      "Epoch 59/60\n",
      "1/1 [==============================] - 0s 368ms/step - loss: 127.5700 - rmse: 11.2947 - mse: 127.5700 - val_loss: 112.8814 - val_rmse: 10.6181 - val_mse: 112.8814\n",
      "Epoch 60/60\n",
      "1/1 [==============================] - 0s 381ms/step - loss: 85.0615 - rmse: 9.2229 - mse: 85.0615 - val_loss: 109.8882 - val_rmse: 10.4734 - val_mse: 109.8882\n",
      "CPU times: user 42.2 s, sys: 9.65 s, total: 51.9 s\n",
      "Wall time: 35.1 s\n"
     ]
    }
   ],
   "source": [
    "%%time\n",
    "steps_per_epoch = NUM_TRAIN_EXAMPLES // (BATCH_SIZE * NUM_EVALS)\n",
    "\n",
    "LOGDIR = \"./taxi_trained\"\n",
    "history = model.fit(x=trainds,\n",
    "                    steps_per_epoch=steps_per_epoch,\n",
    "                    epochs=NUM_EVALS,\n",
    "                    validation_data=evalds,\n",
    "                    callbacks=[TensorBoard(LOGDIR)])"
   ]
  },
  {
   "cell_type": "code",
   "execution_count": 14,
   "metadata": {},
   "outputs": [
    {
     "data": {
      "text/plain": [
       "<AxesSubplot:>"
      ]
     },
     "execution_count": 14,
     "metadata": {},
     "output_type": "execute_result"
    },
    {
     "data": {
      "image/png": "[encoded data removed]",
      "text/plain": [
       "<Figure size 432x288 with 1 Axes>"
      ]
     },
     "metadata": {
      "needs_background": "light"
     },
     "output_type": "display_data"
    }
   ],
   "source": [
    "RMSE_COLS = ['rmse', 'val_rmse']\n",
    "\n",
    "pd.DataFrame(history.history)[RMSE_COLS].plot()"
   ]
  },
  {
   "cell_type": "code",
   "execution_count": 15,
   "metadata": {},
   "outputs": [
    {
     "name": "stdout",
     "output_type": "stream",
     "text": [
      "WARNING:tensorflow:Layers in a Sequential model should only have a single input tensor, but we receive a <class 'dict'> input: {'dayofweek': <tf.Tensor 'ExpandDims:0' shape=(1, 1) dtype=int32>, 'hourofday': <tf.Tensor 'ExpandDims_3:0' shape=(1, 1) dtype=int32>, 'pickup_longitude': <tf.Tensor 'ExpandDims_5:0' shape=(1, 1) dtype=float32>, 'pickup_latitude': <tf.Tensor 'ExpandDims_4:0' shape=(1, 1) dtype=float32>, 'dropoff_longitude': <tf.Tensor 'ExpandDims_2:0' shape=(1, 1) dtype=float32>, 'dropoff_latitude': <tf.Tensor 'ExpandDims_1:0' shape=(1, 1) dtype=float32>, 'traffic_last_5min': <tf.Tensor 'ExpandDims_6:0' shape=(1, 1) dtype=int32>}\n",
      "Consider rewriting this model with the Functional API.\n"
     ]
    },
    {
     "data": {
      "text/plain": [
       "array([[3.8553317]], dtype=float32)"
      ]
     },
     "execution_count": 15,
     "metadata": {},
     "output_type": "execute_result"
    }
   ],
   "source": [
    "model.predict(x={\"dayofweek\": tf.convert_to_tensor([6]),\n",
    "                 \"hourofday\": tf.convert_to_tensor([17]),\n",
    "                 \"pickup_longitude\": tf.convert_to_tensor([-73.982683]),\n",
    "                 \"pickup_latitude\": tf.convert_to_tensor([40.742104]),\n",
    "                 \"dropoff_longitude\": tf.convert_to_tensor([-73.983766]),\n",
    "                 \"dropoff_latitude\": tf.convert_to_tensor([40.755174]),\n",
    "                \"traffic_last_5min\": tf.convert_to_tensor([114])},\n",
    "              steps=1)"
   ]
  },
  {
   "cell_type": "markdown",
   "metadata": {},
   "source": [
    "## Export and deploy model"
   ]
  },
  {
   "cell_type": "code",
   "execution_count": 16,
   "metadata": {},
   "outputs": [
    {
     "name": "stdout",
     "output_type": "stream",
     "text": [
      "WARNING:tensorflow:Layers in a Sequential model should only have a single input tensor, but we receive a <class 'collections.OrderedDict'> input: OrderedDict([('dayofweek', <tf.Tensor 'dayofweek:0' shape=(None, 1) dtype=float32>), ('hourofday', <tf.Tensor 'hourofday:0' shape=(None, 1) dtype=float32>), ('pickup_longitude', <tf.Tensor 'pickup_longitude:0' shape=(None, 1) dtype=float32>), ('pickup_latitude', <tf.Tensor 'pickup_latitude:0' shape=(None, 1) dtype=float32>), ('dropoff_longitude', <tf.Tensor 'dropoff_longitude:0' shape=(None, 1) dtype=float32>), ('dropoff_latitude', <tf.Tensor 'dropoff_latitude:0' shape=(None, 1) dtype=float32>), ('traffic_last_5min', <tf.Tensor 'traffic_last_5min:0' shape=(None, 1) dtype=float32>)])\n",
      "Consider rewriting this model with the Functional API.\n",
      "WARNING:tensorflow:Layers in a Sequential model should only have a single input tensor, but we receive a <class 'collections.OrderedDict'> input: OrderedDict([('dayofweek', <tf.Tensor 'dayofweek:0' shape=(None, 1) dtype=float32>), ('hourofday', <tf.Tensor 'hourofday:0' shape=(None, 1) dtype=float32>), ('pickup_longitude', <tf.Tensor 'pickup_longitude:0' shape=(None, 1) dtype=float32>), ('pickup_latitude', <tf.Tensor 'pickup_latitude:0' shape=(None, 1) dtype=float32>), ('dropoff_longitude', <tf.Tensor 'dropoff_longitude:0' shape=(None, 1) dtype=float32>), ('dropoff_latitude', <tf.Tensor 'dropoff_latitude:0' shape=(None, 1) dtype=float32>), ('traffic_last_5min', <tf.Tensor 'traffic_last_5min:0' shape=(None, 1) dtype=float32>)])\n",
      "Consider rewriting this model with the Functional API.\n",
      "WARNING:tensorflow:Layers in a Sequential model should only have a single input tensor, but we receive a <class 'collections.OrderedDict'> input: OrderedDict([('dayofweek', <tf.Tensor 'dayofweek:0' shape=(None, 1) dtype=float32>), ('hourofday', <tf.Tensor 'hourofday:0' shape=(None, 1) dtype=float32>), ('pickup_longitude', <tf.Tensor 'pickup_longitude:0' shape=(None, 1) dtype=float32>), ('pickup_latitude', <tf.Tensor 'pickup_latitude:0' shape=(None, 1) dtype=float32>), ('dropoff_longitude', <tf.Tensor 'dropoff_longitude:0' shape=(None, 1) dtype=float32>), ('dropoff_latitude', <tf.Tensor 'dropoff_latitude:0' shape=(None, 1) dtype=float32>), ('traffic_last_5min', <tf.Tensor 'traffic_last_5min:0' shape=(None, 1) dtype=float32>)])\n",
      "Consider rewriting this model with the Functional API.\n",
      "WARNING:tensorflow:Layers in a Sequential model should only have a single input tensor, but we receive a <class 'collections.OrderedDict'> input: OrderedDict([('dayofweek', <tf.Tensor 'inputs:0' shape=(None, 1) dtype=float32>), ('hourofday', <tf.Tensor 'inputs_3:0' shape=(None, 1) dtype=float32>), ('pickup_longitude', <tf.Tensor 'inputs_5:0' shape=(None, 1) dtype=float32>), ('pickup_latitude', <tf.Tensor 'inputs_4:0' shape=(None, 1) dtype=float32>), ('dropoff_longitude', <tf.Tensor 'inputs_2:0' shape=(None, 1) dtype=float32>), ('dropoff_latitude', <tf.Tensor 'inputs_1:0' shape=(None, 1) dtype=float32>), ('traffic_last_5min', <tf.Tensor 'inputs_6:0' shape=(None, 1) dtype=float32>)])\n",
      "Consider rewriting this model with the Functional API.\n",
      "WARNING:tensorflow:Layers in a Sequential model should only have a single input tensor, but we receive a <class 'collections.OrderedDict'> input: OrderedDict([('dayofweek', <tf.Tensor 'inputs:0' shape=(None, 1) dtype=float32>), ('hourofday', <tf.Tensor 'inputs_3:0' shape=(None, 1) dtype=float32>), ('pickup_longitude', <tf.Tensor 'inputs_5:0' shape=(None, 1) dtype=float32>), ('pickup_latitude', <tf.Tensor 'inputs_4:0' shape=(None, 1) dtype=float32>), ('dropoff_longitude', <tf.Tensor 'inputs_2:0' shape=(None, 1) dtype=float32>), ('dropoff_latitude', <tf.Tensor 'inputs_1:0' shape=(None, 1) dtype=float32>), ('traffic_last_5min', <tf.Tensor 'inputs_6:0' shape=(None, 1) dtype=float32>)])\n",
      "Consider rewriting this model with the Functional API.\n",
      "WARNING:tensorflow:Layers in a Sequential model should only have a single input tensor, but we receive a <class 'collections.OrderedDict'> input: OrderedDict([('dayofweek', <tf.Tensor 'dayofweek:0' shape=(None, 1) dtype=float32>), ('hourofday', <tf.Tensor 'hourofday:0' shape=(None, 1) dtype=float32>), ('pickup_longitude', <tf.Tensor 'pickup_longitude:0' shape=(None, 1) dtype=float32>), ('pickup_latitude', <tf.Tensor 'pickup_latitude:0' shape=(None, 1) dtype=float32>), ('dropoff_longitude', <tf.Tensor 'dropoff_longitude:0' shape=(None, 1) dtype=float32>), ('dropoff_latitude', <tf.Tensor 'dropoff_latitude:0' shape=(None, 1) dtype=float32>), ('traffic_last_5min', <tf.Tensor 'traffic_last_5min:0' shape=(None, 1) dtype=float32>)])\n",
      "Consider rewriting this model with the Functional API.\n",
      "WARNING:tensorflow:Layers in a Sequential model should only have a single input tensor, but we receive a <class 'collections.OrderedDict'> input: OrderedDict([('dayofweek', <tf.Tensor 'dayofweek:0' shape=(None, 1) dtype=float32>), ('hourofday', <tf.Tensor 'hourofday:0' shape=(None, 1) dtype=float32>), ('pickup_longitude', <tf.Tensor 'pickup_longitude:0' shape=(None, 1) dtype=float32>), ('pickup_latitude', <tf.Tensor 'pickup_latitude:0' shape=(None, 1) dtype=float32>), ('dropoff_longitude', <tf.Tensor 'dropoff_longitude:0' shape=(None, 1) dtype=float32>), ('dropoff_latitude', <tf.Tensor 'dropoff_latitude:0' shape=(None, 1) dtype=float32>), ('traffic_last_5min', <tf.Tensor 'traffic_last_5min:0' shape=(None, 1) dtype=float32>)])\n",
      "Consider rewriting this model with the Functional API.\n",
      "WARNING:tensorflow:Layers in a Sequential model should only have a single input tensor, but we receive a <class 'collections.OrderedDict'> input: OrderedDict([('dayofweek', <tf.Tensor 'inputs/dayofweek:0' shape=(None, 1) dtype=float32>), ('hourofday', <tf.Tensor 'inputs/hourofday:0' shape=(None, 1) dtype=float32>), ('pickup_longitude', <tf.Tensor 'inputs/pickup_longitude:0' shape=(None, 1) dtype=float32>), ('pickup_latitude', <tf.Tensor 'inputs/pickup_latitude:0' shape=(None, 1) dtype=float32>), ('dropoff_longitude', <tf.Tensor 'inputs/dropoff_longitude:0' shape=(None, 1) dtype=float32>), ('dropoff_latitude', <tf.Tensor 'inputs/dropoff_latitude:0' shape=(None, 1) dtype=float32>), ('traffic_last_5min', <tf.Tensor 'inputs/traffic_last_5min:0' shape=(None, 1) dtype=float32>)])\n",
      "Consider rewriting this model with the Functional API.\n",
      "WARNING:tensorflow:Layers in a Sequential model should only have a single input tensor, but we receive a <class 'collections.OrderedDict'> input: OrderedDict([('dayofweek', <tf.Tensor 'inputs/dayofweek:0' shape=(None, 1) dtype=float32>), ('hourofday', <tf.Tensor 'inputs/hourofday:0' shape=(None, 1) dtype=float32>), ('pickup_longitude', <tf.Tensor 'inputs/pickup_longitude:0' shape=(None, 1) dtype=float32>), ('pickup_latitude', <tf.Tensor 'inputs/pickup_latitude:0' shape=(None, 1) dtype=float32>), ('dropoff_longitude', <tf.Tensor 'inputs/dropoff_longitude:0' shape=(None, 1) dtype=float32>), ('dropoff_latitude', <tf.Tensor 'inputs/dropoff_latitude:0' shape=(None, 1) dtype=float32>), ('traffic_last_5min', <tf.Tensor 'inputs/traffic_last_5min:0' shape=(None, 1) dtype=float32>)])\n",
      "Consider rewriting this model with the Functional API.\n",
      "INFO:tensorflow:Assets written to: ./export/savedmodel/20210604050957/assets\n"
     ]
    }
   ],
   "source": [
    "OUTPUT_DIR = \"./export/savedmodel\"\n",
    "shutil.rmtree(OUTPUT_DIR, ignore_errors=True)\n",
    "EXPORT_PATH = os.path.join(OUTPUT_DIR,\n",
    "                           datetime.datetime.now().strftime(\"%Y%m%d%H%M%S\"))\n",
    "tf.saved_model.save(model, EXPORT_PATH)  # with default serving function\n",
    "os.environ['EXPORT_PATH'] = EXPORT_PATH"
   ]
  },
  {
   "cell_type": "code",
   "execution_count": 17,
   "metadata": {},
   "outputs": [
    {
     "name": "stdout",
     "output_type": "stream",
     "text": [
      "taxifare already exists\n",
      "Deleting already existing taxifare:traffic ... \n",
      "Please run this cell again if you don't see a Creating message ... \n"
     ]
    },
    {
     "name": "stderr",
     "output_type": "stream",
     "text": [
      "Using endpoint [https://us-central1-ml.googleapis.com/]\n",
      "Using endpoint [https://us-central1-ml.googleapis.com/]\n",
      "Using endpoint [https://us-central1-ml.googleapis.com/]\n",
      "This will delete version [traffic]...\n",
      "\n",
      "Do you want to continue (Y/n)?  \n",
      "Deleting version [traffic]......\n",
      "......................................................done.\n"
     ]
    }
   ],
   "source": [
    "%%bash\n",
    "PROJECT=${PROJECT}\n",
    "BUCKET=${BUCKET}\n",
    "REGION=${REGION}\n",
    "MODEL_NAME=taxifare\n",
    "VERSION_NAME=traffic\n",
    "\n",
    "if [[ $(gcloud ai-platform models list --format='value(name)' --region=$REGION | grep \"^$MODEL_NAME$\") ]]; then\n",
    "    echo \"$MODEL_NAME already exists\"\n",
    "else\n",
    "    # create model\n",
    "    echo \"Creating $MODEL_NAME\"\n",
    "    gcloud ai-platform models create --region=$REGION $MODEL_NAME\n",
    "fi\n",
    "\n",
    "if [[ $(gcloud ai-platform versions list --model $MODEL_NAME --format='value(name)' --region=$REGION | grep \"^$VERSION_NAME$\") ]]; then\n",
    "    echo \"Deleting already existing $MODEL_NAME:$VERSION_NAME ... \"\n",
    "    gcloud ai-platform versions delete --model=$MODEL_NAME $VERSION_NAME --region=$REGION\n",
    "    echo \"Please run this cell again if you don't see a Creating message ... \"\n",
    "    sleep 2\n",
    "fi\n",
    "\n",
    "# create model\n",
    "echo \"Creating $MODEL_NAME:$VERSION_NAME\"\n",
    "gcloud ai-platform versions create --model=$MODEL_NAME $VERSION_NAME --async \\\n",
    "       --framework=tensorflow --python-version=3.5 --runtime-version=1.14 \\\n",
    "       --origin=${EXPORT_PATH} --staging-bucket=gs://$BUCKET --region=$REGION"
   ]
  },
  {
   "cell_type": "markdown",
   "metadata": {},
   "source": [
    "Copyright 2019 Google Inc. Licensed under the Apache License, Version 2.0 (the \"License\"); you may not use this file except in compliance with the License. You may obtain a copy of the License at http://www.apache.org/licenses/LICENSE-2.0 Unless required by applicable law or agreed to in writing, software distributed under the License is distributed on an \"AS IS\" BASIS, WITHOUT WARRANTIES OR CONDITIONS OF ANY KIND, either express or implied. See the License for the specific language governing permissions and limitations under the License"
   ]
  }
 ],
 "metadata": {
  "environment": {
   "name": "tf2-gpu.2-1.m69",
   "type": "gcloud",
   "uri": "gcr.io/deeplearning-platform-release/tf2-gpu.2-1:m69"
  },
  "kernelspec": {
   "display_name": "Python 3",
   "language": "python",
   "name": "python3"
  },
  "language_info": {
   "codemirror_mode": {
    "name": "ipython",
    "version": 3
   },
   "file_extension": ".py",
   "mimetype": "text/x-python",
   "name": "python",
   "nbconvert_exporter": "python",
   "pygments_lexer": "ipython3",
   "version": "3.7.10"
  }
 },
 "nbformat": 4,
 "nbformat_minor": 4
}

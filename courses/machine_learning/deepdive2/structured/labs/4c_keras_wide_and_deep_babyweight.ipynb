{
 "cells": [
  {
   "cell_type": "markdown",
   "metadata": {},
   "source": [
    "# LAB 4c:  Create Keras Wide and Deep model.\n",
    "\n",
    "**Learning Objectives**\n",
    "\n",
    "1. Set CSV Columns, label column, and column defaults\n",
    "1. Make dataset of features and label from CSV files\n",
    "1. Create input layers for raw features\n",
    "1. Create feature columns for inputs\n",
    "1. Create wide layer, deep dense hidden layers, and output layer\n",
    "1. Create custom evaluation metric\n",
    "1. Build wide and deep model tying all of the pieces together\n",
    "1. Train and evaluate\n",
    "\n",
    "\n",
    "## Introduction \n",
    "In this notebook, we'll be using Keras to create a wide and deep model to predict the weight of a baby before it is born.\n",
    "\n",
    "We'll start by defining the CSV column names, label column, and column defaults for our data inputs. Then, we'll construct a tf.data Dataset of features and the label from the CSV files and create inputs layers for the raw features. Next, we'll set up feature columns for the model inputs and build a wide and deep neural network in Keras. We'll create a custom evaluation metric and build our wide and deep model. Finally, we'll train and evaluate our model.\n",
    "\n",
    "Each learning objective will correspond to a __#TODO__ in this student lab notebook -- try to complete this notebook first and then review the [solution notebook](../solutions/4c_keras_wide_and_deep_babyweight.ipynb)."
   ]
  },
  {
   "cell_type": "markdown",
   "metadata": {
    "colab_type": "text",
    "id": "hJ7ByvoXzpVI"
   },
   "source": [
    "## Load necessary libraries"
   ]
  },
  {
   "cell_type": "code",
   "execution_count": 2,
   "metadata": {},
   "outputs": [
    {
     "name": "stdout",
     "output_type": "stream",
     "text": [
      "2.4.1\n"
     ]
    }
   ],
   "source": [
    "import datetime\n",
    "import os\n",
    "import shutil\n",
    "import matplotlib.pyplot as plt\n",
    "import numpy as np\n",
    "import tensorflow as tf\n",
    "print(tf.__version__)"
   ]
  },
  {
   "cell_type": "markdown",
   "metadata": {},
   "source": [
    "Set your bucket:"
   ]
  },
  {
   "cell_type": "code",
   "execution_count": 3,
   "metadata": {},
   "outputs": [],
   "source": [
    "BUCKET = \"qwiklabs-gcp-04-5e7d5c24e704\"\n",
    "\n",
    "os.environ['BUCKET'] = BUCKET"
   ]
  },
  {
   "cell_type": "markdown",
   "metadata": {},
   "source": [
    "## Verify CSV files exist\n",
    "\n",
    "In the seventh lab of this series [1b_prepare_data_babyweight](../solutions/1b_prepare_data_babyweight.ipynb), we sampled from BigQuery our train, eval, and test CSV files. Verify that they exist, otherwise go back to that lab and create them."
   ]
  },
  {
   "cell_type": "code",
   "execution_count": 4,
   "metadata": {
    "collapsed": false,
    "jupyter": {
     "outputs_hidden": false
    }
   },
   "outputs": [],
   "source": [
    "TRAIN_DATA_PATH = \"gs://{bucket}/babyweight/data/train*.csv\".format(bucket=BUCKET)\n",
    "EVAL_DATA_PATH = \"gs://{bucket}/babyweight/data/eval*.csv\".format(bucket=BUCKET)"
   ]
  },
  {
   "cell_type": "code",
   "execution_count": 5,
   "metadata": {},
   "outputs": [
    {
     "name": "stdout",
     "output_type": "stream",
     "text": [
      "gs://qwiklabs-gcp-04-5e7d5c24e704/babyweight/data/train000000000000.csv\n",
      "gs://qwiklabs-gcp-04-5e7d5c24e704/babyweight/data/train000000000001.csv\n",
      "gs://qwiklabs-gcp-04-5e7d5c24e704/babyweight/data/train000000000002.csv\n",
      "gs://qwiklabs-gcp-04-5e7d5c24e704/babyweight/data/train000000000003.csv\n",
      "gs://qwiklabs-gcp-04-5e7d5c24e704/babyweight/data/train000000000004.csv\n",
      "gs://qwiklabs-gcp-04-5e7d5c24e704/babyweight/data/train000000000005.csv\n"
     ]
    }
   ],
   "source": [
    "!gsutil ls $TRAIN_DATA_PATH"
   ]
  },
  {
   "cell_type": "code",
   "execution_count": 6,
   "metadata": {},
   "outputs": [
    {
     "name": "stdout",
     "output_type": "stream",
     "text": [
      "gs://qwiklabs-gcp-04-5e7d5c24e704/babyweight/data/eval000000000000.csv\n",
      "gs://qwiklabs-gcp-04-5e7d5c24e704/babyweight/data/eval000000000001.csv\n"
     ]
    }
   ],
   "source": [
    "!gsutil ls $EVAL_DATA_PATH"
   ]
  },
  {
   "cell_type": "markdown",
   "metadata": {},
   "source": [
    "## Create Keras model"
   ]
  },
  {
   "cell_type": "markdown",
   "metadata": {},
   "source": [
    "### Lab Task #1: Set CSV Columns, label column, and column defaults.\n",
    "\n",
    "Now that we have verified that our CSV files exist, we need to set a few things that we will be using in our input function.\n",
    "* `CSV_COLUMNS` are going to be our header names of our columns. Make sure that they are in the same order as in the CSV files\n",
    "* `LABEL_COLUMN` is the header name of the column that is our label. We will need to know this to pop it from our features dictionary.\n",
    "* `DEFAULTS` is a list with the same length as `CSV_COLUMNS`, i.e. there is a default for each column in our CSVs. Each element is a list itself with the default value for that CSV column."
   ]
  },
  {
   "cell_type": "code",
   "execution_count": 7,
   "metadata": {},
   "outputs": [],
   "source": [
    "# Determine CSV, label, and key columns\n",
    "# TODO: Create list of string column headers, make sure order matches.\n",
    "CSV_COLUMNS = [\"weight_pounds\",\"is_male\",\"mother_age\",\"plurality\",\"gestation_weeks\"]\n",
    "\n",
    "# TODO: Add string name for label column\n",
    "LABEL_COLUMN = \"weight_pounds\"\n",
    "\n",
    "# Set default values for each CSV column as a list of lists.\n",
    "# Treat is_male and plurality as strings.\n",
    "DEFAULTS = [[0.0],['null'],[0.0],['null'],[0.0]]"
   ]
  },
  {
   "cell_type": "markdown",
   "metadata": {},
   "source": [
    "### Lab Task #2: Make dataset of features and label from CSV files.\n",
    "\n",
    "Next, we will write an input_fn to read the data. Since we are reading from CSV files we can save ourself from trying to recreate the wheel and can use `tf.data.experimental.make_csv_dataset`. This will create a CSV dataset object. However we will need to divide the columns up into features and a label. We can do this by applying the map method to our dataset and popping our label column off of our dictionary of feature tensors."
   ]
  },
  {
   "cell_type": "code",
   "execution_count": 8,
   "metadata": {},
   "outputs": [],
   "source": [
    "def features_and_labels(row_data):\n",
    "    \"\"\"Splits features and labels from feature dictionary.\n",
    "\n",
    "    Args:\n",
    "        row_data: Dictionary of CSV column names and tensor values.\n",
    "    Returns:\n",
    "        Dictionary of feature tensors and label tensor.\n",
    "    \"\"\"\n",
    "    label = row_data.pop(LABEL_COLUMN)\n",
    "\n",
    "    return row_data, label  # features, label\n",
    "\n",
    "\n",
    "def load_dataset(pattern, batch_size=1, mode='eval'):\n",
    "    \"\"\"Loads dataset using the tf.data API from CSV files.\n",
    "\n",
    "    Args:\n",
    "        pattern: str, file pattern to glob into list of files.\n",
    "        batch_size: int, the number of examples per batch.\n",
    "        mode: 'eval' | 'train' to determine if training or evaluating.\n",
    "    Returns:\n",
    "        `Dataset` object.\n",
    "    \"\"\"\n",
    "    # TODO: Make a CSV dataset\n",
    "    dataset = tf.data.experimental.make_csv_dataset(\n",
    "    file_pattern = pattern,\n",
    "    batch_size = batch_size,\n",
    "    column_names = CSV_COLUMNS,\n",
    "    column_defaults = DEFAULTS)\n",
    "\n",
    "    # TODO: Map dataset to features and label\n",
    "    dataset = dataset.map(\n",
    "    map_func = features_and_labels)  # features, label\n",
    "\n",
    "    # Shuffle and repeat for training\n",
    "    if mode == 'train':\n",
    "        dataset = dataset.shuffle(buffer_size=1000).repeat()\n",
    "\n",
    "    # Take advantage of multi-threading; 1=AUTOTUNE\n",
    "    dataset = dataset.prefetch(buffer_size=1)\n",
    "\n",
    "    return dataset"
   ]
  },
  {
   "cell_type": "markdown",
   "metadata": {},
   "source": [
    "### Lab Task #3: Create input layers for raw features.\n",
    "\n",
    "We'll need to get the data read in by our input function to our model function, but just how do we go about connecting the dots? We can use Keras input layers [(tf.Keras.layers.Input)](https://www.tensorflow.org/api_docs/python/tf/keras/Input) by defining:\n",
    "* shape: A shape tuple (integers), not including the batch size. For instance, shape=(32,) indicates that the expected input will be batches of 32-dimensional vectors. Elements of this tuple can be None; 'None' elements represent dimensions where the shape is not known.\n",
    "* name: An optional name string for the layer. Should be unique in a model (do not reuse the same name twice). It will be autogenerated if it isn't provided.\n",
    "* dtype: The data type expected by the input, as a string (float32, float64, int32...)"
   ]
  },
  {
   "cell_type": "code",
   "execution_count": 15,
   "metadata": {},
   "outputs": [],
   "source": [
    "def create_input_layers():\n",
    "    \"\"\"Creates dictionary of input layers for each feature.\n",
    "\n",
    "    Returns:\n",
    "        Dictionary of `tf.Keras.layers.Input` layers for each feature.\n",
    "    \"\"\"\n",
    "    # TODO: Create dictionary of tf.keras.layers.Input for each dense feature\n",
    "    deep_inputs = {\n",
    "        colname: tf.keras.layers.Input(\n",
    "            name=colname, shape=(), dtype=\"float32\")\n",
    "        for colname in [\"mother_age\", \"gestation_weeks\"]\n",
    "    }\n",
    "\n",
    "    # TODO: Create dictionary of tf.keras.layers.Input for each sparse feature\n",
    "    wide_inputs = {\n",
    "        colname: tf.keras.layers.Input(\n",
    "            name=colname, shape=(), dtype=\"string\")\n",
    "        for colname in [\"is_male\", \"plurality\"]\n",
    "    }\n",
    "\n",
    "    inputs = {**wide_inputs, **deep_inputs}\n",
    "\n",
    "    return inputs"
   ]
  },
  {
   "cell_type": "markdown",
   "metadata": {},
   "source": [
    "### Lab Task #4: Create feature columns for inputs.\n",
    "\n",
    "Next, define the feature columns. `mother_age` and `gestation_weeks` should be numeric. The others, `is_male` and `plurality`, should be categorical. Remember, only dense feature columns can be inputs to a DNN."
   ]
  },
  {
   "cell_type": "code",
   "execution_count": 19,
   "metadata": {},
   "outputs": [],
   "source": [
    "def categorical_fc(name, values):\n",
    "    \"\"\"Helper function to wrap categorical feature by indicator column.\n",
    "\n",
    "    Args:\n",
    "        name: str, name of feature.\n",
    "        values: list, list of strings of categorical values.\n",
    "    Returns:\n",
    "        Categorical and indicator column of categorical feature.\n",
    "    \"\"\"\n",
    "    cat_column = tf.feature_column.categorical_column_with_vocabulary_list(\n",
    "            key=name, vocabulary_list=values)\n",
    "    ind_column = tf.feature_column.indicator_column(\n",
    "        categorical_column=cat_column)\n",
    "\n",
    "    return cat_column, ind_column\n",
    "\n",
    "\n",
    "def create_feature_columns(nembeds):\n",
    "    \"\"\"Creates wide and deep dictionaries of feature columns from inputs.\n",
    "\n",
    "    Args:\n",
    "        nembeds: int, number of dimensions to embed categorical column down to.\n",
    "    Returns:\n",
    "        Wide and deep dictionaries of feature columns.\n",
    "    \"\"\"\n",
    "    # TODO: Create deep feature columns for numeric features\n",
    "    deep_fc = {\n",
    "        colname: tf.feature_column.numeric_column(key=colname)\n",
    "        for colname in [\"mother_age\", \"gestation_weeks\"]\n",
    "              }\n",
    "\n",
    "    # TODO: Create wide feature columns for categorical features\n",
    "    wide_fc = {}\n",
    "    is_male, wide_fc[\"is_male\"] = categorical_fc(\"is_male\", [\"True\", \"False\", \"Unknown\"])\n",
    "        \n",
    "    plurality, wide_fc[\"plurality\"] = categorical_fc(\"plurality\", \n",
    "                                                     [\"Single(1)\", \"Twins(2)\", \"Triplets(3)\",\n",
    "                                                       \"Quadruplets(4)\", \"Quintuplets(5)\", \"Multiple(2+)\"])\n",
    "   \n",
    "\n",
    "    # TODO: Bucketize the float fields. This makes them wide\n",
    "    age_buckets = tf.feature_column.bucketized_column(\n",
    "        source_column=deep_fc[\"mother_age\"],\n",
    "        boundaries=np.arange(15, 45, 1).tolist())\n",
    "    wide_fc[\"age_buckets\"] = tf.feature_column.indicator_column(\n",
    "        categorical_column=age_buckets)\n",
    "\n",
    "    gestation_buckets = tf.feature_column.bucketized_column(\n",
    "        source_column=deep_fc[\"gestation_weeks\"],\n",
    "        boundaries=np.arange(17, 47, 1).tolist())\n",
    "    wide_fc[\"gestation_buckets\"] = tf.feature_column.indicator_column(\n",
    "        categorical_column=gestation_buckets)\n",
    "\n",
    "    # TODO: Cross all the wide cols, have to do the crossing before we one-hot\n",
    "    crossed = tf.feature_column.crossed_column(\n",
    "        keys=[age_buckets, gestation_buckets],\n",
    "        hash_bucket_size=1000)\n",
    "    \n",
    "    \n",
    "    # TODO: Embed cross and add to deep feature columns\n",
    "    deep_fc[\"crossed_embeds\"] = tf.feature_column.embedding_column(\n",
    "        categorical_column=crossed, dimension=nembeds)\n",
    "    \n",
    "    return wide_fc, deep_fc"
   ]
  },
  {
   "cell_type": "markdown",
   "metadata": {},
   "source": [
    "### Lab Task #5: Create wide and deep model and output layer.\n",
    "\n",
    "So we've figured out how to get our inputs ready for machine learning but now we need to connect them to our desired output. Our model architecture is what links the two together. We need to create a wide and deep model now. The wide side will just be a linear regression or dense layer. For the deep side, let's create some hidden dense layers. All of this will end with a single dense output layer. This is regression so make sure the output layer activation is correct and that the shape is right."
   ]
  },
  {
   "cell_type": "code",
   "execution_count": 23,
   "metadata": {},
   "outputs": [],
   "source": [
    "def get_model_outputs(wide_inputs, deep_inputs, dnn_hidden_units):\n",
    "    \"\"\"Creates model architecture and returns outputs.\n",
    "\n",
    "    Args:\n",
    "        wide_inputs: Dense tensor used as inputs to wide side of model.\n",
    "        deep_inputs: Dense tensor used as inputs to deep side of model.\n",
    "        dnn_hidden_units: List of integers where length is number of hidden\n",
    "            layers and ith element is the number of neurons at ith layer.\n",
    "    Returns:\n",
    "        Dense tensor output from the model.\n",
    "    \"\"\"\n",
    "    # Hidden layers for the deep side\n",
    "    layers = [int(x) for x in dnn_hidden_units]\n",
    "    deep = deep_inputs\n",
    "\n",
    "    # TODO: Create DNN model for the deep side\n",
    "    for layerno, numnodes in enumerate(layers):\n",
    "        deep = tf.keras.layers.Dense(\n",
    "            units=numnodes,\n",
    "            activation=\"relu\",\n",
    "            name=\"dnn_{}\".format(layerno+1))(deep)\n",
    "    deep_out = deep\n",
    "\n",
    "\n",
    "    # TODO: Create linear model for the wide side\n",
    "    wide_out = tf.keras.layers.Dense(\n",
    "        units=10, activation=\"relu\", name=\"linear\")(wide_inputs)\n",
    "\n",
    "    # Concatenate the two sides\n",
    "    both = tf.keras.layers.concatenate(\n",
    "        inputs=[deep_out, wide_out], name=\"both\")\n",
    "\n",
    "    # TODO: Create final output layer\n",
    "    output = tf.keras.layers.Dense(\n",
    "        units=1, activation=\"linear\", name=\"weight\")(both)\n",
    "\n",
    "\n",
    "    return output"
   ]
  },
  {
   "cell_type": "markdown",
   "metadata": {},
   "source": [
    "### Lab Task #6: Create custom evaluation metric.\n",
    "\n",
    "We want to make sure that we have some useful way to measure model performance for us. Since this is regression, we would like to know the RMSE of the model on our evaluation dataset, however, this does not exist as a standard evaluation metric, so we'll have to create our own by using the true and predicted labels."
   ]
  },
  {
   "cell_type": "code",
   "execution_count": 24,
   "metadata": {},
   "outputs": [],
   "source": [
    "def rmse(y_true, y_pred):\n",
    "    \"\"\"Calculates RMSE evaluation metric.\n",
    "\n",
    "    Args:\n",
    "        y_true: tensor, true labels.\n",
    "        y_pred: tensor, predicted labels.\n",
    "    Returns:\n",
    "        Tensor with value of RMSE between true and predicted labels.\n",
    "    \"\"\"\n",
    "    # TODO: Calculate RMSE from true and predicted labels\n",
    "    return tf.sqrt(tf.reduce_mean((y_pred - y_true) ** 2))"
   ]
  },
  {
   "cell_type": "markdown",
   "metadata": {},
   "source": [
    "### Lab Task #7: Build wide and deep model tying all of the pieces together.\n",
    "\n",
    "Excellent! We've assembled all of the pieces, now we just need to tie them all together into a Keras Model. This is NOT a simple feedforward model with no branching, side inputs, etc. so we can't use Keras' Sequential Model API. We're instead going to use Keras' Functional Model API. Here we will build the model using [tf.keras.models.Model](https://www.tensorflow.org/api_docs/python/tf/keras/Model) giving our inputs and outputs and then compile our model with an optimizer, a loss function, and evaluation metrics."
   ]
  },
  {
   "cell_type": "code",
   "execution_count": 25,
   "metadata": {},
   "outputs": [
    {
     "name": "stdout",
     "output_type": "stream",
     "text": [
      "Here is our wide and deep architecture so far:\n",
      "\n",
      "Model: \"model\"\n",
      "__________________________________________________________________________________________________\n",
      "Layer (type)                    Output Shape         Param #     Connected to                     \n",
      "==================================================================================================\n",
      "gestation_weeks (InputLayer)    [(None,)]            0                                            \n",
      "__________________________________________________________________________________________________\n",
      "is_male (InputLayer)            [(None,)]            0                                            \n",
      "__________________________________________________________________________________________________\n",
      "mother_age (InputLayer)         [(None,)]            0                                            \n",
      "__________________________________________________________________________________________________\n",
      "plurality (InputLayer)          [(None,)]            0                                            \n",
      "__________________________________________________________________________________________________\n",
      "deep_inputs (DenseFeatures)     (None, 5)            3000        gestation_weeks[0][0]            \n",
      "                                                                 is_male[0][0]                    \n",
      "                                                                 mother_age[0][0]                 \n",
      "                                                                 plurality[0][0]                  \n",
      "__________________________________________________________________________________________________\n",
      "dnn_1 (Dense)                   (None, 64)           384         deep_inputs[0][0]                \n",
      "__________________________________________________________________________________________________\n",
      "wide_inputs (DenseFeatures)     (None, 71)           0           gestation_weeks[0][0]            \n",
      "                                                                 is_male[0][0]                    \n",
      "                                                                 mother_age[0][0]                 \n",
      "                                                                 plurality[0][0]                  \n",
      "__________________________________________________________________________________________________\n",
      "dnn_2 (Dense)                   (None, 32)           2080        dnn_1[0][0]                      \n",
      "__________________________________________________________________________________________________\n",
      "linear (Dense)                  (None, 10)           720         wide_inputs[0][0]                \n",
      "__________________________________________________________________________________________________\n",
      "both (Concatenate)              (None, 42)           0           dnn_2[0][0]                      \n",
      "                                                                 linear[0][0]                     \n",
      "__________________________________________________________________________________________________\n",
      "weight (Dense)                  (None, 1)            43          both[0][0]                       \n",
      "==================================================================================================\n",
      "Total params: 6,227\n",
      "Trainable params: 6,227\n",
      "Non-trainable params: 0\n",
      "__________________________________________________________________________________________________\n",
      "None\n"
     ]
    }
   ],
   "source": [
    "def build_wide_deep_model(dnn_hidden_units=[64, 32], nembeds=3):\n",
    "    \"\"\"Builds wide and deep model using Keras Functional API.\n",
    "\n",
    "    Returns:\n",
    "        `tf.keras.models.Model` object.\n",
    "    \"\"\"\n",
    "    # Create input layers\n",
    "    inputs = create_input_layers()\n",
    "\n",
    "    # Create feature columns\n",
    "    wide_fc, deep_fc = create_feature_columns(nembeds)\n",
    "\n",
    "    # The constructor for DenseFeatures takes a list of numeric columns\n",
    "    # The Functional API in Keras requires: LayerConstructor()(inputs)\n",
    "\n",
    "    # TODO: Add wide and deep feature colummns\n",
    "    wide_inputs = tf.keras.layers.DenseFeatures(\n",
    "        feature_columns=wide_fc.values(), name=\"wide_inputs\")(inputs)\n",
    "    deep_inputs = tf.keras.layers.DenseFeatures(\n",
    "        feature_columns=deep_fc.values(), name=\"deep_inputs\")(inputs)\n",
    "\n",
    "    # Get output of model given inputs\n",
    "    output = get_model_outputs(wide_inputs, deep_inputs, dnn_hidden_units)\n",
    "\n",
    "    # Build model and compile it all together\n",
    "    model = tf.keras.models.Model(inputs=inputs, outputs=output)\n",
    "\n",
    "    # TODO: Add custom eval metrics to list\n",
    "    model.compile(optimizer=\"adam\", loss=\"mse\", metrics=[rmse,\"mse\"])\n",
    "\n",
    "    return model\n",
    "\n",
    "print(\"Here is our wide and deep architecture so far:\\n\")\n",
    "model = build_wide_deep_model()\n",
    "print(model.summary())"
   ]
  },
  {
   "cell_type": "markdown",
   "metadata": {},
   "source": [
    "We can visualize the wide and deep network using the Keras plot_model utility."
   ]
  },
  {
   "cell_type": "code",
   "execution_count": 26,
   "metadata": {},
   "outputs": [
    {
     "data": {
      "image/png": "[encoded data removed]",
      "text/plain": [
       "<IPython.core.display.Image object>"
      ]
     },
     "execution_count": 26,
     "metadata": {},
     "output_type": "execute_result"
    }
   ],
   "source": [
    "tf.keras.utils.plot_model(\n",
    "    model=model, to_file=\"wd_model.png\", show_shapes=False, rankdir=\"LR\")"
   ]
  },
  {
   "cell_type": "markdown",
   "metadata": {},
   "source": [
    "## Run and evaluate model"
   ]
  },
  {
   "cell_type": "markdown",
   "metadata": {},
   "source": [
    "### Lab Task #8: Train and evaluate.\n",
    "\n",
    "We've built our Keras model using our inputs from our CSV files and the architecture we designed. Let's now run our model by training our model parameters and periodically running an evaluation to track how well we are doing on outside data as training goes on. We'll need to load both our train and eval datasets and send those to our model through the fit method. Make sure you have the right pattern, batch size, and mode when loading the data. Also, don't forget to add the callback to TensorBoard."
   ]
  },
  {
   "cell_type": "code",
   "execution_count": 28,
   "metadata": {},
   "outputs": [
    {
     "name": "stdout",
     "output_type": "stream",
     "text": [
      "Epoch 1/50\n",
      "31/31 [==============================] - 4s 56ms/step - loss: 12.1996 - rmse: 3.2713 - mse: 12.1996 - val_loss: 3.3702 - val_rmse: 1.8354 - val_mse: 3.3702\n",
      "Epoch 2/50\n",
      "31/31 [==============================] - 1s 26ms/step - loss: 3.2706 - rmse: 1.8014 - mse: 3.2706 - val_loss: 3.2287 - val_rmse: 1.7959 - val_mse: 3.2287\n",
      "Epoch 3/50\n",
      "31/31 [==============================] - 1s 28ms/step - loss: 2.9319 - rmse: 1.7001 - mse: 2.9319 - val_loss: 2.9203 - val_rmse: 1.7080 - val_mse: 2.9203\n",
      "Epoch 4/50\n",
      "31/31 [==============================] - 1s 21ms/step - loss: 2.6105 - rmse: 1.6050 - mse: 2.6105 - val_loss: 2.8046 - val_rmse: 1.6745 - val_mse: 2.8046\n",
      "Epoch 5/50\n",
      "31/31 [==============================] - 1s 21ms/step - loss: 2.6913 - rmse: 1.6268 - mse: 2.6913 - val_loss: 2.7315 - val_rmse: 1.6523 - val_mse: 2.7315\n",
      "Epoch 6/50\n",
      "31/31 [==============================] - 1s 22ms/step - loss: 2.8271 - rmse: 1.6737 - mse: 2.8271 - val_loss: 2.6915 - val_rmse: 1.6404 - val_mse: 2.6915\n",
      "Epoch 7/50\n",
      "31/31 [==============================] - 1s 21ms/step - loss: 2.5814 - rmse: 1.6019 - mse: 2.5814 - val_loss: 2.6646 - val_rmse: 1.6318 - val_mse: 2.6646\n",
      "Epoch 8/50\n",
      "31/31 [==============================] - 1s 24ms/step - loss: 2.4046 - rmse: 1.5351 - mse: 2.4046 - val_loss: 2.5881 - val_rmse: 1.6084 - val_mse: 2.5881\n",
      "Epoch 9/50\n",
      "31/31 [==============================] - 1s 21ms/step - loss: 2.4648 - rmse: 1.5570 - mse: 2.4648 - val_loss: 2.5346 - val_rmse: 1.5916 - val_mse: 2.5346\n",
      "Epoch 10/50\n",
      "31/31 [==============================] - 1s 26ms/step - loss: 2.5507 - rmse: 1.5859 - mse: 2.5507 - val_loss: 2.5444 - val_rmse: 1.5944 - val_mse: 2.5444\n",
      "Epoch 11/50\n",
      "31/31 [==============================] - 1s 25ms/step - loss: 2.1816 - rmse: 1.4708 - mse: 2.1816 - val_loss: 2.5184 - val_rmse: 1.5866 - val_mse: 2.5184\n",
      "Epoch 12/50\n",
      "31/31 [==============================] - 1s 32ms/step - loss: 2.4244 - rmse: 1.5437 - mse: 2.4244 - val_loss: 2.4465 - val_rmse: 1.5637 - val_mse: 2.4465\n",
      "Epoch 13/50\n",
      "31/31 [==============================] - 1s 23ms/step - loss: 2.1856 - rmse: 1.4683 - mse: 2.1856 - val_loss: 2.4178 - val_rmse: 1.5547 - val_mse: 2.4178\n",
      "Epoch 14/50\n",
      "31/31 [==============================] - 1s 22ms/step - loss: 2.3911 - rmse: 1.5362 - mse: 2.3911 - val_loss: 2.4414 - val_rmse: 1.5623 - val_mse: 2.4414\n",
      "Epoch 15/50\n",
      "31/31 [==============================] - 1s 20ms/step - loss: 2.3598 - rmse: 1.5257 - mse: 2.3598 - val_loss: 2.5202 - val_rmse: 1.5873 - val_mse: 2.5202\n",
      "Epoch 16/50\n",
      "31/31 [==============================] - 1s 21ms/step - loss: 2.4264 - rmse: 1.5457 - mse: 2.4264 - val_loss: 2.6268 - val_rmse: 1.6202 - val_mse: 2.6268\n",
      "Epoch 17/50\n",
      "31/31 [==============================] - 1s 22ms/step - loss: 2.6875 - rmse: 1.6340 - mse: 2.6875 - val_loss: 2.3499 - val_rmse: 1.5323 - val_mse: 2.3499\n",
      "Epoch 18/50\n",
      "31/31 [==============================] - 1s 25ms/step - loss: 2.2242 - rmse: 1.4746 - mse: 2.2242 - val_loss: 2.3546 - val_rmse: 1.5342 - val_mse: 2.3546\n",
      "Epoch 19/50\n",
      "31/31 [==============================] - 1s 23ms/step - loss: 2.2252 - rmse: 1.4777 - mse: 2.2252 - val_loss: 2.4924 - val_rmse: 1.5783 - val_mse: 2.4924\n",
      "Epoch 20/50\n",
      "31/31 [==============================] - 1s 23ms/step - loss: 2.5238 - rmse: 1.5768 - mse: 2.5238 - val_loss: 2.4719 - val_rmse: 1.5719 - val_mse: 2.4719\n",
      "Epoch 21/50\n",
      "31/31 [==============================] - 1s 21ms/step - loss: 2.3233 - rmse: 1.5126 - mse: 2.3233 - val_loss: 2.3519 - val_rmse: 1.5333 - val_mse: 2.3519\n",
      "Epoch 22/50\n",
      "31/31 [==============================] - 1s 21ms/step - loss: 2.3764 - rmse: 1.5337 - mse: 2.3764 - val_loss: 2.3439 - val_rmse: 1.5306 - val_mse: 2.3439\n",
      "Epoch 23/50\n",
      "31/31 [==============================] - 1s 21ms/step - loss: 2.2281 - rmse: 1.4756 - mse: 2.2281 - val_loss: 2.3533 - val_rmse: 1.5334 - val_mse: 2.3533\n",
      "Epoch 24/50\n",
      "31/31 [==============================] - 1s 21ms/step - loss: 2.3318 - rmse: 1.5107 - mse: 2.3318 - val_loss: 2.3590 - val_rmse: 1.5355 - val_mse: 2.3590\n",
      "Epoch 25/50\n",
      "31/31 [==============================] - 1s 23ms/step - loss: 2.1089 - rmse: 1.4428 - mse: 2.1089 - val_loss: 2.6651 - val_rmse: 1.6318 - val_mse: 2.6651\n",
      "Epoch 26/50\n",
      "31/31 [==============================] - 1s 28ms/step - loss: 2.1706 - rmse: 1.4630 - mse: 2.1706 - val_loss: 2.3507 - val_rmse: 1.5327 - val_mse: 2.3507\n",
      "Epoch 27/50\n",
      "31/31 [==============================] - 1s 23ms/step - loss: 2.3533 - rmse: 1.5163 - mse: 2.3533 - val_loss: 2.3724 - val_rmse: 1.5398 - val_mse: 2.3724\n",
      "Epoch 28/50\n",
      "31/31 [==============================] - 1s 22ms/step - loss: 2.2362 - rmse: 1.4818 - mse: 2.2362 - val_loss: 2.3298 - val_rmse: 1.5261 - val_mse: 2.3298\n",
      "Epoch 29/50\n",
      "31/31 [==============================] - 1s 20ms/step - loss: 2.1286 - rmse: 1.4471 - mse: 2.1286 - val_loss: 2.3607 - val_rmse: 1.5362 - val_mse: 2.3607\n",
      "Epoch 30/50\n",
      "31/31 [==============================] - 1s 21ms/step - loss: 2.3068 - rmse: 1.4996 - mse: 2.3068 - val_loss: 2.3618 - val_rmse: 1.5366 - val_mse: 2.3618\n",
      "Epoch 31/50\n",
      "31/31 [==============================] - 1s 22ms/step - loss: 2.1297 - rmse: 1.4490 - mse: 2.1297 - val_loss: 2.3174 - val_rmse: 1.5220 - val_mse: 2.3174\n",
      "Epoch 32/50\n",
      "31/31 [==============================] - 1s 22ms/step - loss: 2.0491 - rmse: 1.4225 - mse: 2.0491 - val_loss: 2.3652 - val_rmse: 1.5371 - val_mse: 2.3652\n",
      "Epoch 33/50\n",
      "31/31 [==============================] - 1s 23ms/step - loss: 2.2324 - rmse: 1.4754 - mse: 2.2324 - val_loss: 2.4273 - val_rmse: 1.5578 - val_mse: 2.4273\n",
      "Epoch 34/50\n",
      "31/31 [==============================] - 1s 29ms/step - loss: 2.2147 - rmse: 1.4666 - mse: 2.2147 - val_loss: 2.3745 - val_rmse: 1.5405 - val_mse: 2.3745\n",
      "Epoch 35/50\n",
      "31/31 [==============================] - 1s 27ms/step - loss: 2.2055 - rmse: 1.4730 - mse: 2.2055 - val_loss: 2.3863 - val_rmse: 1.5442 - val_mse: 2.3863\n",
      "Epoch 36/50\n",
      "31/31 [==============================] - 1s 23ms/step - loss: 2.4705 - rmse: 1.5617 - mse: 2.4705 - val_loss: 2.3578 - val_rmse: 1.5353 - val_mse: 2.3578\n",
      "Epoch 37/50\n",
      "31/31 [==============================] - 1s 21ms/step - loss: 2.1445 - rmse: 1.4523 - mse: 2.1445 - val_loss: 2.3608 - val_rmse: 1.5361 - val_mse: 2.3608\n",
      "Epoch 38/50\n",
      "31/31 [==============================] - 1s 21ms/step - loss: 2.3012 - rmse: 1.5116 - mse: 2.3012 - val_loss: 2.3604 - val_rmse: 1.5360 - val_mse: 2.3604\n",
      "Epoch 39/50\n",
      "31/31 [==============================] - 1s 20ms/step - loss: 2.3255 - rmse: 1.5195 - mse: 2.3255 - val_loss: 2.4026 - val_rmse: 1.5491 - val_mse: 2.4026\n",
      "Epoch 40/50\n",
      "31/31 [==============================] - 1s 22ms/step - loss: 2.2854 - rmse: 1.5016 - mse: 2.2854 - val_loss: 2.3053 - val_rmse: 1.5177 - val_mse: 2.3053\n",
      "Epoch 41/50\n",
      "31/31 [==============================] - 1s 23ms/step - loss: 2.3953 - rmse: 1.5344 - mse: 2.3953 - val_loss: 2.3028 - val_rmse: 1.5170 - val_mse: 2.3028\n",
      "Epoch 42/50\n",
      "31/31 [==============================] - 1s 22ms/step - loss: 2.4393 - rmse: 1.5416 - mse: 2.4393 - val_loss: 2.3681 - val_rmse: 1.5384 - val_mse: 2.3681\n",
      "Epoch 43/50\n",
      "31/31 [==============================] - 1s 26ms/step - loss: 2.3678 - rmse: 1.5269 - mse: 2.3678 - val_loss: 2.3587 - val_rmse: 1.5354 - val_mse: 2.3587\n",
      "Epoch 44/50\n",
      "31/31 [==============================] - 1s 25ms/step - loss: 2.0786 - rmse: 1.4313 - mse: 2.0786 - val_loss: 2.3285 - val_rmse: 1.5255 - val_mse: 2.3285\n",
      "Epoch 45/50\n",
      "31/31 [==============================] - 1s 22ms/step - loss: 2.1596 - rmse: 1.4512 - mse: 2.1596 - val_loss: 2.3399 - val_rmse: 1.5295 - val_mse: 2.3399\n",
      "Epoch 46/50\n",
      "31/31 [==============================] - 1s 21ms/step - loss: 2.3684 - rmse: 1.5266 - mse: 2.3684 - val_loss: 2.3047 - val_rmse: 1.5176 - val_mse: 2.3047\n",
      "Epoch 47/50\n",
      "31/31 [==============================] - 1s 21ms/step - loss: 2.2901 - rmse: 1.4972 - mse: 2.2901 - val_loss: 2.3063 - val_rmse: 1.5183 - val_mse: 2.3063\n",
      "Epoch 48/50\n",
      "31/31 [==============================] - 1s 21ms/step - loss: 2.2567 - rmse: 1.4900 - mse: 2.2567 - val_loss: 2.5272 - val_rmse: 1.5890 - val_mse: 2.5272\n",
      "Epoch 49/50\n",
      "31/31 [==============================] - 1s 21ms/step - loss: 2.1339 - rmse: 1.4412 - mse: 2.1339 - val_loss: 2.3387 - val_rmse: 1.5290 - val_mse: 2.3387\n",
      "Epoch 50/50\n",
      "31/31 [==============================] - 1s 27ms/step - loss: 2.1194 - rmse: 1.4448 - mse: 2.1194 - val_loss: 2.4661 - val_rmse: 1.5702 - val_mse: 2.4661\n"
     ]
    }
   ],
   "source": [
    "TRAIN_BATCH_SIZE = 32\n",
    "NUM_TRAIN_EXAMPLES = 10000 * 5  # training dataset repeats, it'll wrap around\n",
    "NUM_EVALS = 50  # how many times to evaluate\n",
    "# Enough to get a reasonable sample, but not so much that it slows down\n",
    "NUM_EVAL_EXAMPLES = 10000\n",
    "\n",
    "# TODO: Load training dataset\n",
    "trainds = load_dataset(pattern=TRAIN_DATA_PATH, \n",
    "                       batch_size=TRAIN_BATCH_SIZE, \n",
    "                       mode='train'\n",
    ")\n",
    "\n",
    "# TODO: Load evaluation dataset\n",
    "evalds = load_dataset(pattern=EVAL_DATA_PATH, \n",
    "                      batch_size=1000, \n",
    "                      mode='eval').take(count=NUM_EVAL_EXAMPLES // 1000)\n",
    "\n",
    "steps_per_epoch = NUM_TRAIN_EXAMPLES // (TRAIN_BATCH_SIZE * NUM_EVALS)\n",
    "\n",
    "logdir = os.path.join(\n",
    "    \"logs\", datetime.datetime.now().strftime(\"%Y%m%d-%H%M%S\"))\n",
    "tensorboard_callback = tf.keras.callbacks.TensorBoard(\n",
    "    log_dir=logdir, histogram_freq=1)\n",
    "\n",
    "# TODO: Fit model on training dataset and evaluate every so often\n",
    "history = model.fit(trainds,\n",
    "    validation_data=evalds,\n",
    "    epochs=NUM_EVALS,\n",
    "    steps_per_epoch=steps_per_epoch,\n",
    "    callbacks=[tensorboard_callback])"
   ]
  },
  {
   "cell_type": "markdown",
   "metadata": {},
   "source": [
    "### Visualize loss curve"
   ]
  },
  {
   "cell_type": "code",
   "execution_count": 29,
   "metadata": {},
   "outputs": [
    {
     "data": {
      "image/png": "[encoded data removed]",
      "text/plain": [
       "<Figure size 720x360 with 2 Axes>"
      ]
     },
     "metadata": {
      "needs_background": "light"
     },
     "output_type": "display_data"
    }
   ],
   "source": [
    "# Plot\n",
    "nrows = 1\n",
    "ncols = 2\n",
    "fig = plt.figure(figsize=(10, 5))\n",
    "\n",
    "for idx, key in enumerate([\"loss\", \"rmse\"]):\n",
    "    ax = fig.add_subplot(nrows, ncols, idx+1)\n",
    "    plt.plot(history.history[key])\n",
    "    plt.plot(history.history[\"val_{}\".format(key)])\n",
    "    plt.title(\"model {}\".format(key))\n",
    "    plt.ylabel(key)\n",
    "    plt.xlabel(\"epoch\")\n",
    "    plt.legend([\"train\", \"validation\"], loc=\"upper left\");"
   ]
  },
  {
   "cell_type": "markdown",
   "metadata": {},
   "source": [
    "### Save the model"
   ]
  },
  {
   "cell_type": "code",
   "execution_count": 30,
   "metadata": {
    "collapsed": false,
    "jupyter": {
     "outputs_hidden": false
    }
   },
   "outputs": [
    {
     "name": "stdout",
     "output_type": "stream",
     "text": [
      "INFO:tensorflow:Assets written to: babyweight_trained_wd/20210602062320/assets\n",
      "Exported trained model to babyweight_trained_wd/20210602062320\n"
     ]
    }
   ],
   "source": [
    "OUTPUT_DIR = \"babyweight_trained_wd\"\n",
    "shutil.rmtree(OUTPUT_DIR, ignore_errors=True)\n",
    "EXPORT_PATH = os.path.join(\n",
    "    OUTPUT_DIR, datetime.datetime.now().strftime(\"%Y%m%d%H%M%S\"))\n",
    "tf.saved_model.save(\n",
    "    obj=model, export_dir=EXPORT_PATH)  # with default serving function\n",
    "print(\"Exported trained model to {}\".format(EXPORT_PATH))"
   ]
  },
  {
   "cell_type": "code",
   "execution_count": 31,
   "metadata": {},
   "outputs": [
    {
     "name": "stdout",
     "output_type": "stream",
     "text": [
      "assets\tsaved_model.pb\tvariables\n"
     ]
    }
   ],
   "source": [
    "!ls $EXPORT_PATH"
   ]
  },
  {
   "cell_type": "markdown",
   "metadata": {},
   "source": [
    "## Lab Summary: \n",
    "In this lab, we started by defining the CSV column names, label column, and column defaults for our data inputs. Then, we constructed a tf.data Dataset of features and the label from the CSV files and created inputs layers for the raw features. Next, we set up feature columns for the model inputs and built a wide and deep neural network in Keras. We created a custom evaluation metric and built our wide and deep model. Finally, we trained and evaluated our model."
   ]
  },
  {
   "cell_type": "markdown",
   "metadata": {},
   "source": [
    "Copyright 2019 Google Inc. Licensed under the Apache License, Version 2.0 (the \"License\"); you may not use this file except in compliance with the License. You may obtain a copy of the License at http://www.apache.org/licenses/LICENSE-2.0 Unless required by applicable law or agreed to in writing, software distributed under the License is distributed on an \"AS IS\" BASIS, WITHOUT WARRANTIES OR CONDITIONS OF ANY KIND, either express or implied. See the License for the specific language governing permissions and limitations under the License"
   ]
  }
 ],
 "metadata": {
  "environment": {
   "name": "tf2-gpu.2-1.m69",
   "type": "gcloud",
   "uri": "gcr.io/deeplearning-platform-release/tf2-gpu.2-1:m69"
  },
  "kernelspec": {
   "display_name": "Python 3",
   "language": "python",
   "name": "python3"
  },
  "language_info": {
   "codemirror_mode": {
    "name": "ipython",
    "version": 3
   },
   "file_extension": ".py",
   "mimetype": "text/x-python",
   "name": "python",
   "nbconvert_exporter": "python",
   "pygments_lexer": "ipython3",
   "version": "3.7.10"
  }
 },
 "nbformat": 4,
 "nbformat_minor": 4
}

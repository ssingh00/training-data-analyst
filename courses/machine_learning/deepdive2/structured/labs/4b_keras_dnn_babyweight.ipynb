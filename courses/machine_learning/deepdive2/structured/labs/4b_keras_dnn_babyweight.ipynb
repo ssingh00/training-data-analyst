{
 "cells": [
  {
   "cell_type": "markdown",
   "metadata": {},
   "source": [
    "# LAB 4b:  Create Keras DNN model.\n",
    "\n",
    "**Learning Objectives**\n",
    "\n",
    "1. Set CSV Columns, label column, and column defaults\n",
    "1. Make dataset of features and label from CSV files\n",
    "1. Create input layers for raw features\n",
    "1. Create feature columns for inputs\n",
    "1. Create DNN dense hidden layers and output layer\n",
    "1. Create custom evaluation metric\n",
    "1. Build DNN model tying all of the pieces together\n",
    "1. Train and evaluate\n",
    "\n",
    "\n",
    "## Introduction \n",
    "In this notebook, we'll be using Keras to create a DNN model to predict the weight of a baby before it is born.\n",
    "\n",
    "We'll start by defining the CSV column names, label column, and column defaults for our data inputs. Then, we'll construct a tf.data Dataset of features and the label from the CSV files and create inputs layers for the raw features. Next, we'll set up feature columns for the model inputs and build a deep neural network in Keras. We'll create a custom evaluation metric and build our DNN model. Finally, we'll train and evaluate our model.\n",
    "\n",
    "Each learning objective will correspond to a __#TODO__ in this student lab notebook -- try to complete this notebook first and then review the [solution notebook](../solutions/4b_keras_dnn_babyweight.ipynb)."
   ]
  },
  {
   "cell_type": "markdown",
   "metadata": {
    "colab_type": "text",
    "id": "hJ7ByvoXzpVI"
   },
   "source": [
    "## Load necessary libraries"
   ]
  },
  {
   "cell_type": "code",
   "execution_count": 4,
   "metadata": {
    "collapsed": false,
    "jupyter": {
     "outputs_hidden": false
    }
   },
   "outputs": [
    {
     "name": "stdout",
     "output_type": "stream",
     "text": [
      "2.4.1\n"
     ]
    }
   ],
   "source": [
    "import datetime\n",
    "import os\n",
    "import shutil\n",
    "import matplotlib.pyplot as plt\n",
    "import tensorflow as tf\n",
    "print(tf.__version__)"
   ]
  },
  {
   "cell_type": "markdown",
   "metadata": {},
   "source": [
    "Set you bucket:"
   ]
  },
  {
   "cell_type": "code",
   "execution_count": 5,
   "metadata": {},
   "outputs": [],
   "source": [
    "BUCKET = \"qwiklabs-gcp-04-5e7d5c24e704\"\n",
    "\n",
    "os.environ['BUCKET'] = BUCKET"
   ]
  },
  {
   "cell_type": "markdown",
   "metadata": {},
   "source": [
    "## Verify CSV files exist\n",
    "\n",
    "In the seventh lab of this series [1b_prepare_data_babyweight](../solutions/1b_prepare_data_babyweight.ipynb), we sampled from BigQuery our train, eval, and test CSV files. Verify that they exist, otherwise go back to that lab and create them."
   ]
  },
  {
   "cell_type": "code",
   "execution_count": 6,
   "metadata": {
    "collapsed": false,
    "jupyter": {
     "outputs_hidden": false
    }
   },
   "outputs": [],
   "source": [
    "TRAIN_DATA_PATH = \"gs://{bucket}/babyweight/data/train*.csv\".format(bucket=BUCKET)\n",
    "EVAL_DATA_PATH = \"gs://{bucket}/babyweight/data/eval*.csv\".format(bucket=BUCKET)"
   ]
  },
  {
   "cell_type": "code",
   "execution_count": 7,
   "metadata": {},
   "outputs": [
    {
     "name": "stdout",
     "output_type": "stream",
     "text": [
      "gs://qwiklabs-gcp-04-5e7d5c24e704/babyweight/data/train000000000000.csv\n",
      "gs://qwiklabs-gcp-04-5e7d5c24e704/babyweight/data/train000000000001.csv\n",
      "gs://qwiklabs-gcp-04-5e7d5c24e704/babyweight/data/train000000000002.csv\n",
      "gs://qwiklabs-gcp-04-5e7d5c24e704/babyweight/data/train000000000003.csv\n",
      "gs://qwiklabs-gcp-04-5e7d5c24e704/babyweight/data/train000000000004.csv\n",
      "gs://qwiklabs-gcp-04-5e7d5c24e704/babyweight/data/train000000000005.csv\n"
     ]
    }
   ],
   "source": [
    "!gsutil ls $TRAIN_DATA_PATH"
   ]
  },
  {
   "cell_type": "code",
   "execution_count": 8,
   "metadata": {},
   "outputs": [
    {
     "name": "stdout",
     "output_type": "stream",
     "text": [
      "gs://qwiklabs-gcp-04-5e7d5c24e704/babyweight/data/eval000000000000.csv\n",
      "gs://qwiklabs-gcp-04-5e7d5c24e704/babyweight/data/eval000000000001.csv\n"
     ]
    }
   ],
   "source": [
    "!gsutil ls $EVAL_DATA_PATH"
   ]
  },
  {
   "cell_type": "code",
   "execution_count": 13,
   "metadata": {},
   "outputs": [
    {
     "data": {
      "text/html": [
       "<div>\n",
       "<style scoped>\n",
       "    .dataframe tbody tr th:only-of-type {\n",
       "        vertical-align: middle;\n",
       "    }\n",
       "\n",
       "    .dataframe tbody tr th {\n",
       "        vertical-align: top;\n",
       "    }\n",
       "\n",
       "    .dataframe thead th {\n",
       "        text-align: right;\n",
       "    }\n",
       "</style>\n",
       "<table border=\"1\" class=\"dataframe\">\n",
       "  <thead>\n",
       "    <tr style=\"text-align: right;\">\n",
       "      <th></th>\n",
       "      <th>weight_pounds</th>\n",
       "      <th>is_male</th>\n",
       "      <th>mother_age</th>\n",
       "      <th>plurality</th>\n",
       "      <th>gestation_weeks</th>\n",
       "    </tr>\n",
       "  </thead>\n",
       "  <tbody>\n",
       "    <tr>\n",
       "      <th>0</th>\n",
       "      <td>3.937456</td>\n",
       "      <td>false</td>\n",
       "      <td>50</td>\n",
       "      <td>Twins(2)</td>\n",
       "      <td>31</td>\n",
       "    </tr>\n",
       "    <tr>\n",
       "      <th>1</th>\n",
       "      <td>2.687435</td>\n",
       "      <td>false</td>\n",
       "      <td>45</td>\n",
       "      <td>Triplets(3)</td>\n",
       "      <td>31</td>\n",
       "    </tr>\n",
       "    <tr>\n",
       "      <th>2</th>\n",
       "      <td>2.645547</td>\n",
       "      <td>Unknown</td>\n",
       "      <td>48</td>\n",
       "      <td>Single(1)</td>\n",
       "      <td>27</td>\n",
       "    </tr>\n",
       "    <tr>\n",
       "      <th>3</th>\n",
       "      <td>3.381891</td>\n",
       "      <td>true</td>\n",
       "      <td>42</td>\n",
       "      <td>Triplets(3)</td>\n",
       "      <td>30</td>\n",
       "    </tr>\n",
       "    <tr>\n",
       "      <th>4</th>\n",
       "      <td>4.874421</td>\n",
       "      <td>false</td>\n",
       "      <td>44</td>\n",
       "      <td>Single(1)</td>\n",
       "      <td>28</td>\n",
       "    </tr>\n",
       "  </tbody>\n",
       "</table>\n",
       "</div>"
      ],
      "text/plain": [
       "   weight_pounds  is_male  mother_age    plurality  gestation_weeks\n",
       "0       3.937456    false          50     Twins(2)               31\n",
       "1       2.687435    false          45  Triplets(3)               31\n",
       "2       2.645547  Unknown          48    Single(1)               27\n",
       "3       3.381891     true          42  Triplets(3)               30\n",
       "4       4.874421    false          44    Single(1)               28"
      ]
     },
     "execution_count": 13,
     "metadata": {},
     "output_type": "execute_result"
    }
   ],
   "source": [
    "import pandas as pd\n",
    "df = pd.read_csv(\"gs://qwiklabs-gcp-04-5e7d5c24e704/babyweight/data/train000000000000.csv\")\n",
    "df.head()"
   ]
  },
  {
   "cell_type": "markdown",
   "metadata": {},
   "source": [
    "## Create Keras model"
   ]
  },
  {
   "cell_type": "markdown",
   "metadata": {},
   "source": [
    "### Lab Task #1: Set CSV Columns, label column, and column defaults.\n",
    "\n",
    "Now that we have verified that our CSV files exist, we need to set a few things that we will be using in our input function.\n",
    "* `CSV_COLUMNS` are going to be our header names of our columns. Make sure that they are in the same order as in the CSV files\n",
    "* `LABEL_COLUMN` is the header name of the column that is our label. We will need to know this to pop it from our features dictionary.\n",
    "* `DEFAULTS` is a list with the same length as `CSV_COLUMNS`, i.e. there is a default for each column in our CSVs. Each element is a list itself with the default value for that CSV column."
   ]
  },
  {
   "cell_type": "code",
   "execution_count": 14,
   "metadata": {},
   "outputs": [],
   "source": [
    "# Determine CSV, label, and key columns\n",
    "# TODO: Create list of string column headers, make sure order matches.\n",
    "CSV_COLUMNS = [\"weight_pounds\",\"is_male\",\"mother_age\",\"plurality\",\"gestation_weeks\"]\n",
    "\n",
    "# TODO: Add string name for label column\n",
    "LABEL_COLUMN = \"weight_pounds\"\n",
    "\n",
    "# Set default values for each CSV column as a list of lists.\n",
    "# Treat is_male and plurality as strings.\n",
    "DEFAULTS = [[0.0], [\"null\"], [0.0], [\"null\"], [0.0]]"
   ]
  },
  {
   "cell_type": "markdown",
   "metadata": {},
   "source": [
    "### Lab Task #2: Make dataset of features and label from CSV files.\n",
    "\n",
    "Next, we will write an input_fn to read the data. Since we are reading from CSV files we can save ourself from trying to recreate the wheel and can use `tf.data.experimental.make_csv_dataset`. This will create a CSV dataset object. However we will need to divide the columns up into features and a label. We can do this by applying the map method to our dataset and popping our label column off of our dictionary of feature tensors."
   ]
  },
  {
   "cell_type": "code",
   "execution_count": 15,
   "metadata": {},
   "outputs": [],
   "source": [
    "def features_and_labels(row_data):\n",
    "    \"\"\"Splits features and labels from feature dictionary.\n",
    "\n",
    "    Args:\n",
    "        row_data: Dictionary of CSV column names and tensor values.\n",
    "    Returns:\n",
    "        Dictionary of feature tensors and label tensor.\n",
    "    \"\"\"\n",
    "    label = row_data.pop(LABEL_COLUMN)\n",
    "\n",
    "    return row_data, label  # features, label\n",
    "\n",
    "\n",
    "def load_dataset(pattern, batch_size=1, mode=tf.estimator.ModeKeys.EVAL):\n",
    "    \"\"\"Loads dataset using the tf.data API from CSV files.\n",
    "\n",
    "    Args:\n",
    "        pattern: str, file pattern to glob into list of files.\n",
    "        batch_size: int, the number of examples per batch.\n",
    "        mode: tf.estimator.ModeKeys to determine if training or evaluating.\n",
    "    Returns:\n",
    "        `Dataset` object.\n",
    "    \"\"\"\n",
    "    # TODO: Make a CSV dataset\n",
    "    dataset = tf.data.experimental.make_csv_dataset(\n",
    "        file_pattern=pattern,\n",
    "        batch_size=batch_size,\n",
    "        column_names=CSV_COLUMNS,\n",
    "        column_defaults=DEFAULTS)\n",
    "\n",
    "    # TODO: Map dataset to features and label\n",
    "    dataset = dataset.map(map_func=features_and_labels)  # features, label\n",
    "\n",
    "    # Shuffle and repeat for training\n",
    "    if mode == tf.estimator.ModeKeys.TRAIN:\n",
    "        dataset = dataset.shuffle(buffer_size=1000).repeat()\n",
    "\n",
    "    # Take advantage of multi-threading; 1=AUTOTUNE\n",
    "    dataset = dataset.prefetch(buffer_size=1)\n",
    "\n",
    "    return dataset"
   ]
  },
  {
   "cell_type": "markdown",
   "metadata": {},
   "source": [
    "### Lab Task #3: Create input layers for raw features.\n",
    "\n",
    "We'll need to get the data read in by our input function to our model function, but just how do we go about connecting the dots? We can use Keras input layers [(tf.Keras.layers.Input)](https://www.tensorflow.org/api_docs/python/tf/keras/Input) by defining:\n",
    "* shape: A shape tuple (integers), not including the batch size. For instance, shape=(32,) indicates that the expected input will be batches of 32-dimensional vectors. Elements of this tuple can be None; 'None' elements represent dimensions where the shape is not known.\n",
    "* name: An optional name string for the layer. Should be unique in a model (do not reuse the same name twice). It will be autogenerated if it isn't provided.\n",
    "* dtype: The data type expected by the input, as a string (float32, float64, int32...)"
   ]
  },
  {
   "cell_type": "code",
   "execution_count": 24,
   "metadata": {},
   "outputs": [],
   "source": [
    "def create_input_layers():\n",
    "    \"\"\"Creates dictionary of input layers for each feature.\n",
    "\n",
    "    Returns:\n",
    "        Dictionary of `tf.Keras.layers.Input` layers for each feature.\n",
    "    \"\"\"\n",
    "    # TODO: Create dictionary of tf.keras.layers.Input for each raw feature\n",
    "    inputs = {\n",
    "        colname: tf.keras.layers.Input(name = colname,\n",
    "                                       shape =(),\n",
    "                                       dtype = \"float32\") \n",
    "        for colname in [\"mother_age\",\"gestation_weeks\"]\n",
    "    }\n",
    "    \n",
    "    inputs.update({\n",
    "        colname: tf.keras.layers.Input(name = colname,\n",
    "                                       shape =(),\n",
    "                                       dtype = \"string\") \n",
    "        for colname in [\"is_male\",\"plurality\"]\n",
    "    })\n",
    "\n",
    "    return inputs"
   ]
  },
  {
   "cell_type": "markdown",
   "metadata": {},
   "source": [
    "### Lab Task #4: Create feature columns for inputs.\n",
    "\n",
    "Next, define the feature columns. `mother_age` and `gestation_weeks` should be numeric. The others, `is_male` and `plurality`, should be categorical. Remember, only dense feature columns can be inputs to a DNN."
   ]
  },
  {
   "cell_type": "code",
   "execution_count": 17,
   "metadata": {},
   "outputs": [],
   "source": [
    "def categorical_fc(name, values):\n",
    "    \"\"\"Helper function to wrap categorical feature by indicator column.\n",
    "\n",
    "    Args:\n",
    "        name: str, name of feature.\n",
    "        values: list, list of strings of categorical values.\n",
    "    Returns:\n",
    "        Indicator column of categorical feature.\n",
    "    \"\"\"\n",
    "    cat_column = tf.feature_column.categorical_column_with_vocabulary_list(\n",
    "            key=name, vocabulary_list=values)\n",
    "\n",
    "    return tf.feature_column.indicator_column(categorical_column=cat_column)\n",
    "\n",
    "\n",
    "def create_feature_columns():\n",
    "    \"\"\"Creates dictionary of feature columns from inputs.\n",
    "\n",
    "    Returns:\n",
    "        Dictionary of feature columns.\n",
    "    \"\"\"\n",
    "    # TODO: Create feature columns for numeric features\n",
    "    feature_columns = {\n",
    "        colname : tf.feature_column.numeric_column(key=colname)\n",
    "           for colname in [\"mother_age\", \"gestation_weeks\"]\n",
    "    }\n",
    "\n",
    "  \n",
    "    # TODO: Add feature columns for categorical features\n",
    "    \n",
    "    feature_columns[\"is_male\"] = categorical_fc(\n",
    "        \"is_male\", [\"True\", \"False\", \"Unknown\"])\n",
    "    feature_columns[\"plurality\"] = categorical_fc(\n",
    "        \"plurality\", [\"Single(1)\", \"Twins(2)\", \"Triplets(3)\",\n",
    "                      \"Quadruplets(4)\", \"Quintuplets(5)\", \"Multiple(2+)\"])\n",
    "\n",
    "    return feature_columns"
   ]
  },
  {
   "cell_type": "markdown",
   "metadata": {},
   "source": [
    "### Lab Task #5: Create DNN dense hidden layers and output layer.\n",
    "\n",
    "So we've figured out how to get our inputs ready for machine learning but now we need to connect them to our desired output. Our model architecture is what links the two together. Let's create some hidden dense layers beginning with our inputs and end with a dense output layer. This is regression so make sure the output layer activation is correct and that the shape is right."
   ]
  },
  {
   "cell_type": "code",
   "execution_count": 33,
   "metadata": {},
   "outputs": [],
   "source": [
    "def get_model_outputs(inputs):\n",
    "    \"\"\"Creates model architecture and returns outputs.\n",
    "\n",
    "    Args:\n",
    "        inputs: Dense tensor used as inputs to model.\n",
    "    Returns:\n",
    "        Dense tensor output from the model.\n",
    "    \"\"\"\n",
    "    # TODO: Create two hidden layers of [64, 32] just in like the BQML DNN\n",
    "    h1 = tf.keras.layers.Dense(64, activation=\"relu\", name=\"h1\")(inputs)\n",
    "    h2 = tf.keras.layers.Dense(32, activation=\"relu\", name=\"h2\")(h1)\n",
    "    h3 = tf.keras.layers.Dense(16, activation=\"relu\", name=\"h3\")(h2)\n",
    "\n",
    "    # TODO: Create final output layer\n",
    "    output = tf.keras.layers.Dense(\n",
    "        units=1, activation=\"linear\", name=\"weight\")(h2)\n",
    "\n",
    "    return output"
   ]
  },
  {
   "cell_type": "markdown",
   "metadata": {},
   "source": [
    "### Lab Task #6: Create custom evaluation metric.\n",
    "\n",
    "We want to make sure that we have some useful way to measure model performance for us. Since this is regression, we would like to know the RMSE of the model on our evaluation dataset, however, this does not exist as a standard evaluation metric, so we'll have to create our own by using the true and predicted labels."
   ]
  },
  {
   "cell_type": "code",
   "execution_count": 34,
   "metadata": {},
   "outputs": [],
   "source": [
    "def rmse(y_true, y_pred):\n",
    "    \"\"\"Calculates RMSE evaluation metric.\n",
    "\n",
    "    Args:\n",
    "        y_true: tensor, true labels.\n",
    "        y_pred: tensor, predicted labels.\n",
    "    Returns:\n",
    "        Tensor with value of RMSE between true and predicted labels.\n",
    "    \"\"\"\n",
    "    # TODO: Calculate RMSE from true and predicted labels\n",
    "    return tf.sqrt(tf.reduce_mean((y_pred - y_true) ** 2))"
   ]
  },
  {
   "cell_type": "markdown",
   "metadata": {},
   "source": [
    "### Lab Task #7: Build DNN model tying all of the pieces together.\n",
    "\n",
    "Excellent! We've assembled all of the pieces, now we just need to tie them all together into a Keras Model. This is a simple feedforward model with no branching, side inputs, etc. so we could have used Keras' Sequential Model API but just for fun we're going to use Keras' Functional Model API. Here we will build the model using [tf.keras.models.Model](https://www.tensorflow.org/api_docs/python/tf/keras/Model) giving our inputs and outputs and then compile our model with an optimizer, a loss function, and evaluation metrics."
   ]
  },
  {
   "cell_type": "code",
   "execution_count": 35,
   "metadata": {},
   "outputs": [
    {
     "name": "stdout",
     "output_type": "stream",
     "text": [
      "Here is our DNN architecture so far:\n",
      "\n",
      "Model: \"model_1\"\n",
      "__________________________________________________________________________________________________\n",
      "Layer (type)                    Output Shape         Param #     Connected to                     \n",
      "==================================================================================================\n",
      "gestation_weeks (InputLayer)    [(None,)]            0                                            \n",
      "__________________________________________________________________________________________________\n",
      "is_male (InputLayer)            [(None,)]            0                                            \n",
      "__________________________________________________________________________________________________\n",
      "mother_age (InputLayer)         [(None,)]            0                                            \n",
      "__________________________________________________________________________________________________\n",
      "plurality (InputLayer)          [(None,)]            0                                            \n",
      "__________________________________________________________________________________________________\n",
      "dense_features_1 (DenseFeatures (None, 11)           0           gestation_weeks[0][0]            \n",
      "                                                                 is_male[0][0]                    \n",
      "                                                                 mother_age[0][0]                 \n",
      "                                                                 plurality[0][0]                  \n",
      "__________________________________________________________________________________________________\n",
      "h1 (Dense)                      (None, 64)           768         dense_features_1[0][0]           \n",
      "__________________________________________________________________________________________________\n",
      "h2 (Dense)                      (None, 32)           2080        h1[0][0]                         \n",
      "__________________________________________________________________________________________________\n",
      "weight (Dense)                  (None, 1)            33          h2[0][0]                         \n",
      "==================================================================================================\n",
      "Total params: 2,881\n",
      "Trainable params: 2,881\n",
      "Non-trainable params: 0\n",
      "__________________________________________________________________________________________________\n",
      "None\n"
     ]
    }
   ],
   "source": [
    "# Build a simple Keras DNN using its Functional API\n",
    "def build_dnn_model():\n",
    "    \"\"\"Builds simple DNN using Keras Functional API.\n",
    "\n",
    "    Returns:\n",
    "        `tf.keras.models.Model` object.\n",
    "    \"\"\"\n",
    "    # Create input layer\n",
    "    inputs = create_input_layers()\n",
    "\n",
    "    # Create feature columns\n",
    "    feature_columns = create_feature_columns()\n",
    "\n",
    "    # The constructor for DenseFeatures takes a list of numeric columns\n",
    "    # The Functional API in Keras requires: LayerConstructor()(inputs)\n",
    "    dnn_inputs = tf.keras.layers.DenseFeatures(\n",
    "        feature_columns=feature_columns.values())(inputs)\n",
    "\n",
    "    # Get output of model given inputs\n",
    "    output = get_model_outputs(dnn_inputs)\n",
    "\n",
    "    # Build model and compile it all together\n",
    "    model = tf.keras.models.Model(inputs=inputs, outputs=output)\n",
    "\n",
    "    # TODO: Add custom eval metrics to list\n",
    "    model.compile(optimizer=\"adam\", loss=\"mse\", metrics=[rmse, \"mse\"])\n",
    "\n",
    "    return model\n",
    "\n",
    "print(\"Here is our DNN architecture so far:\\n\")\n",
    "model = build_dnn_model()\n",
    "print(model.summary())"
   ]
  },
  {
   "cell_type": "markdown",
   "metadata": {},
   "source": [
    "We can visualize the DNN using the Keras plot_model utility."
   ]
  },
  {
   "cell_type": "code",
   "execution_count": 36,
   "metadata": {},
   "outputs": [
    {
     "data": {
      "image/png": "[encoded data removed]",
      "text/plain": [
       "<IPython.core.display.Image object>"
      ]
     },
     "execution_count": 36,
     "metadata": {},
     "output_type": "execute_result"
    }
   ],
   "source": [
    "tf.keras.utils.plot_model(\n",
    "    model=model, to_file=\"dnn_model.png\", show_shapes=False, rankdir=\"LR\")"
   ]
  },
  {
   "cell_type": "markdown",
   "metadata": {},
   "source": [
    "## Run and evaluate model"
   ]
  },
  {
   "cell_type": "markdown",
   "metadata": {},
   "source": [
    "### Lab Task #8: Train and evaluate.\n",
    "\n",
    "We've built our Keras model using our inputs from our CSV files and the architecture we designed. Let's now run our model by training our model parameters and periodically running an evaluation to track how well we are doing on outside data as training goes on. We'll need to load both our train and eval datasets and send those to our model through the fit method. Make sure you have the right pattern, batch size, and mode when loading the data. Also, don't forget to add the callback to TensorBoard."
   ]
  },
  {
   "cell_type": "code",
   "execution_count": 37,
   "metadata": {},
   "outputs": [
    {
     "name": "stdout",
     "output_type": "stream",
     "text": [
      "Epoch 1/50\n",
      "31/31 [==============================] - 3s 34ms/step - loss: 20.1096 - rmse: 3.9778 - mse: 20.1096 - val_loss: 4.0582 - val_rmse: 2.0132 - val_mse: 4.0582\n",
      "Epoch 2/50\n",
      "31/31 [==============================] - 1s 23ms/step - loss: 3.2463 - rmse: 1.7853 - mse: 3.2463 - val_loss: 3.0173 - val_rmse: 1.7364 - val_mse: 3.0173\n",
      "Epoch 3/50\n",
      "31/31 [==============================] - 1s 23ms/step - loss: 2.5596 - rmse: 1.5928 - mse: 2.5596 - val_loss: 2.8830 - val_rmse: 1.6978 - val_mse: 2.8830\n",
      "Epoch 4/50\n",
      "31/31 [==============================] - 1s 24ms/step - loss: 2.9280 - rmse: 1.6976 - mse: 2.9280 - val_loss: 2.8163 - val_rmse: 1.6780 - val_mse: 2.8163\n",
      "Epoch 5/50\n",
      "31/31 [==============================] - 1s 21ms/step - loss: 2.4755 - rmse: 1.5673 - mse: 2.4755 - val_loss: 2.7738 - val_rmse: 1.6649 - val_mse: 2.7738\n",
      "Epoch 6/50\n",
      "31/31 [==============================] - 1s 22ms/step - loss: 2.9199 - rmse: 1.6927 - mse: 2.9199 - val_loss: 2.7491 - val_rmse: 1.6574 - val_mse: 2.7491\n",
      "Epoch 7/50\n",
      "31/31 [==============================] - 1s 22ms/step - loss: 2.7931 - rmse: 1.6576 - mse: 2.7931 - val_loss: 2.8095 - val_rmse: 1.6758 - val_mse: 2.8095\n",
      "Epoch 8/50\n",
      "31/31 [==============================] - 1s 24ms/step - loss: 2.6318 - rmse: 1.6056 - mse: 2.6318 - val_loss: 2.8374 - val_rmse: 1.6840 - val_mse: 2.8374\n",
      "Epoch 9/50\n",
      "31/31 [==============================] - 1s 22ms/step - loss: 2.4393 - rmse: 1.5475 - mse: 2.4393 - val_loss: 2.7293 - val_rmse: 1.6515 - val_mse: 2.7293\n",
      "Epoch 10/50\n",
      "31/31 [==============================] - 1s 22ms/step - loss: 2.1646 - rmse: 1.4592 - mse: 2.1646 - val_loss: 2.7394 - val_rmse: 1.6548 - val_mse: 2.7394\n",
      "Epoch 11/50\n",
      "31/31 [==============================] - 1s 22ms/step - loss: 2.4980 - rmse: 1.5706 - mse: 2.4980 - val_loss: 2.7250 - val_rmse: 1.6502 - val_mse: 2.7250\n",
      "Epoch 12/50\n",
      "31/31 [==============================] - 1s 22ms/step - loss: 2.5049 - rmse: 1.5647 - mse: 2.5049 - val_loss: 2.8600 - val_rmse: 1.6910 - val_mse: 2.8600\n",
      "Epoch 13/50\n",
      "31/31 [==============================] - 1s 21ms/step - loss: 2.9091 - rmse: 1.6896 - mse: 2.9091 - val_loss: 2.7167 - val_rmse: 1.6480 - val_mse: 2.7167\n",
      "Epoch 14/50\n",
      "31/31 [==============================] - 1s 21ms/step - loss: 2.4226 - rmse: 1.5372 - mse: 2.4226 - val_loss: 2.7335 - val_rmse: 1.6531 - val_mse: 2.7335\n",
      "Epoch 15/50\n",
      "31/31 [==============================] - 1s 22ms/step - loss: 2.3746 - rmse: 1.5276 - mse: 2.3746 - val_loss: 3.0242 - val_rmse: 1.7386 - val_mse: 3.0242\n",
      "Epoch 16/50\n",
      "31/31 [==============================] - 1s 21ms/step - loss: 2.6865 - rmse: 1.6315 - mse: 2.6865 - val_loss: 2.8009 - val_rmse: 1.6726 - val_mse: 2.8009\n",
      "Epoch 17/50\n",
      "31/31 [==============================] - 1s 21ms/step - loss: 2.6313 - rmse: 1.6121 - mse: 2.6313 - val_loss: 2.7523 - val_rmse: 1.6587 - val_mse: 2.7523\n",
      "Epoch 18/50\n",
      "31/31 [==============================] - 1s 21ms/step - loss: 2.6489 - rmse: 1.6139 - mse: 2.6489 - val_loss: 2.6144 - val_rmse: 1.6168 - val_mse: 2.6144\n",
      "Epoch 19/50\n",
      "31/31 [==============================] - 1s 23ms/step - loss: 2.3114 - rmse: 1.5070 - mse: 2.3114 - val_loss: 2.8200 - val_rmse: 1.6788 - val_mse: 2.8200\n",
      "Epoch 20/50\n",
      "31/31 [==============================] - 1s 20ms/step - loss: 2.4970 - rmse: 1.5733 - mse: 2.4970 - val_loss: 2.7674 - val_rmse: 1.6629 - val_mse: 2.7674\n",
      "Epoch 21/50\n",
      "31/31 [==============================] - 1s 22ms/step - loss: 2.5577 - rmse: 1.5904 - mse: 2.5577 - val_loss: 2.6412 - val_rmse: 1.6247 - val_mse: 2.6412\n",
      "Epoch 22/50\n",
      "31/31 [==============================] - 1s 21ms/step - loss: 2.5957 - rmse: 1.6043 - mse: 2.5957 - val_loss: 2.6997 - val_rmse: 1.6428 - val_mse: 2.6997\n",
      "Epoch 23/50\n",
      "31/31 [==============================] - 1s 21ms/step - loss: 2.3718 - rmse: 1.5108 - mse: 2.3718 - val_loss: 2.7510 - val_rmse: 1.6580 - val_mse: 2.7510\n",
      "Epoch 24/50\n",
      "31/31 [==============================] - 1s 22ms/step - loss: 2.3169 - rmse: 1.5054 - mse: 2.3169 - val_loss: 2.6907 - val_rmse: 1.6399 - val_mse: 2.6907\n",
      "Epoch 25/50\n",
      "31/31 [==============================] - 1s 21ms/step - loss: 2.3729 - rmse: 1.5221 - mse: 2.3729 - val_loss: 2.8581 - val_rmse: 1.6896 - val_mse: 2.8581\n",
      "Epoch 26/50\n",
      "31/31 [==============================] - 1s 22ms/step - loss: 2.5434 - rmse: 1.5818 - mse: 2.5434 - val_loss: 2.6396 - val_rmse: 1.6237 - val_mse: 2.6396\n",
      "Epoch 27/50\n",
      "31/31 [==============================] - 1s 23ms/step - loss: 2.3703 - rmse: 1.5295 - mse: 2.3703 - val_loss: 2.7153 - val_rmse: 1.6474 - val_mse: 2.7153\n",
      "Epoch 28/50\n",
      "31/31 [==============================] - 1s 21ms/step - loss: 2.6102 - rmse: 1.5995 - mse: 2.6102 - val_loss: 2.6663 - val_rmse: 1.6325 - val_mse: 2.6663\n",
      "Epoch 29/50\n",
      "31/31 [==============================] - 1s 21ms/step - loss: 2.5242 - rmse: 1.5770 - mse: 2.5242 - val_loss: 2.7718 - val_rmse: 1.6644 - val_mse: 2.7718\n",
      "Epoch 30/50\n",
      "31/31 [==============================] - 1s 21ms/step - loss: 2.5352 - rmse: 1.5735 - mse: 2.5352 - val_loss: 2.8649 - val_rmse: 1.6923 - val_mse: 2.8649\n",
      "Epoch 31/50\n",
      "31/31 [==============================] - 1s 37ms/step - loss: 2.3708 - rmse: 1.5229 - mse: 2.3708 - val_loss: 2.9887 - val_rmse: 1.7283 - val_mse: 2.9887\n",
      "Epoch 32/50\n",
      "31/31 [==============================] - 1s 21ms/step - loss: 2.3833 - rmse: 1.5363 - mse: 2.3833 - val_loss: 2.7299 - val_rmse: 1.6517 - val_mse: 2.7299\n",
      "Epoch 33/50\n",
      "31/31 [==============================] - 1s 24ms/step - loss: 2.5993 - rmse: 1.6046 - mse: 2.5993 - val_loss: 2.7671 - val_rmse: 1.6628 - val_mse: 2.7671\n",
      "Epoch 34/50\n",
      "31/31 [==============================] - 1s 22ms/step - loss: 2.1145 - rmse: 1.4370 - mse: 2.1145 - val_loss: 2.7493 - val_rmse: 1.6576 - val_mse: 2.7493\n",
      "Epoch 35/50\n",
      "31/31 [==============================] - 1s 27ms/step - loss: 2.6891 - rmse: 1.6348 - mse: 2.6891 - val_loss: 2.7265 - val_rmse: 1.6510 - val_mse: 2.7265\n",
      "Epoch 36/50\n",
      "31/31 [==============================] - 1s 29ms/step - loss: 2.4220 - rmse: 1.5468 - mse: 2.4220 - val_loss: 2.8011 - val_rmse: 1.6726 - val_mse: 2.8011\n",
      "Epoch 37/50\n",
      "31/31 [==============================] - 1s 21ms/step - loss: 2.3015 - rmse: 1.5081 - mse: 2.3015 - val_loss: 2.6986 - val_rmse: 1.6422 - val_mse: 2.6986\n",
      "Epoch 38/50\n",
      "31/31 [==============================] - 1s 21ms/step - loss: 2.6610 - rmse: 1.6198 - mse: 2.6610 - val_loss: 2.7092 - val_rmse: 1.6452 - val_mse: 2.7092\n",
      "Epoch 39/50\n",
      "31/31 [==============================] - 1s 21ms/step - loss: 2.0775 - rmse: 1.4316 - mse: 2.0775 - val_loss: 2.8887 - val_rmse: 1.6992 - val_mse: 2.8887\n",
      "Epoch 40/50\n",
      "31/31 [==============================] - 1s 20ms/step - loss: 2.2654 - rmse: 1.4924 - mse: 2.2654 - val_loss: 2.8913 - val_rmse: 1.6995 - val_mse: 2.8913\n",
      "Epoch 41/50\n",
      "31/31 [==============================] - 1s 23ms/step - loss: 2.7458 - rmse: 1.6388 - mse: 2.7458 - val_loss: 2.9221 - val_rmse: 1.7087 - val_mse: 2.9221\n",
      "Epoch 42/50\n",
      "31/31 [==============================] - 1s 22ms/step - loss: 2.5641 - rmse: 1.5867 - mse: 2.5641 - val_loss: 2.6895 - val_rmse: 1.6398 - val_mse: 2.6895\n",
      "Epoch 43/50\n",
      "31/31 [==============================] - 1s 22ms/step - loss: 2.5637 - rmse: 1.5929 - mse: 2.5637 - val_loss: 2.7091 - val_rmse: 1.6458 - val_mse: 2.7091\n",
      "Epoch 44/50\n",
      "31/31 [==============================] - 1s 23ms/step - loss: 2.2137 - rmse: 1.4621 - mse: 2.2137 - val_loss: 2.8049 - val_rmse: 1.6741 - val_mse: 2.8049\n",
      "Epoch 45/50\n",
      "31/31 [==============================] - 1s 20ms/step - loss: 2.3335 - rmse: 1.5106 - mse: 2.3335 - val_loss: 2.6975 - val_rmse: 1.6420 - val_mse: 2.6975\n",
      "Epoch 46/50\n",
      "31/31 [==============================] - 1s 20ms/step - loss: 2.1882 - rmse: 1.4694 - mse: 2.1882 - val_loss: 2.7769 - val_rmse: 1.6660 - val_mse: 2.7769\n",
      "Epoch 47/50\n",
      "31/31 [==============================] - 1s 20ms/step - loss: 2.2065 - rmse: 1.4693 - mse: 2.2065 - val_loss: 2.6204 - val_rmse: 1.6183 - val_mse: 2.6204\n",
      "Epoch 48/50\n",
      "31/31 [==============================] - 1s 22ms/step - loss: 2.2004 - rmse: 1.4661 - mse: 2.2004 - val_loss: 2.7581 - val_rmse: 1.6599 - val_mse: 2.7581\n",
      "Epoch 49/50\n",
      "31/31 [==============================] - 1s 21ms/step - loss: 2.4270 - rmse: 1.5426 - mse: 2.4270 - val_loss: 2.7397 - val_rmse: 1.6544 - val_mse: 2.7397\n",
      "Epoch 50/50\n",
      "31/31 [==============================] - 1s 22ms/step - loss: 2.3935 - rmse: 1.5305 - mse: 2.3935 - val_loss: 2.9664 - val_rmse: 1.7216 - val_mse: 2.9664\n"
     ]
    }
   ],
   "source": [
    "TRAIN_BATCH_SIZE = 32\n",
    "NUM_TRAIN_EXAMPLES = 10000 * 5  # training dataset repeats, it'll wrap around\n",
    "NUM_EVALS = 50  # how many times to evaluate\n",
    "# Enough to get a reasonable sample, but not so much that it slows down\n",
    "NUM_EVAL_EXAMPLES = 10000\n",
    "\n",
    "# TODO: Load training dataset\n",
    "trainds = load_dataset(\n",
    "    pattern=TRAIN_DATA_PATH,\n",
    "    batch_size=TRAIN_BATCH_SIZE,\n",
    "    mode='train')\n",
    "\n",
    "# TODO: Load evaluation dataset\n",
    "evalds = load_dataset(pattern=EVAL_DATA_PATH,\n",
    "    batch_size=1000,\n",
    "    mode='eval').take(count=NUM_EVAL_EXAMPLES // 1000)\n",
    "\n",
    "steps_per_epoch = NUM_TRAIN_EXAMPLES // (TRAIN_BATCH_SIZE * NUM_EVALS)\n",
    "\n",
    "logdir = os.path.join(\n",
    "    \"logs\", datetime.datetime.now().strftime(\"%Y%m%d-%H%M%S\"))\n",
    "tensorboard_callback = tf.keras.callbacks.TensorBoard(\n",
    "    log_dir=logdir, histogram_freq=1)\n",
    "\n",
    "# TODO: Fit model on training dataset and evaluate every so often\n",
    "history = model.fit( trainds,\n",
    "    validation_data=evalds,\n",
    "    epochs=NUM_EVALS,\n",
    "    steps_per_epoch=steps_per_epoch,\n",
    "    callbacks=[tensorboard_callback])"
   ]
  },
  {
   "cell_type": "markdown",
   "metadata": {},
   "source": [
    "### Visualize loss curve"
   ]
  },
  {
   "cell_type": "code",
   "execution_count": 38,
   "metadata": {},
   "outputs": [
    {
     "data": {
      "image/png": "[encoded data removed]",
      "text/plain": [
       "<Figure size 720x360 with 2 Axes>"
      ]
     },
     "metadata": {
      "needs_background": "light"
     },
     "output_type": "display_data"
    }
   ],
   "source": [
    "# Plot\n",
    "import matplotlib.pyplot as plt\n",
    "nrows = 1\n",
    "ncols = 2\n",
    "fig = plt.figure(figsize=(10, 5))\n",
    "\n",
    "for idx, key in enumerate([\"loss\", \"rmse\"]):\n",
    "    ax = fig.add_subplot(nrows, ncols, idx+1)\n",
    "    plt.plot(history.history[key])\n",
    "    plt.plot(history.history[\"val_{}\".format(key)])\n",
    "    plt.title(\"model {}\".format(key))\n",
    "    plt.ylabel(key)\n",
    "    plt.xlabel(\"epoch\")\n",
    "    plt.legend([\"train\", \"validation\"], loc=\"upper left\");"
   ]
  },
  {
   "cell_type": "markdown",
   "metadata": {},
   "source": [
    "### Save the model"
   ]
  },
  {
   "cell_type": "code",
   "execution_count": 39,
   "metadata": {
    "collapsed": false,
    "jupyter": {
     "outputs_hidden": false
    }
   },
   "outputs": [
    {
     "name": "stdout",
     "output_type": "stream",
     "text": [
      "INFO:tensorflow:Assets written to: babyweight_trained/20210602050228/assets\n",
      "Exported trained model to babyweight_trained/20210602050228\n"
     ]
    }
   ],
   "source": [
    "OUTPUT_DIR = \"babyweight_trained\"\n",
    "shutil.rmtree(OUTPUT_DIR, ignore_errors=True)\n",
    "EXPORT_PATH = os.path.join(\n",
    "    OUTPUT_DIR, datetime.datetime.now().strftime(\"%Y%m%d%H%M%S\"))\n",
    "tf.saved_model.save(\n",
    "    obj=model, export_dir=EXPORT_PATH)  # with default serving function\n",
    "print(\"Exported trained model to {}\".format(EXPORT_PATH))"
   ]
  },
  {
   "cell_type": "code",
   "execution_count": 40,
   "metadata": {},
   "outputs": [
    {
     "name": "stdout",
     "output_type": "stream",
     "text": [
      "assets\tsaved_model.pb\tvariables\n"
     ]
    }
   ],
   "source": [
    "!ls $EXPORT_PATH"
   ]
  },
  {
   "cell_type": "markdown",
   "metadata": {},
   "source": [
    "## Lab Summary: \n",
    "In this lab, we started by defining the CSV column names, label column, and column defaults for our data inputs. Then, we constructed a tf.data Dataset of features and the label from the CSV files and created inputs layers for the raw features. Next, we set up feature columns for the model inputs and built a deep neural network in Keras. We created a custom evaluation metric and built our DNN model. Finally, we trained and evaluated our model."
   ]
  },
  {
   "cell_type": "markdown",
   "metadata": {},
   "source": [
    "Copyright 2019 Google Inc. Licensed under the Apache License, Version 2.0 (the \"License\"); you may not use this file except in compliance with the License. You may obtain a copy of the License at http://www.apache.org/licenses/LICENSE-2.0 Unless required by applicable law or agreed to in writing, software distributed under the License is distributed on an \"AS IS\" BASIS, WITHOUT WARRANTIES OR CONDITIONS OF ANY KIND, either express or implied. See the License for the specific language governing permissions and limitations under the License"
   ]
  }
 ],
 "metadata": {
  "environment": {
   "name": "tf2-gpu.2-1.m69",
   "type": "gcloud",
   "uri": "gcr.io/deeplearning-platform-release/tf2-gpu.2-1:m69"
  },
  "kernelspec": {
   "display_name": "Python 3",
   "language": "python",
   "name": "python3"
  },
  "language_info": {
   "codemirror_mode": {
    "name": "ipython",
    "version": 3
   },
   "file_extension": ".py",
   "mimetype": "text/x-python",
   "name": "python",
   "nbconvert_exporter": "python",
   "pygments_lexer": "ipython3",
   "version": "3.7.10"
  }
 },
 "nbformat": 4,
 "nbformat_minor": 4
}

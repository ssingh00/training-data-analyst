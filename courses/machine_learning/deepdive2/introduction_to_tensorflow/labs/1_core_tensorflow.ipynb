{
 "cells": [
  {
   "cell_type": "markdown",
   "metadata": {},
   "source": [
    "# Getting started with TensorFlow\n",
    "\n",
    "**Learning Objectives**\n",
    "  1. Practice defining and performing basic operations on constant Tensors\n",
    "  1. Use Tensorflow's automatic differentiation capability\n",
    "  1. Learn how to train a linear regression from scratch with TensorFLow\n"
   ]
  },
  {
   "cell_type": "markdown",
   "metadata": {},
   "source": [
    "In this notebook, we will start by reviewing the main operations on Tensors in TensorFlow and understand how to manipulate TensorFlow Variables. We explain how these are compatible with python built-in list and numpy arrays. \n",
    "\n",
    "Then we will jump to the problem of training a linear regression from scratch with gradient descent. The first order of business will be to understand how to compute the gradients of a function (the loss here) with respect to some of its arguments (the model weights here). The TensorFlow construct allowing us to do that is `tf.GradientTape`, which we will describe. \n",
    "\n",
    "At last we will create a simple training loop to learn the weights of a 1-dim linear regression using synthetic data generated from a linear model. \n",
    "\n",
    "As a bonus exercise, we will do the same for data generated from a non linear model, forcing us to manual engineer non-linear features to improve our linear model performance."
   ]
  },
  {
   "cell_type": "code",
   "execution_count": 1,
   "metadata": {},
   "outputs": [],
   "source": [
    "!sudo chown -R jupyter:jupyter /home/jupyter/training-data-analyst"
   ]
  },
  {
   "cell_type": "code",
   "execution_count": 2,
   "metadata": {},
   "outputs": [],
   "source": [
    "# Ensure the right version of Tensorflow is installed.\n",
    "!pip freeze | grep tensorflow==2.1"
   ]
  },
  {
   "cell_type": "code",
   "execution_count": 3,
   "metadata": {},
   "outputs": [],
   "source": [
    "import numpy as np\n",
    "from matplotlib import pyplot as plt\n",
    "import tensorflow as tf"
   ]
  },
  {
   "cell_type": "code",
   "execution_count": 4,
   "metadata": {},
   "outputs": [
    {
     "name": "stdout",
     "output_type": "stream",
     "text": [
      "2.1.3\n"
     ]
    }
   ],
   "source": [
    "print(tf.__version__)"
   ]
  },
  {
   "cell_type": "markdown",
   "metadata": {},
   "source": [
    "## Operations on Tensors"
   ]
  },
  {
   "cell_type": "markdown",
   "metadata": {},
   "source": [
    "### Variables and Constants"
   ]
  },
  {
   "cell_type": "markdown",
   "metadata": {},
   "source": [
    "Tensors in TensorFlow are either contant (`tf.constant`) or variables (`tf.Variable`).\n",
    "Constant values can not be changed, while variables values can be.\n",
    "\n",
    "The main difference is that instances of `tf.Variable` have methods allowing us to change \n",
    "their values while tensors constructed with `tf.constant` don't have these methods, and\n",
    "therefore their values can not be changed. When you want to change the value of a `tf.Variable`\n",
    "`x` use one of the following method: \n",
    "\n",
    "* `x.assign(new_value)`\n",
    "* `x.assign_add(value_to_be_added)`\n",
    "* `x.assign_sub(value_to_be_subtracted`\n",
    "\n"
   ]
  },
  {
   "cell_type": "code",
   "execution_count": 11,
   "metadata": {},
   "outputs": [
    {
     "data": {
      "text/plain": [
       "<tf.Tensor: shape=(3,), dtype=int32, numpy=array([2, 3, 4], dtype=int32)>"
      ]
     },
     "execution_count": 11,
     "metadata": {},
     "output_type": "execute_result"
    }
   ],
   "source": [
    "x = tf.constant([2, 3, 4])\n",
    "x"
   ]
  },
  {
   "cell_type": "code",
   "execution_count": 12,
   "metadata": {},
   "outputs": [],
   "source": [
    "x = tf.Variable(2.0, dtype=tf.float32, name='my_variable')"
   ]
  },
  {
   "cell_type": "markdown",
   "metadata": {},
   "source": [
    "**Lab Task #1:** Use the `assign(..)` method to assign a new value to the variable `x` you created above. After each, print `x` to verify how the value changes. "
   ]
  },
  {
   "cell_type": "code",
   "execution_count": 16,
   "metadata": {},
   "outputs": [
    {
     "data": {
      "text/plain": [
       "<tf.Variable 'UnreadVariable' shape=() dtype=float32, numpy=8.0>"
      ]
     },
     "execution_count": 16,
     "metadata": {},
     "output_type": "execute_result"
    }
   ],
   "source": [
    "# TODO 1\n",
    "x.assign(8)"
   ]
  },
  {
   "cell_type": "code",
   "execution_count": 17,
   "metadata": {},
   "outputs": [
    {
     "data": {
      "text/plain": [
       "<tf.Variable 'my_variable:0' shape=() dtype=float32, numpy=9.0>"
      ]
     },
     "execution_count": 17,
     "metadata": {},
     "output_type": "execute_result"
    }
   ],
   "source": [
    "# TODO 2\n",
    "x.assign(9)\n",
    "x"
   ]
  },
  {
   "cell_type": "code",
   "execution_count": 18,
   "metadata": {},
   "outputs": [
    {
     "data": {
      "text/plain": [
       "<tf.Variable 'my_variable:0' shape=() dtype=float32, numpy=10.5>"
      ]
     },
     "execution_count": 18,
     "metadata": {},
     "output_type": "execute_result"
    }
   ],
   "source": [
    "# TODO 3\n",
    "x.assign(10.5)\n",
    "x"
   ]
  },
  {
   "cell_type": "markdown",
   "metadata": {},
   "source": [
    "### Point-wise operations"
   ]
  },
  {
   "cell_type": "markdown",
   "metadata": {},
   "source": [
    "Tensorflow offers similar point-wise tensor operations as numpy does:\n",
    "    \n",
    "* `tf.add` allows to add the components of a tensor \n",
    "* `tf.multiply` allows us to multiply the components of a tensor\n",
    "* `tf.subtract` allow us to substract the components of a tensor\n",
    "* `tf.math.*` contains the usual math operations to be applied on the components of a tensor\n",
    "* and many more...\n",
    "\n",
    "Most of the standard aritmetic operations (`tf.add`, `tf.substrac`, etc.) are overloaded by the usual corresponding arithmetic symbols (`+`, `-`, etc.)"
   ]
  },
  {
   "cell_type": "markdown",
   "metadata": {},
   "source": [
    "**Lab Task #2:** Create two tensorflow constants `a = [5, 3, 8]` and `b = [3, -1, 2]`. Then, compute \n",
    "1. the sum of the constants `a` and `b` below using `tf.add` and `+` and verify both operations produce the same values.\n",
    "2. the product of the constants `a` and `b` below using `tf.multiply` and `*` and verify both operations produce the same values.\n",
    "3. the exponential of the constant `a` using `tf.math.exp`. Note, you'll need to specify the type for this operation.\n"
   ]
  },
  {
   "cell_type": "code",
   "execution_count": 19,
   "metadata": {},
   "outputs": [
    {
     "name": "stdout",
     "output_type": "stream",
     "text": [
      "c: tf.Tensor([ 8  2 10], shape=(3,), dtype=int32)\n",
      "d: tf.Tensor([ 8  2 10], shape=(3,), dtype=int32)\n"
     ]
    }
   ],
   "source": [
    "# TODO 1\n",
    "a = tf.constant([5, 3, 8])\n",
    "b = tf.constant([3, -1, 2])\n",
    "c = tf.add(a,b)\n",
    "d = a+b\n",
    "\n",
    "print(\"c:\", c)\n",
    "print(\"d:\", d)"
   ]
  },
  {
   "cell_type": "code",
   "execution_count": 20,
   "metadata": {},
   "outputs": [
    {
     "name": "stdout",
     "output_type": "stream",
     "text": [
      "c: tf.Tensor([15 -3 16], shape=(3,), dtype=int32)\n",
      "d: tf.Tensor([15 -3 16], shape=(3,), dtype=int32)\n"
     ]
    }
   ],
   "source": [
    "# TODO 2\n",
    "a = tf.constant([5, 3, 8])\n",
    "b = tf.constant([3, -1, 2])\n",
    "c = tf.multiply(a,b)\n",
    "d = a*b\n",
    "\n",
    "print(\"c:\", c)\n",
    "print(\"d:\", d)"
   ]
  },
  {
   "cell_type": "code",
   "execution_count": 23,
   "metadata": {},
   "outputs": [
    {
     "name": "stdout",
     "output_type": "stream",
     "text": [
      "b: tf.Tensor([ 148.41316    20.085537 2980.958   ], shape=(3,), dtype=float32)\n"
     ]
    }
   ],
   "source": [
    "# TODO 3\n",
    "# tf.math.exp expects floats so we need to explicitly give the type\n",
    "a = tf.constant([5, 3, 8], dtype=tf.float32)\n",
    "b = tf.math.exp(a)\n",
    "\n",
    "print(\"b:\", b)"
   ]
  },
  {
   "cell_type": "markdown",
   "metadata": {},
   "source": [
    "### NumPy Interoperability\n",
    "\n",
    "In addition to native TF tensors, tensorflow operations can take native python types and NumPy arrays as operands. "
   ]
  },
  {
   "cell_type": "code",
   "execution_count": 26,
   "metadata": {},
   "outputs": [],
   "source": [
    "# native python list\n",
    "a_py = [1, 2] \n",
    "b_py = [3, 4] "
   ]
  },
  {
   "cell_type": "markdown",
   "metadata": {},
   "source": [
    "**Lab Task #3:** Use `tf.add` to compute the sum of the native python arrays `a` and `b`. "
   ]
  },
  {
   "cell_type": "code",
   "execution_count": 27,
   "metadata": {},
   "outputs": [
    {
     "data": {
      "text/plain": [
       "<tf.Tensor: shape=(2,), dtype=int32, numpy=array([4, 6], dtype=int32)>"
      ]
     },
     "execution_count": 27,
     "metadata": {},
     "output_type": "execute_result"
    }
   ],
   "source": [
    "# TODO 1\n",
    "tf.add(a_py, b_py)"
   ]
  },
  {
   "cell_type": "code",
   "execution_count": 29,
   "metadata": {},
   "outputs": [],
   "source": [
    "# numpy arrays\n",
    "a_np = np.array([1, 2])\n",
    "b_np = np.array([3, 4])"
   ]
  },
  {
   "cell_type": "markdown",
   "metadata": {},
   "source": [
    "**Lab Task #4:** Use `tf.add` to compute the sum of the NumPy arrays `a` and `b`. "
   ]
  },
  {
   "cell_type": "code",
   "execution_count": 30,
   "metadata": {},
   "outputs": [
    {
     "data": {
      "text/plain": [
       "<tf.Tensor: shape=(2,), dtype=int64, numpy=array([4, 6])>"
      ]
     },
     "execution_count": 30,
     "metadata": {},
     "output_type": "execute_result"
    }
   ],
   "source": [
    "# TODO 1\n",
    "tf.add(a_np, b_np)"
   ]
  },
  {
   "cell_type": "code",
   "execution_count": 32,
   "metadata": {},
   "outputs": [],
   "source": [
    "# native TF tensor\n",
    "a_tf = tf.constant([1, 2])\n",
    "b_tf = tf.constant([3, 4])"
   ]
  },
  {
   "cell_type": "markdown",
   "metadata": {},
   "source": [
    "**Lab Task #5:** Use `tf.add` to compute the sum of the Tensorflow constants `a` and `b`. "
   ]
  },
  {
   "cell_type": "code",
   "execution_count": 33,
   "metadata": {},
   "outputs": [
    {
     "data": {
      "text/plain": [
       "<tf.Tensor: shape=(2,), dtype=int32, numpy=array([4, 6], dtype=int32)>"
      ]
     },
     "execution_count": 33,
     "metadata": {},
     "output_type": "execute_result"
    }
   ],
   "source": [
    "# TODO 1\n",
    "tf.add(a_tf,b_tf)"
   ]
  },
  {
   "cell_type": "markdown",
   "metadata": {},
   "source": [
    "You can convert a native TF tensor to a NumPy array using .numpy()"
   ]
  },
  {
   "cell_type": "code",
   "execution_count": 34,
   "metadata": {},
   "outputs": [
    {
     "data": {
      "text/plain": [
       "array([1, 2], dtype=int32)"
      ]
     },
     "execution_count": 34,
     "metadata": {},
     "output_type": "execute_result"
    }
   ],
   "source": [
    "a_tf.numpy()"
   ]
  },
  {
   "cell_type": "markdown",
   "metadata": {},
   "source": [
    "## Linear Regression\n",
    "\n",
    "Now let's use low level tensorflow operations to implement linear regression.\n",
    "\n",
    "Later in the course you'll see abstracted ways to do this using high level TensorFlow."
   ]
  },
  {
   "cell_type": "markdown",
   "metadata": {},
   "source": [
    "### Toy Dataset\n",
    "\n",
    "We'll model the following function:\n",
    "\n",
    "\\begin{equation}\n",
    "y= 2x + 10\n",
    "\\end{equation}"
   ]
  },
  {
   "cell_type": "code",
   "execution_count": 35,
   "metadata": {},
   "outputs": [
    {
     "name": "stdout",
     "output_type": "stream",
     "text": [
      "X:[0. 1. 2. 3. 4. 5. 6. 7. 8. 9.]\n",
      "Y:[10. 12. 14. 16. 18. 20. 22. 24. 26. 28.]\n"
     ]
    }
   ],
   "source": [
    "X = tf.constant(range(10), dtype=tf.float32)\n",
    "Y = 2 * X + 10\n",
    "\n",
    "print(\"X:{}\".format(X))\n",
    "print(\"Y:{}\".format(Y))"
   ]
  },
  {
   "cell_type": "markdown",
   "metadata": {},
   "source": [
    "Let's also create a test dataset to evaluate our models:"
   ]
  },
  {
   "cell_type": "code",
   "execution_count": 36,
   "metadata": {},
   "outputs": [
    {
     "name": "stdout",
     "output_type": "stream",
     "text": [
      "X_test:[10. 11. 12. 13. 14. 15. 16. 17. 18. 19.]\n",
      "Y_test:[30. 32. 34. 36. 38. 40. 42. 44. 46. 48.]\n"
     ]
    }
   ],
   "source": [
    "X_test = tf.constant(range(10, 20), dtype=tf.float32)\n",
    "Y_test = 2 * X_test + 10\n",
    "\n",
    "print(\"X_test:{}\".format(X_test))\n",
    "print(\"Y_test:{}\".format(Y_test))"
   ]
  },
  {
   "cell_type": "markdown",
   "metadata": {},
   "source": [
    "#### Loss Function"
   ]
  },
  {
   "cell_type": "markdown",
   "metadata": {},
   "source": [
    "The simplest model we can build is a model that for each value of x returns the sample mean of the training set:"
   ]
  },
  {
   "cell_type": "code",
   "execution_count": 37,
   "metadata": {},
   "outputs": [
    {
     "name": "stdout",
     "output_type": "stream",
     "text": [
      "y_mean: 19.0\n",
      "Y_hat: [19.0, 19.0, 19.0, 19.0, 19.0, 19.0, 19.0, 19.0, 19.0, 19.0]\n"
     ]
    }
   ],
   "source": [
    "y_mean = Y.numpy().mean()\n",
    "print(f\"y_mean: {y_mean}\")\n",
    "\n",
    "def predict_mean(X):\n",
    "    y_hat = [y_mean] * len(X)\n",
    "    return y_hat\n",
    "\n",
    "Y_hat = predict_mean(X_test)\n",
    "print(f\"Y_hat: {Y_hat}\")"
   ]
  },
  {
   "cell_type": "markdown",
   "metadata": {},
   "source": [
    "Using mean squared error, our loss is:\n",
    "\\begin{equation}\n",
    "MSE = \\frac{1}{m}\\sum_{i=1}^{m}(\\hat{Y}_i-Y_i)^2\n",
    "\\end{equation}"
   ]
  },
  {
   "cell_type": "markdown",
   "metadata": {},
   "source": [
    "For this simple model the loss is then:"
   ]
  },
  {
   "cell_type": "code",
   "execution_count": 45,
   "metadata": {},
   "outputs": [
    {
     "name": "stdout",
     "output_type": "stream",
     "text": [
      "errors: [81. 49. 25.  9.  1.  1.  9. 25. 49. 81.]\n",
      "loss: 33.0\n"
     ]
    },
    {
     "data": {
      "text/plain": [
       "33.0"
      ]
     },
     "execution_count": 45,
     "metadata": {},
     "output_type": "execute_result"
    }
   ],
   "source": [
    "errors = (Y_hat - Y)**2\n",
    "print(f\"errors: {errors}\")\n",
    "\n",
    "loss = tf.reduce_mean(errors)\n",
    "print(f\"loss: {loss}\")\n",
    "\n",
    "loss.numpy()"
   ]
  },
  {
   "cell_type": "markdown",
   "metadata": {},
   "source": [
    "This values for the MSE loss above will give us a baseline to compare how a more complex model is doing."
   ]
  },
  {
   "cell_type": "markdown",
   "metadata": {},
   "source": [
    "Now, if $\\hat{Y}$ represents the vector containing our model's predictions when we use a linear regression model\n",
    "\\begin{equation}\n",
    "\\hat{Y} = w_0X + w_1\n",
    "\\end{equation}\n",
    "\n",
    "we can write a loss function taking as arguments the coefficients of the model:"
   ]
  },
  {
   "cell_type": "code",
   "execution_count": 46,
   "metadata": {},
   "outputs": [],
   "source": [
    "def loss_mse(X, Y, w0, w1):\n",
    "    Y_hat = w0 * X + w1\n",
    "    errors = (Y_hat - Y)**2\n",
    "    return tf.reduce_mean(errors)"
   ]
  },
  {
   "cell_type": "markdown",
   "metadata": {},
   "source": [
    "### Gradient Function\n",
    "\n",
    "To use gradient descent we need to take the partial derivatives of the loss function with respect to each of the weights. We could manually compute the derivatives, but with Tensorflow's automatic differentiation capabilities we don't have to!\n",
    "\n",
    "During gradient descent we think of the loss as a function of the parameters $w_0$ and $w_1$. Thus, we want to compute the partial derivative with respect to these variables. \n",
    "\n",
    "For that we need to wrap our loss computation within the context of `tf.GradientTape` instance which will reccord gradient information:\n",
    "\n",
    "```python\n",
    "with tf.GradientTape() as tape:\n",
    "    loss = # computation \n",
    "```\n",
    "\n",
    "This will allow us to later compute the gradients of any tensor computed within the `tf.GradientTape` context with respect to instances of `tf.Variable`:\n",
    "\n",
    "```python\n",
    "gradients = tape.gradient(loss, [w0, w1])\n",
    "```"
   ]
  },
  {
   "cell_type": "markdown",
   "metadata": {},
   "source": [
    "We illustrate this procedure with by computing the loss gradients with respect to the model weights:"
   ]
  },
  {
   "cell_type": "markdown",
   "metadata": {},
   "source": [
    "**Lab Task #6:** Complete the function below to compute the loss gradients with respect to the model weights `w0` and `w1`. "
   ]
  },
  {
   "cell_type": "code",
   "execution_count": 47,
   "metadata": {},
   "outputs": [],
   "source": [
    "# TODO 1\n",
    "def compute_gradients(X, Y, w0, w1):\n",
    "    with tf.GradientTape() as tape:\n",
    "        loss = loss_mse(X, Y, w0, w1)\n",
    "    return tape.gradient(loss, [w0, w1])"
   ]
  },
  {
   "cell_type": "code",
   "execution_count": 48,
   "metadata": {},
   "outputs": [],
   "source": [
    "w0 = tf.Variable(0.0)\n",
    "w1 = tf.Variable(0.0)\n",
    "\n",
    "dw0, dw1 = compute_gradients(X, Y, w0, w1)"
   ]
  },
  {
   "cell_type": "code",
   "execution_count": 49,
   "metadata": {},
   "outputs": [
    {
     "name": "stdout",
     "output_type": "stream",
     "text": [
      "dw0: -204.0\n"
     ]
    }
   ],
   "source": [
    "print(\"dw0:\", dw0.numpy())"
   ]
  },
  {
   "cell_type": "code",
   "execution_count": 50,
   "metadata": {},
   "outputs": [
    {
     "name": "stdout",
     "output_type": "stream",
     "text": [
      "dw1 -38.0\n"
     ]
    }
   ],
   "source": [
    "print(\"dw1\", dw1.numpy())"
   ]
  },
  {
   "cell_type": "markdown",
   "metadata": {},
   "source": [
    "### Training Loop\n",
    "\n",
    "Here we have a very simple training loop that converges. Note we are ignoring best practices like batching, creating a separate test set, and random weight initialization for the sake of simplicity."
   ]
  },
  {
   "cell_type": "markdown",
   "metadata": {},
   "source": [
    "**Lab Task #7:** Complete the `for` loop below to train a linear regression. \n",
    "1. Use `compute_gradients` to compute `dw0` and `dw1`.\n",
    "2. Then, re-assign the value of `w0` and `w1` using the `.assign_sub(...)` method with the computed gradient values and the `LEARNING_RATE`.\n",
    "3. Finally, for every 100th step , we'll compute and print the `loss`. Use the `loss_mse` function we created above to compute the `loss`. "
   ]
  },
  {
   "cell_type": "code",
   "execution_count": 54,
   "metadata": {},
   "outputs": [
    {
     "name": "stdout",
     "output_type": "stream",
     "text": [
      "STEP 0 - loss: 35.70719528198242, w0: 4.079999923706055, w1: 0.7599999904632568\n",
      "\n",
      "STEP 100 - loss: 2.6017532348632812, w0: 2.4780430793762207, w1: 7.002389907836914\n",
      "\n",
      "STEP 200 - loss: 0.26831889152526855, w0: 2.153517961502075, w1: 9.037351608276367\n",
      "\n",
      "STEP 300 - loss: 0.027671903371810913, w0: 2.0493006706237793, w1: 9.690855979919434\n",
      "\n",
      "STEP 400 - loss: 0.0028539239428937435, w0: 2.0158326625823975, w1: 9.90071964263916\n",
      "\n",
      "STEP 500 - loss: 0.0002943490108009428, w0: 2.005084753036499, w1: 9.96811580657959\n",
      "\n",
      "STEP 600 - loss: 3.0356444767676294e-05, w0: 2.0016329288482666, w1: 9.989760398864746\n",
      "\n",
      "STEP 700 - loss: 3.1322738323069643e-06, w0: 2.0005245208740234, w1: 9.996710777282715\n",
      "\n",
      "STEP 800 - loss: 3.2238213520940917e-07, w0: 2.0001683235168457, w1: 9.998944282531738\n",
      "\n",
      "STEP 900 - loss: 3.369950718479231e-08, w0: 2.000054359436035, w1: 9.999658584594727\n",
      "\n",
      "STEP 1000 - loss: 3.6101481803996194e-09, w0: 2.0000178813934326, w1: 9.99988842010498\n",
      "\n"
     ]
    }
   ],
   "source": [
    "# TODO 1\n",
    "STEPS = 1000\n",
    "LEARNING_RATE = .02\n",
    "MSG = \"STEP {step} - loss: {loss}, w0: {w0}, w1: {w1}\\n\"\n",
    "\n",
    "\n",
    "w0 = tf.Variable(0.0)\n",
    "w1 = tf.Variable(0.0)\n",
    "\n",
    "\n",
    "for step in range(0, STEPS + 1):\n",
    "\n",
    "    dw0, dw1 = compute_gradients(X, Y, w0, w1)\n",
    "    w0.assign_sub(dw0 * LEARNING_RATE)\n",
    "    w1.assign_sub(dw1 * LEARNING_RATE)\n",
    "    if step % 100 == 0:\n",
    "        loss = loss_mse(X, Y, w0, w1)\n",
    "        print(MSG.format(step=step, loss=loss, w0=w0.numpy(), w1=w1.numpy()))\n"
   ]
  },
  {
   "cell_type": "markdown",
   "metadata": {},
   "source": [
    "Now let's compare the test loss for this linear regression to the test loss from the baseline model that outputs always the mean of the training set:"
   ]
  },
  {
   "cell_type": "code",
   "execution_count": 55,
   "metadata": {},
   "outputs": [
    {
     "data": {
      "text/plain": [
       "2.4563633e-08"
      ]
     },
     "execution_count": 55,
     "metadata": {},
     "output_type": "execute_result"
    }
   ],
   "source": [
    "loss = loss_mse(X_test, Y_test, w0, w1)\n",
    "loss.numpy()"
   ]
  },
  {
   "cell_type": "markdown",
   "metadata": {},
   "source": [
    "This is indeed much better!"
   ]
  },
  {
   "cell_type": "markdown",
   "metadata": {},
   "source": [
    "## Bonus"
   ]
  },
  {
   "cell_type": "markdown",
   "metadata": {},
   "source": [
    "Try modelling a non-linear function such as: $y=xe^{-x^2}$"
   ]
  },
  {
   "cell_type": "code",
   "execution_count": 56,
   "metadata": {},
   "outputs": [],
   "source": [
    "X = tf.constant(np.linspace(0, 2, 1000), dtype=tf.float32)\n",
    "Y = X * tf.exp(-X**2)"
   ]
  },
  {
   "cell_type": "code",
   "execution_count": 57,
   "metadata": {},
   "outputs": [
    {
     "data": {
      "text/plain": [
       "[<matplotlib.lines.Line2D at 0x7f11ec5cf590>]"
      ]
     },
     "execution_count": 57,
     "metadata": {},
     "output_type": "execute_result"
    },
    {
     "data": {
      "image/png": "[encoded data removed]",
      "text/plain": [
       "<Figure size 432x288 with 1 Axes>"
      ]
     },
     "metadata": {
      "needs_background": "light"
     },
     "output_type": "display_data"
    }
   ],
   "source": [
    "%matplotlib inline\n",
    "\n",
    "plt.plot(X, Y)"
   ]
  },
  {
   "cell_type": "code",
   "execution_count": 63,
   "metadata": {},
   "outputs": [],
   "source": [
    "def make_features(X):\n",
    "    f1 = tf.ones_like(X)  # Bias.\n",
    "    f2 = X\n",
    "    f3 = tf.square(X)\n",
    "    f4 = tf.sqrt(X)\n",
    "    f5 = tf.exp(X)\n",
    "    return tf.stack([f1, f2, f3, f4, f5], axis=1)"
   ]
  },
  {
   "cell_type": "code",
   "execution_count": 64,
   "metadata": {},
   "outputs": [
    {
     "name": "stdout",
     "output_type": "stream",
     "text": [
      "tf.Tensor(\n",
      "[1. 1. 1. 1. 1. 1. 1. 1. 1. 1. 1. 1. 1. 1. 1. 1. 1. 1. 1. 1. 1. 1. 1. 1.\n",
      " 1. 1. 1. 1. 1. 1. 1. 1. 1. 1. 1. 1. 1. 1. 1. 1. 1. 1. 1. 1. 1. 1. 1. 1.\n",
      " 1. 1. 1. 1. 1. 1. 1. 1. 1. 1. 1. 1. 1. 1. 1. 1. 1. 1. 1. 1. 1. 1. 1. 1.\n",
      " 1. 1. 1. 1. 1. 1. 1. 1. 1. 1. 1. 1. 1. 1. 1. 1. 1. 1. 1. 1. 1. 1. 1. 1.\n",
      " 1. 1. 1. 1. 1. 1. 1. 1. 1. 1. 1. 1. 1. 1. 1. 1. 1. 1. 1. 1. 1. 1. 1. 1.\n",
      " 1. 1. 1. 1. 1. 1. 1. 1. 1. 1. 1. 1. 1. 1. 1. 1. 1. 1. 1. 1. 1. 1. 1. 1.\n",
      " 1. 1. 1. 1. 1. 1. 1. 1. 1. 1. 1. 1. 1. 1. 1. 1. 1. 1. 1. 1. 1. 1. 1. 1.\n",
      " 1. 1. 1. 1. 1. 1. 1. 1. 1. 1. 1. 1. 1. 1. 1. 1. 1. 1. 1. 1. 1. 1. 1. 1.\n",
      " 1. 1. 1. 1. 1. 1. 1. 1. 1. 1. 1. 1. 1. 1. 1. 1. 1. 1. 1. 1. 1. 1. 1. 1.\n",
      " 1. 1. 1. 1. 1. 1. 1. 1. 1. 1. 1. 1. 1. 1. 1. 1. 1. 1. 1. 1. 1. 1. 1. 1.\n",
      " 1. 1. 1. 1. 1. 1. 1. 1. 1. 1. 1. 1. 1. 1. 1. 1. 1. 1. 1. 1. 1. 1. 1. 1.\n",
      " 1. 1. 1. 1. 1. 1. 1. 1. 1. 1. 1. 1. 1. 1. 1. 1. 1. 1. 1. 1. 1. 1. 1. 1.\n",
      " 1. 1. 1. 1. 1. 1. 1. 1. 1. 1. 1. 1. 1. 1. 1. 1. 1. 1. 1. 1. 1. 1. 1. 1.\n",
      " 1. 1. 1. 1. 1. 1. 1. 1. 1. 1. 1. 1. 1. 1. 1. 1. 1. 1. 1. 1. 1. 1. 1. 1.\n",
      " 1. 1. 1. 1. 1. 1. 1. 1. 1. 1. 1. 1. 1. 1. 1. 1. 1. 1. 1. 1. 1. 1. 1. 1.\n",
      " 1. 1. 1. 1. 1. 1. 1. 1. 1. 1. 1. 1. 1. 1. 1. 1. 1. 1. 1. 1. 1. 1. 1. 1.\n",
      " 1. 1. 1. 1. 1. 1. 1. 1. 1. 1. 1. 1. 1. 1. 1. 1. 1. 1. 1. 1. 1. 1. 1. 1.\n",
      " 1. 1. 1. 1. 1. 1. 1. 1. 1. 1. 1. 1. 1. 1. 1. 1. 1. 1. 1. 1. 1. 1. 1. 1.\n",
      " 1. 1. 1. 1. 1. 1. 1. 1. 1. 1. 1. 1. 1. 1. 1. 1. 1. 1. 1. 1. 1. 1. 1. 1.\n",
      " 1. 1. 1. 1. 1. 1. 1. 1. 1. 1. 1. 1. 1. 1. 1. 1. 1. 1. 1. 1. 1. 1. 1. 1.\n",
      " 1. 1. 1. 1. 1. 1. 1. 1. 1. 1. 1. 1. 1. 1. 1. 1. 1. 1. 1. 1. 1. 1. 1. 1.\n",
      " 1. 1. 1. 1. 1. 1. 1. 1. 1. 1. 1. 1. 1. 1. 1. 1. 1. 1. 1. 1. 1. 1. 1. 1.\n",
      " 1. 1. 1. 1. 1. 1. 1. 1. 1. 1. 1. 1. 1. 1. 1. 1. 1. 1. 1. 1. 1. 1. 1. 1.\n",
      " 1. 1. 1. 1. 1. 1. 1. 1. 1. 1. 1. 1. 1. 1. 1. 1. 1. 1. 1. 1. 1. 1. 1. 1.\n",
      " 1. 1. 1. 1. 1. 1. 1. 1. 1. 1. 1. 1. 1. 1. 1. 1. 1. 1. 1. 1. 1. 1. 1. 1.\n",
      " 1. 1. 1. 1. 1. 1. 1. 1. 1. 1. 1. 1. 1. 1. 1. 1. 1. 1. 1. 1. 1. 1. 1. 1.\n",
      " 1. 1. 1. 1. 1. 1. 1. 1. 1. 1. 1. 1. 1. 1. 1. 1. 1. 1. 1. 1. 1. 1. 1. 1.\n",
      " 1. 1. 1. 1. 1. 1. 1. 1. 1. 1. 1. 1. 1. 1. 1. 1. 1. 1. 1. 1. 1. 1. 1. 1.\n",
      " 1. 1. 1. 1. 1. 1. 1. 1. 1. 1. 1. 1. 1. 1. 1. 1. 1. 1. 1. 1. 1. 1. 1. 1.\n",
      " 1. 1. 1. 1. 1. 1. 1. 1. 1. 1. 1. 1. 1. 1. 1. 1. 1. 1. 1. 1. 1. 1. 1. 1.\n",
      " 1. 1. 1. 1. 1. 1. 1. 1. 1. 1. 1. 1. 1. 1. 1. 1. 1. 1. 1. 1. 1. 1. 1. 1.\n",
      " 1. 1. 1. 1. 1. 1. 1. 1. 1. 1. 1. 1. 1. 1. 1. 1. 1. 1. 1. 1. 1. 1. 1. 1.\n",
      " 1. 1. 1. 1. 1. 1. 1. 1. 1. 1. 1. 1. 1. 1. 1. 1. 1. 1. 1. 1. 1. 1. 1. 1.\n",
      " 1. 1. 1. 1. 1. 1. 1. 1. 1. 1. 1. 1. 1. 1. 1. 1. 1. 1. 1. 1. 1. 1. 1. 1.\n",
      " 1. 1. 1. 1. 1. 1. 1. 1. 1. 1. 1. 1. 1. 1. 1. 1. 1. 1. 1. 1. 1. 1. 1. 1.\n",
      " 1. 1. 1. 1. 1. 1. 1. 1. 1. 1. 1. 1. 1. 1. 1. 1. 1. 1. 1. 1. 1. 1. 1. 1.\n",
      " 1. 1. 1. 1. 1. 1. 1. 1. 1. 1. 1. 1. 1. 1. 1. 1. 1. 1. 1. 1. 1. 1. 1. 1.\n",
      " 1. 1. 1. 1. 1. 1. 1. 1. 1. 1. 1. 1. 1. 1. 1. 1. 1. 1. 1. 1. 1. 1. 1. 1.\n",
      " 1. 1. 1. 1. 1. 1. 1. 1. 1. 1. 1. 1. 1. 1. 1. 1. 1. 1. 1. 1. 1. 1. 1. 1.\n",
      " 1. 1. 1. 1. 1. 1. 1. 1. 1. 1. 1. 1. 1. 1. 1. 1. 1. 1. 1. 1. 1. 1. 1. 1.\n",
      " 1. 1. 1. 1. 1. 1. 1. 1. 1. 1. 1. 1. 1. 1. 1. 1. 1. 1. 1. 1. 1. 1. 1. 1.\n",
      " 1. 1. 1. 1. 1. 1. 1. 1. 1. 1. 1. 1. 1. 1. 1. 1.], shape=(1000,), dtype=float32)\n",
      "tf.Tensor(\n",
      "[0.         0.002002   0.004004   0.00600601 0.00800801 0.01001001\n",
      " 0.01201201 0.01401401 0.01601602 0.01801802 0.02002002 0.02202202\n",
      " 0.02402402 0.02602603 0.02802803 0.03003003 0.03203203 0.03403403\n",
      " 0.03603604 0.03803804 0.04004004 0.04204204 0.04404404 0.04604604\n",
      " 0.04804805 0.05005005 0.05205205 0.05405406 0.05605606 0.05805806\n",
      " 0.06006006 0.06206206 0.06406406 0.06606606 0.06806806 0.07007007\n",
      " 0.07207207 0.07407407 0.07607608 0.07807808 0.08008008 0.08208209\n",
      " 0.08408409 0.08608609 0.08808809 0.09009009 0.09209209 0.0940941\n",
      " 0.0960961  0.0980981  0.1001001  0.1021021  0.1041041  0.1061061\n",
      " 0.10810811 0.11011011 0.11211211 0.11411411 0.11611611 0.11811811\n",
      " 0.12012012 0.12212212 0.12412412 0.12612613 0.12812813 0.13013013\n",
      " 0.13213213 0.13413413 0.13613613 0.13813815 0.14014015 0.14214215\n",
      " 0.14414415 0.14614615 0.14814815 0.15015015 0.15215215 0.15415415\n",
      " 0.15615615 0.15815815 0.16016015 0.16216215 0.16416417 0.16616617\n",
      " 0.16816817 0.17017017 0.17217217 0.17417417 0.17617618 0.17817818\n",
      " 0.18018018 0.18218218 0.18418418 0.18618618 0.1881882  0.1901902\n",
      " 0.1921922  0.1941942  0.1961962  0.1981982  0.2002002  0.2022022\n",
      " 0.2042042  0.2062062  0.2082082  0.2102102  0.2122122  0.21421422\n",
      " 0.21621622 0.21821822 0.22022022 0.22222222 0.22422422 0.22622623\n",
      " 0.22822823 0.23023023 0.23223223 0.23423423 0.23623623 0.23823825\n",
      " 0.24024025 0.24224225 0.24424425 0.24624625 0.24824825 0.25025025\n",
      " 0.25225225 0.25425425 0.25625625 0.25825825 0.26026025 0.26226225\n",
      " 0.26426426 0.26626626 0.26826826 0.27027026 0.27227226 0.27427426\n",
      " 0.2762763  0.2782783  0.2802803  0.2822823  0.2842843  0.2862863\n",
      " 0.2882883  0.2902903  0.2922923  0.2942943  0.2962963  0.2982983\n",
      " 0.3003003  0.3023023  0.3043043  0.3063063  0.3083083  0.3103103\n",
      " 0.3123123  0.3143143  0.3163163  0.3183183  0.3203203  0.3223223\n",
      " 0.3243243  0.32632634 0.32832834 0.33033034 0.33233234 0.33433434\n",
      " 0.33633634 0.33833835 0.34034035 0.34234235 0.34434435 0.34634635\n",
      " 0.34834835 0.35035035 0.35235235 0.35435435 0.35635635 0.35835835\n",
      " 0.36036035 0.36236235 0.36436436 0.36636636 0.36836836 0.37037036\n",
      " 0.37237236 0.37437436 0.3763764  0.3783784  0.3803804  0.3823824\n",
      " 0.3843844  0.3863864  0.3883884  0.3903904  0.3923924  0.3943944\n",
      " 0.3963964  0.3983984  0.4004004  0.4024024  0.4044044  0.4064064\n",
      " 0.4084084  0.4104104  0.4124124  0.4144144  0.4164164  0.4184184\n",
      " 0.4204204  0.4224224  0.4244244  0.42642644 0.42842844 0.43043044\n",
      " 0.43243244 0.43443444 0.43643644 0.43843845 0.44044045 0.44244245\n",
      " 0.44444445 0.44644645 0.44844845 0.45045045 0.45245245 0.45445445\n",
      " 0.45645645 0.45845845 0.46046045 0.46246246 0.46446446 0.46646646\n",
      " 0.46846846 0.47047046 0.47247246 0.47447446 0.4764765  0.4784785\n",
      " 0.4804805  0.4824825  0.4844845  0.4864865  0.4884885  0.4904905\n",
      " 0.4924925  0.4944945  0.4964965  0.4984985  0.5005005  0.5025025\n",
      " 0.5045045  0.5065065  0.5085085  0.5105105  0.5125125  0.5145145\n",
      " 0.5165165  0.5185185  0.5205205  0.5225225  0.5245245  0.5265265\n",
      " 0.5285285  0.5305305  0.5325325  0.5345345  0.5365365  0.5385385\n",
      " 0.5405405  0.5425425  0.5445445  0.5465465  0.5485485  0.5505506\n",
      " 0.5525526  0.5545546  0.5565566  0.5585586  0.5605606  0.5625626\n",
      " 0.5645646  0.5665666  0.5685686  0.5705706  0.5725726  0.5745746\n",
      " 0.5765766  0.5785786  0.5805806  0.5825826  0.5845846  0.5865866\n",
      " 0.5885886  0.5905906  0.5925926  0.5945946  0.5965966  0.5985986\n",
      " 0.6006006  0.6026026  0.6046046  0.6066066  0.6086086  0.6106106\n",
      " 0.6126126  0.6146146  0.6166166  0.6186186  0.6206206  0.6226226\n",
      " 0.6246246  0.6266266  0.6286286  0.6306306  0.6326326  0.6346346\n",
      " 0.6366366  0.6386386  0.6406406  0.6426426  0.6446446  0.6466466\n",
      " 0.6486486  0.6506507  0.6526527  0.6546547  0.6566567  0.6586587\n",
      " 0.6606607  0.6626627  0.6646647  0.6666667  0.6686687  0.6706707\n",
      " 0.6726727  0.6746747  0.6766767  0.6786787  0.6806807  0.6826827\n",
      " 0.6846847  0.6866867  0.6886887  0.6906907  0.6926927  0.6946947\n",
      " 0.6966967  0.6986987  0.7007007  0.7027027  0.7047047  0.7067067\n",
      " 0.7087087  0.7107107  0.7127127  0.7147147  0.7167167  0.7187187\n",
      " 0.7207207  0.7227227  0.7247247  0.7267267  0.7287287  0.7307307\n",
      " 0.7327327  0.7347347  0.7367367  0.7387387  0.7407407  0.7427427\n",
      " 0.7447447  0.7467467  0.7487487  0.7507508  0.7527528  0.7547548\n",
      " 0.7567568  0.7587588  0.7607608  0.7627628  0.7647648  0.7667668\n",
      " 0.7687688  0.7707708  0.7727728  0.7747748  0.7767768  0.7787788\n",
      " 0.7807808  0.7827828  0.7847848  0.7867868  0.7887888  0.7907908\n",
      " 0.7927928  0.7947948  0.7967968  0.7987988  0.8008008  0.8028028\n",
      " 0.8048048  0.8068068  0.8088088  0.8108108  0.8128128  0.8148148\n",
      " 0.8168168  0.8188188  0.8208208  0.8228228  0.8248248  0.8268268\n",
      " 0.8288288  0.8308308  0.8328328  0.8348348  0.8368368  0.8388388\n",
      " 0.8408408  0.8428428  0.8448448  0.8468468  0.8488488  0.8508509\n",
      " 0.8528529  0.8548549  0.8568569  0.8588589  0.8608609  0.8628629\n",
      " 0.8648649  0.8668669  0.8688689  0.8708709  0.8728729  0.8748749\n",
      " 0.8768769  0.8788789  0.8808809  0.8828829  0.8848849  0.8868869\n",
      " 0.8888889  0.8908909  0.8928929  0.8948949  0.8968969  0.8988989\n",
      " 0.9009009  0.9029029  0.9049049  0.9069069  0.9089089  0.9109109\n",
      " 0.9129129  0.9149149  0.9169169  0.9189189  0.9209209  0.9229229\n",
      " 0.9249249  0.9269269  0.9289289  0.9309309  0.9329329  0.9349349\n",
      " 0.9369369  0.9389389  0.9409409  0.9429429  0.9449449  0.9469469\n",
      " 0.9489489  0.950951   0.952953   0.954955   0.956957   0.958959\n",
      " 0.960961   0.962963   0.964965   0.966967   0.968969   0.970971\n",
      " 0.972973   0.974975   0.976977   0.978979   0.980981   0.982983\n",
      " 0.984985   0.986987   0.988989   0.990991   0.992993   0.994995\n",
      " 0.996997   0.998999   1.001001   1.003003   1.005005   1.007007\n",
      " 1.009009   1.011011   1.013013   1.015015   1.017017   1.019019\n",
      " 1.021021   1.023023   1.025025   1.027027   1.029029   1.031031\n",
      " 1.033033   1.035035   1.037037   1.039039   1.041041   1.043043\n",
      " 1.045045   1.047047   1.049049   1.051051   1.053053   1.055055\n",
      " 1.057057   1.059059   1.061061   1.063063   1.065065   1.067067\n",
      " 1.069069   1.071071   1.073073   1.075075   1.077077   1.079079\n",
      " 1.081081   1.083083   1.085085   1.087087   1.089089   1.091091\n",
      " 1.093093   1.095095   1.097097   1.099099   1.1011012  1.1031032\n",
      " 1.1051052  1.1071072  1.1091092  1.1111112  1.1131132  1.1151152\n",
      " 1.1171172  1.1191192  1.1211212  1.1231232  1.1251252  1.1271272\n",
      " 1.1291292  1.1311312  1.1331332  1.1351352  1.1371372  1.1391392\n",
      " 1.1411412  1.1431432  1.1451452  1.1471472  1.1491492  1.1511512\n",
      " 1.1531532  1.1551552  1.1571572  1.1591592  1.1611612  1.1631632\n",
      " 1.1651652  1.1671672  1.1691692  1.1711712  1.1731732  1.1751752\n",
      " 1.1771772  1.1791792  1.1811812  1.1831832  1.1851852  1.1871872\n",
      " 1.1891892  1.1911912  1.1931932  1.1951952  1.1971972  1.1991992\n",
      " 1.2012012  1.2032032  1.2052052  1.2072072  1.2092092  1.2112112\n",
      " 1.2132132  1.2152152  1.2172172  1.2192192  1.2212212  1.2232232\n",
      " 1.2252252  1.2272272  1.2292292  1.2312312  1.2332332  1.2352352\n",
      " 1.2372372  1.2392392  1.2412412  1.2432432  1.2452452  1.2472472\n",
      " 1.2492492  1.2512512  1.2532532  1.2552552  1.2572572  1.2592592\n",
      " 1.2612612  1.2632632  1.2652652  1.2672672  1.2692692  1.2712712\n",
      " 1.2732732  1.2752752  1.2772772  1.2792792  1.2812812  1.2832832\n",
      " 1.2852852  1.2872872  1.2892892  1.2912912  1.2932932  1.2952952\n",
      " 1.2972972  1.2992992  1.3013014  1.3033034  1.3053054  1.3073074\n",
      " 1.3093094  1.3113114  1.3133134  1.3153154  1.3173174  1.3193194\n",
      " 1.3213214  1.3233234  1.3253254  1.3273274  1.3293294  1.3313314\n",
      " 1.3333334  1.3353354  1.3373374  1.3393394  1.3413414  1.3433434\n",
      " 1.3453454  1.3473474  1.3493494  1.3513514  1.3533534  1.3553554\n",
      " 1.3573574  1.3593594  1.3613614  1.3633634  1.3653654  1.3673674\n",
      " 1.3693694  1.3713714  1.3733734  1.3753754  1.3773774  1.3793794\n",
      " 1.3813814  1.3833834  1.3853854  1.3873874  1.3893894  1.3913914\n",
      " 1.3933934  1.3953954  1.3973974  1.3993994  1.4014014  1.4034034\n",
      " 1.4054054  1.4074074  1.4094094  1.4114114  1.4134134  1.4154154\n",
      " 1.4174174  1.4194194  1.4214214  1.4234234  1.4254254  1.4274274\n",
      " 1.4294294  1.4314314  1.4334334  1.4354354  1.4374374  1.4394394\n",
      " 1.4414414  1.4434434  1.4454454  1.4474474  1.4494494  1.4514514\n",
      " 1.4534534  1.4554554  1.4574574  1.4594594  1.4614614  1.4634634\n",
      " 1.4654654  1.4674674  1.4694694  1.4714714  1.4734734  1.4754754\n",
      " 1.4774774  1.4794794  1.4814814  1.4834834  1.4854854  1.4874874\n",
      " 1.4894894  1.4914914  1.4934934  1.4954954  1.4974974  1.4994994\n",
      " 1.5015016  1.5035036  1.5055056  1.5075076  1.5095096  1.5115116\n",
      " 1.5135136  1.5155156  1.5175176  1.5195196  1.5215216  1.5235236\n",
      " 1.5255256  1.5275276  1.5295296  1.5315316  1.5335336  1.5355356\n",
      " 1.5375376  1.5395396  1.5415416  1.5435436  1.5455456  1.5475476\n",
      " 1.5495496  1.5515516  1.5535536  1.5555556  1.5575576  1.5595596\n",
      " 1.5615616  1.5635636  1.5655656  1.5675676  1.5695696  1.5715716\n",
      " 1.5735736  1.5755756  1.5775776  1.5795796  1.5815816  1.5835836\n",
      " 1.5855856  1.5875876  1.5895896  1.5915916  1.5935936  1.5955956\n",
      " 1.5975976  1.5995996  1.6016016  1.6036036  1.6056056  1.6076076\n",
      " 1.6096096  1.6116116  1.6136136  1.6156156  1.6176176  1.6196196\n",
      " 1.6216216  1.6236236  1.6256256  1.6276276  1.6296296  1.6316316\n",
      " 1.6336336  1.6356356  1.6376376  1.6396396  1.6416416  1.6436436\n",
      " 1.6456456  1.6476476  1.6496496  1.6516516  1.6536536  1.6556556\n",
      " 1.6576576  1.6596596  1.6616616  1.6636636  1.6656656  1.6676676\n",
      " 1.6696696  1.6716716  1.6736736  1.6756756  1.6776776  1.6796796\n",
      " 1.6816816  1.6836836  1.6856856  1.6876876  1.6896896  1.6916916\n",
      " 1.6936936  1.6956956  1.6976976  1.6996996  1.7017018  1.7037038\n",
      " 1.7057058  1.7077078  1.7097098  1.7117118  1.7137138  1.7157158\n",
      " 1.7177178  1.7197198  1.7217218  1.7237238  1.7257258  1.7277278\n",
      " 1.7297298  1.7317318  1.7337338  1.7357358  1.7377378  1.7397398\n",
      " 1.7417418  1.7437438  1.7457458  1.7477478  1.7497498  1.7517518\n",
      " 1.7537538  1.7557558  1.7577578  1.7597598  1.7617618  1.7637638\n",
      " 1.7657658  1.7677678  1.7697698  1.7717718  1.7737738  1.7757758\n",
      " 1.7777778  1.7797798  1.7817818  1.7837838  1.7857858  1.7877878\n",
      " 1.7897898  1.7917918  1.7937938  1.7957958  1.7977978  1.7997998\n",
      " 1.8018018  1.8038038  1.8058058  1.8078078  1.8098098  1.8118118\n",
      " 1.8138138  1.8158158  1.8178178  1.8198198  1.8218218  1.8238238\n",
      " 1.8258258  1.8278278  1.8298298  1.8318318  1.8338338  1.8358358\n",
      " 1.8378378  1.8398398  1.8418418  1.8438438  1.8458458  1.8478478\n",
      " 1.8498498  1.8518518  1.8538538  1.8558558  1.8578578  1.8598598\n",
      " 1.8618618  1.8638638  1.8658658  1.8678678  1.8698698  1.8718718\n",
      " 1.8738738  1.8758758  1.8778778  1.8798798  1.8818818  1.8838838\n",
      " 1.8858858  1.8878878  1.8898898  1.8918918  1.8938938  1.8958958\n",
      " 1.8978978  1.8998998  1.901902   1.903904   1.905906   1.907908\n",
      " 1.90991    1.911912   1.913914   1.915916   1.917918   1.91992\n",
      " 1.921922   1.923924   1.925926   1.927928   1.92993    1.931932\n",
      " 1.933934   1.935936   1.937938   1.93994    1.941942   1.943944\n",
      " 1.945946   1.947948   1.94995    1.951952   1.953954   1.955956\n",
      " 1.957958   1.95996    1.961962   1.963964   1.965966   1.967968\n",
      " 1.96997    1.971972   1.973974   1.975976   1.977978   1.97998\n",
      " 1.981982   1.983984   1.985986   1.987988   1.98999    1.991992\n",
      " 1.993994   1.995996   1.997998   2.        ], shape=(1000,), dtype=float32)\n",
      "tf.Tensor(\n",
      "[0.00000000e+00 4.00801173e-06 1.60320469e-05 3.60721097e-05\n",
      " 6.41281877e-05 1.00200290e-04 1.44288439e-04 1.96392590e-04\n",
      " 2.56512751e-04 3.24648980e-04 4.00801160e-04 4.84969438e-04\n",
      " 5.77153754e-04 6.77353994e-04 7.85570359e-04 9.01802734e-04\n",
      " 1.02605100e-03 1.15831534e-03 1.29859592e-03 1.44689227e-03\n",
      " 1.60320464e-03 1.76753337e-03 1.93987775e-03 2.12023826e-03\n",
      " 2.30861502e-03 2.50500743e-03 2.70941597e-03 2.92184087e-03\n",
      " 3.14228144e-03 3.37073789e-03 3.60721094e-03 3.85169964e-03\n",
      " 4.10420401e-03 4.36472474e-03 4.63326136e-03 4.90981527e-03\n",
      " 5.19438367e-03 5.48696844e-03 5.78756910e-03 6.09618612e-03\n",
      " 6.41281856e-03 6.73746876e-03 7.07013346e-03 7.41081452e-03\n",
      " 7.75951101e-03 8.11622385e-03 8.48095305e-03 8.85369908e-03\n",
      " 9.23446007e-03 9.62323695e-03 1.00200297e-02 1.04248393e-02\n",
      " 1.08376639e-02 1.12585053e-02 1.16873635e-02 1.21242367e-02\n",
      " 1.25691257e-02 1.30220307e-02 1.34829516e-02 1.39518892e-02\n",
      " 1.44288437e-02 1.49138132e-02 1.54067986e-02 1.59077998e-02\n",
      " 1.64168160e-02 1.69338491e-02 1.74588989e-02 1.79919638e-02\n",
      " 1.85330454e-02 1.90821476e-02 1.96392611e-02 2.02043895e-02\n",
      " 2.07775347e-02 2.13586967e-02 2.19478738e-02 2.25450676e-02\n",
      " 2.31502764e-02 2.37635020e-02 2.43847445e-02 2.50140019e-02\n",
      " 2.56512742e-02 2.62965653e-02 2.69498751e-02 2.76111960e-02\n",
      " 2.82805339e-02 2.89578885e-02 2.96432581e-02 3.03366426e-02\n",
      " 3.10380440e-02 3.17474641e-02 3.24648954e-02 3.31903473e-02\n",
      " 3.39238122e-02 3.46652940e-02 3.54147963e-02 3.61723118e-02\n",
      " 3.69378403e-02 3.77113856e-02 3.84929478e-02 3.92825268e-02\n",
      " 4.00801189e-02 4.08857316e-02 4.16993573e-02 4.25209962e-02\n",
      " 4.33506556e-02 4.41883281e-02 4.50340211e-02 4.58877310e-02\n",
      " 4.67494540e-02 4.76191938e-02 4.84969467e-02 4.93827164e-02\n",
      " 5.02765030e-02 5.11783063e-02 5.20881228e-02 5.30059561e-02\n",
      " 5.39318062e-02 5.48656732e-02 5.58075570e-02 5.67574613e-02\n",
      " 5.77153750e-02 5.86813055e-02 5.96552528e-02 6.06372133e-02\n",
      " 6.16271943e-02 6.26251847e-02 6.36311993e-02 6.46452233e-02\n",
      " 6.56672642e-02 6.66973218e-02 6.77353963e-02 6.87814876e-02\n",
      " 6.98355958e-02 7.08977208e-02 7.19678551e-02 7.30460137e-02\n",
      " 7.41321817e-02 7.52263665e-02 7.63285905e-02 7.74388090e-02\n",
      " 7.85570443e-02 7.96832964e-02 8.08175579e-02 8.19598436e-02\n",
      " 8.31101388e-02 8.42684582e-02 8.54347870e-02 8.66091326e-02\n",
      " 8.77914950e-02 8.89818743e-02 9.01802704e-02 9.13866833e-02\n",
      " 9.26011056e-02 9.38235521e-02 9.50540081e-02 9.62924883e-02\n",
      " 9.75389779e-02 9.87934843e-02 1.00056008e-01 1.01326548e-01\n",
      " 1.02605097e-01 1.03891671e-01 1.05186261e-01 1.06488883e-01\n",
      " 1.07799500e-01 1.09118134e-01 1.10444784e-01 1.11779451e-01\n",
      " 1.13122135e-01 1.14472836e-01 1.15831554e-01 1.17198281e-01\n",
      " 1.18573032e-01 1.19955793e-01 1.21346571e-01 1.22745365e-01\n",
      " 1.24152176e-01 1.25567004e-01 1.26989856e-01 1.28420711e-01\n",
      " 1.29859582e-01 1.31306469e-01 1.32761389e-01 1.34224311e-01\n",
      " 1.35695249e-01 1.37174204e-01 1.38661176e-01 1.40156165e-01\n",
      " 1.41659185e-01 1.43170208e-01 1.44689247e-01 1.46216288e-01\n",
      " 1.47751361e-01 1.49294451e-01 1.50845543e-01 1.52404666e-01\n",
      " 1.53971791e-01 1.55546948e-01 1.57130107e-01 1.58721283e-01\n",
      " 1.60320476e-01 1.61927685e-01 1.63542926e-01 1.65166169e-01\n",
      " 1.66797429e-01 1.68436706e-01 1.70083985e-01 1.71739295e-01\n",
      " 1.73402622e-01 1.75073966e-01 1.76753312e-01 1.78440690e-01\n",
      " 1.80136085e-01 1.81839511e-01 1.83550924e-01 1.85270369e-01\n",
      " 1.86997816e-01 1.88733280e-01 1.90476775e-01 1.92228273e-01\n",
      " 1.93987787e-01 1.95755318e-01 1.97530866e-01 1.99314430e-01\n",
      " 2.01106012e-01 2.02905610e-01 2.04713225e-01 2.06528842e-01\n",
      " 2.08352491e-01 2.10184157e-01 2.12023824e-01 2.13871524e-01\n",
      " 2.15727225e-01 2.17590958e-01 2.19462693e-01 2.21342459e-01\n",
      " 2.23230228e-01 2.25126013e-01 2.27029845e-01 2.28941664e-01\n",
      " 2.30861500e-01 2.32789353e-01 2.34725222e-01 2.36669108e-01\n",
      " 2.38621011e-01 2.40580931e-01 2.42548853e-01 2.44524807e-01\n",
      " 2.46508777e-01 2.48500749e-01 2.50500739e-01 2.52508759e-01\n",
      " 2.54524797e-01 2.56548852e-01 2.58580893e-01 2.60620981e-01\n",
      " 2.62669057e-01 2.64725178e-01 2.66789287e-01 2.68861443e-01\n",
      " 2.70941585e-01 2.73029774e-01 2.75125951e-01 2.77230173e-01\n",
      " 2.79342383e-01 2.81462610e-01 2.83590883e-01 2.85727143e-01\n",
      " 2.87871420e-01 2.90023744e-01 2.92184055e-01 2.94352382e-01\n",
      " 2.96528727e-01 2.98713088e-01 3.00905466e-01 3.03105950e-01\n",
      " 3.05314362e-01 3.07530791e-01 3.09755236e-01 3.11987698e-01\n",
      " 3.14228177e-01 3.16476673e-01 3.18733186e-01 3.20997685e-01\n",
      " 3.23270231e-01 3.25550795e-01 3.27839375e-01 3.30135971e-01\n",
      " 3.32440555e-01 3.34753186e-01 3.37073833e-01 3.39402467e-01\n",
      " 3.41739148e-01 3.44083846e-01 3.46436530e-01 3.48797262e-01\n",
      " 3.51165980e-01 3.53542745e-01 3.55927497e-01 3.58320296e-01\n",
      " 3.60721081e-01 3.63129884e-01 3.65546733e-01 3.67971569e-01\n",
      " 3.70404422e-01 3.72845322e-01 3.75294209e-01 3.77751112e-01\n",
      " 3.80216032e-01 3.82688969e-01 3.85169953e-01 3.87658924e-01\n",
      " 3.90155911e-01 3.92660916e-01 3.95173937e-01 3.97694975e-01\n",
      " 4.00224030e-01 4.02761102e-01 4.05306190e-01 4.07859296e-01\n",
      " 4.10420388e-01 4.12989527e-01 4.15566683e-01 4.18151855e-01\n",
      " 4.20745045e-01 4.23346311e-01 4.25955534e-01 4.28572744e-01\n",
      " 4.31198001e-01 4.33831275e-01 4.36472535e-01 4.39121842e-01\n",
      " 4.41779137e-01 4.44444478e-01 4.47117805e-01 4.49799180e-01\n",
      " 4.52488542e-01 4.55185950e-01 4.57891345e-01 4.60604757e-01\n",
      " 4.63326216e-01 4.66055661e-01 4.68793124e-01 4.71538603e-01\n",
      " 4.74292129e-01 4.77053642e-01 4.79823172e-01 4.82600719e-01\n",
      " 4.85386282e-01 4.88179862e-01 4.90981460e-01 4.93791074e-01\n",
      " 4.96608704e-01 4.99434352e-01 5.02268016e-01 5.05109727e-01\n",
      " 5.07959425e-01 5.10817111e-01 5.13682842e-01 5.16556561e-01\n",
      " 5.19438326e-01 5.22328138e-01 5.25225878e-01 5.28131723e-01\n",
      " 5.31045556e-01 5.33967376e-01 5.36897242e-01 5.39835095e-01\n",
      " 5.42780995e-01 5.45734882e-01 5.48696816e-01 5.51666737e-01\n",
      " 5.54644704e-01 5.57630658e-01 5.60624659e-01 5.63626707e-01\n",
      " 5.66636741e-01 5.69654763e-01 5.72680831e-01 5.75714886e-01\n",
      " 5.78756988e-01 5.81807077e-01 5.84865153e-01 5.87931275e-01\n",
      " 5.91005445e-01 5.94087601e-01 5.97177804e-01 6.00275993e-01\n",
      " 6.03382170e-01 6.06496394e-01 6.09618664e-01 6.12748921e-01\n",
      " 6.15887165e-01 6.19033456e-01 6.22187793e-01 6.25350058e-01\n",
      " 6.28520429e-01 6.31698787e-01 6.34885132e-01 6.38079524e-01\n",
      " 6.41281903e-01 6.44492328e-01 6.47710741e-01 6.50937200e-01\n",
      " 6.54171705e-01 6.57414138e-01 6.60664678e-01 6.63923144e-01\n",
      " 6.67189717e-01 6.70464218e-01 6.73746824e-01 6.77037358e-01\n",
      " 6.80335939e-01 6.83642566e-01 6.86957181e-01 6.90279841e-01\n",
      " 6.93610489e-01 6.96949184e-01 7.00295866e-01 7.03650534e-01\n",
      " 7.07013249e-01 7.10384011e-01 7.13762760e-01 7.17149556e-01\n",
      " 7.20544338e-01 7.23947227e-01 7.27358043e-01 7.30776846e-01\n",
      " 7.34203696e-01 7.37638593e-01 7.41081476e-01 7.44532347e-01\n",
      " 7.47991264e-01 7.51458228e-01 7.54933119e-01 7.58416116e-01\n",
      " 7.61907101e-01 7.65406072e-01 7.68913090e-01 7.72428095e-01\n",
      " 7.75951147e-01 7.79482186e-01 7.83021271e-01 7.86568344e-01\n",
      " 7.90123463e-01 7.93686569e-01 7.97257721e-01 8.00836861e-01\n",
      " 8.04424047e-01 8.08019221e-01 8.11622441e-01 8.15233648e-01\n",
      " 8.18852901e-01 8.22480142e-01 8.26115370e-01 8.29758704e-01\n",
      " 8.33409965e-01 8.37069273e-01 8.40736628e-01 8.44411969e-01\n",
      " 8.48095298e-01 8.51786673e-01 8.55486095e-01 8.59193504e-01\n",
      " 8.62908900e-01 8.66632342e-01 8.70363832e-01 8.74103308e-01\n",
      " 8.77850771e-01 8.81606281e-01 8.85369837e-01 8.89141321e-01\n",
      " 8.92920911e-01 8.96708488e-01 9.00504053e-01 9.04307783e-01\n",
      " 9.08119380e-01 9.11939025e-01 9.15766656e-01 9.19602334e-01\n",
      " 9.23446000e-01 9.27297711e-01 9.31157410e-01 9.35025156e-01\n",
      " 9.38900888e-01 9.42784667e-01 9.46676433e-01 9.50576246e-01\n",
      " 9.54484046e-01 9.58399892e-01 9.62323725e-01 9.66255546e-01\n",
      " 9.70195413e-01 9.74143326e-01 9.78099227e-01 9.82063174e-01\n",
      " 9.86035109e-01 9.90015030e-01 9.94002998e-01 9.97999012e-01\n",
      " 1.00200295e+00 1.00601506e+00 1.01003504e+00 1.01406312e+00\n",
      " 1.01809919e+00 1.02214324e+00 1.02619541e+00 1.03025544e+00\n",
      " 1.03432357e+00 1.03839970e+00 1.04248393e+00 1.04657602e+00\n",
      " 1.05067623e+00 1.05478454e+00 1.05890071e+00 1.06302500e+00\n",
      " 1.06715715e+00 1.07129753e+00 1.07544577e+00 1.07960212e+00\n",
      " 1.08376634e+00 1.08793879e+00 1.09211910e+00 1.09630752e+00\n",
      " 1.10050380e+00 1.10470819e+00 1.10892069e+00 1.11314106e+00\n",
      " 1.11736953e+00 1.12160599e+00 1.12585044e+00 1.13010299e+00\n",
      " 1.13436353e+00 1.13863206e+00 1.14290857e+00 1.14719319e+00\n",
      " 1.15148568e+00 1.15578628e+00 1.16009498e+00 1.16441154e+00\n",
      " 1.16873622e+00 1.17306888e+00 1.17740953e+00 1.18175817e+00\n",
      " 1.18611491e+00 1.19047964e+00 1.19485235e+00 1.19923317e+00\n",
      " 1.20362186e+00 1.20801866e+00 1.21242380e+00 1.21683657e+00\n",
      " 1.22125745e+00 1.22568631e+00 1.23012316e+00 1.23456800e+00\n",
      " 1.23902094e+00 1.24348187e+00 1.24795079e+00 1.25242770e+00\n",
      " 1.25691271e+00 1.26140571e+00 1.26590669e+00 1.27041566e+00\n",
      " 1.27493274e+00 1.27945769e+00 1.28399074e+00 1.28853190e+00\n",
      " 1.29308093e+00 1.29763806e+00 1.30220318e+00 1.30677629e+00\n",
      " 1.31135750e+00 1.31594670e+00 1.32054389e+00 1.32514906e+00\n",
      " 1.32976222e+00 1.33438349e+00 1.33901274e+00 1.34364998e+00\n",
      " 1.34829533e+00 1.35294855e+00 1.35760987e+00 1.36227930e+00\n",
      " 1.36695659e+00 1.37164199e+00 1.37633538e+00 1.38103676e+00\n",
      " 1.38574612e+00 1.39046359e+00 1.39518905e+00 1.39992249e+00\n",
      " 1.40466392e+00 1.40941346e+00 1.41417098e+00 1.41893649e+00\n",
      " 1.42370999e+00 1.42849159e+00 1.43328118e+00 1.43807876e+00\n",
      " 1.44288433e+00 1.44769800e+00 1.45251954e+00 1.45734918e+00\n",
      " 1.46218693e+00 1.46703255e+00 1.47188628e+00 1.47674799e+00\n",
      " 1.48161769e+00 1.48649549e+00 1.49138129e+00 1.49627507e+00\n",
      " 1.50117683e+00 1.50608659e+00 1.51100445e+00 1.51593029e+00\n",
      " 1.52086413e+00 1.52580607e+00 1.53075588e+00 1.53571379e+00\n",
      " 1.54067981e+00 1.54565370e+00 1.55063570e+00 1.55562568e+00\n",
      " 1.56062365e+00 1.56562960e+00 1.57064366e+00 1.57566571e+00\n",
      " 1.58069575e+00 1.58573377e+00 1.59077990e+00 1.59583402e+00\n",
      " 1.60089612e+00 1.60596621e+00 1.61104441e+00 1.61613059e+00\n",
      " 1.62122476e+00 1.62632692e+00 1.63143718e+00 1.63655531e+00\n",
      " 1.64168155e+00 1.64681590e+00 1.65195811e+00 1.65710843e+00\n",
      " 1.66226673e+00 1.66743302e+00 1.67260742e+00 1.67778981e+00\n",
      " 1.68298018e+00 1.68817854e+00 1.69338524e+00 1.69859970e+00\n",
      " 1.70382214e+00 1.70905256e+00 1.71429098e+00 1.71953750e+00\n",
      " 1.72479200e+00 1.73005450e+00 1.73532510e+00 1.74060357e+00\n",
      " 1.74589014e+00 1.75118470e+00 1.75648737e+00 1.76179790e+00\n",
      " 1.76711655e+00 1.77244318e+00 1.77777791e+00 1.78312051e+00\n",
      " 1.78847122e+00 1.79382992e+00 1.79919672e+00 1.80457139e+00\n",
      " 1.80995417e+00 1.81534493e+00 1.82074380e+00 1.82615054e+00\n",
      " 1.83156538e+00 1.83698821e+00 1.84241903e+00 1.84785795e+00\n",
      " 1.85330486e+00 1.85875976e+00 1.86422265e+00 1.86969352e+00\n",
      " 1.87517250e+00 1.88065946e+00 1.88615441e+00 1.89165747e+00\n",
      " 1.89716852e+00 1.90268755e+00 1.90821457e+00 1.91374958e+00\n",
      " 1.91929269e+00 1.92484379e+00 1.93040287e+00 1.93597007e+00\n",
      " 1.94154513e+00 1.94712830e+00 1.95271945e+00 1.95831871e+00\n",
      " 1.96392584e+00 1.96954107e+00 1.97516429e+00 1.98079562e+00\n",
      " 1.98643482e+00 1.99208212e+00 1.99773741e+00 2.00340080e+00\n",
      " 2.00907207e+00 2.01475143e+00 2.02043891e+00 2.02613425e+00\n",
      " 2.03183770e+00 2.03754902e+00 2.04326844e+00 2.04899597e+00\n",
      " 2.05473137e+00 2.06047487e+00 2.06622624e+00 2.07198572e+00\n",
      " 2.07775331e+00 2.08352900e+00 2.08931255e+00 2.09510398e+00\n",
      " 2.10090351e+00 2.10671115e+00 2.11252689e+00 2.11835051e+00\n",
      " 2.12418222e+00 2.13002181e+00 2.13586950e+00 2.14172530e+00\n",
      " 2.14758897e+00 2.15346074e+00 2.15934038e+00 2.16522813e+00\n",
      " 2.17112398e+00 2.17702770e+00 2.18293953e+00 2.18885946e+00\n",
      " 2.19478726e+00 2.20072317e+00 2.20666695e+00 2.21261883e+00\n",
      " 2.21857882e+00 2.22454667e+00 2.23052263e+00 2.23650670e+00\n",
      " 2.24249864e+00 2.24849868e+00 2.25450683e+00 2.26052284e+00\n",
      " 2.26654696e+00 2.27257895e+00 2.27861905e+00 2.28466725e+00\n",
      " 2.29072332e+00 2.29678750e+00 2.30285954e+00 2.30893970e+00\n",
      " 2.31502795e+00 2.32112408e+00 2.32722831e+00 2.33334041e+00\n",
      " 2.33946061e+00 2.34558892e+00 2.35172510e+00 2.35786939e+00\n",
      " 2.36402178e+00 2.37018204e+00 2.37635040e+00 2.38252687e+00\n",
      " 2.38871121e+00 2.39490342e+00 2.40110397e+00 2.40731239e+00\n",
      " 2.41352868e+00 2.41975307e+00 2.42598557e+00 2.43222618e+00\n",
      " 2.43847466e+00 2.44473100e+00 2.45099568e+00 2.45726824e+00\n",
      " 2.46354866e+00 2.46983719e+00 2.47613382e+00 2.48243833e+00\n",
      " 2.48875117e+00 2.49507165e+00 2.50140023e+00 2.50773692e+00\n",
      " 2.51408172e+00 2.52043438e+00 2.52679515e+00 2.53316379e+00\n",
      " 2.53954053e+00 2.54592538e+00 2.55231810e+00 2.55871892e+00\n",
      " 2.56512761e+00 2.57154441e+00 2.57796931e+00 2.58440232e+00\n",
      " 2.59084296e+00 2.59729195e+00 2.60374880e+00 2.61021376e+00\n",
      " 2.61668682e+00 2.62316775e+00 2.62965655e+00 2.63615370e+00\n",
      " 2.64265871e+00 2.64917159e+00 2.65569258e+00 2.66222167e+00\n",
      " 2.66875887e+00 2.67530394e+00 2.68185687e+00 2.68841815e+00\n",
      " 2.69498730e+00 2.70156431e+00 2.70814943e+00 2.71474266e+00\n",
      " 2.72134376e+00 2.72795320e+00 2.73457026e+00 2.74119544e+00\n",
      " 2.74782872e+00 2.75447011e+00 2.76111937e+00 2.76777673e+00\n",
      " 2.77444196e+00 2.78111529e+00 2.78779674e+00 2.79448605e+00\n",
      " 2.80118346e+00 2.80788875e+00 2.81460214e+00 2.82132363e+00\n",
      " 2.82805300e+00 2.83479047e+00 2.84153605e+00 2.84828949e+00\n",
      " 2.85505104e+00 2.86182070e+00 2.86859822e+00 2.87538362e+00\n",
      " 2.88217735e+00 2.88897896e+00 2.89578891e+00 2.90260649e+00\n",
      " 2.90943217e+00 2.91626573e+00 2.92310739e+00 2.92995715e+00\n",
      " 2.93681479e+00 2.94368052e+00 2.95055437e+00 2.95743608e+00\n",
      " 2.96432590e+00 2.97122359e+00 2.97812939e+00 2.98504329e+00\n",
      " 2.99196506e+00 2.99889493e+00 3.00583291e+00 3.01277876e+00\n",
      " 3.01973248e+00 3.02669454e+00 3.03366446e+00 3.04064226e+00\n",
      " 3.04762840e+00 3.05462241e+00 3.06162429e+00 3.06863427e+00\n",
      " 3.07565236e+00 3.08267832e+00 3.08971238e+00 3.09675455e+00\n",
      " 3.10380459e+00 3.11086273e+00 3.11792874e+00 3.12500286e+00\n",
      " 3.13208508e+00 3.13917518e+00 3.14627337e+00 3.15337968e+00\n",
      " 3.16049385e+00 3.16761613e+00 3.17474627e+00 3.18188453e+00\n",
      " 3.18903089e+00 3.19618511e+00 3.20334744e+00 3.21051788e+00\n",
      " 3.21769619e+00 3.22488260e+00 3.23207688e+00 3.23927927e+00\n",
      " 3.24648976e+00 3.25370812e+00 3.26093459e+00 3.26816916e+00\n",
      " 3.27541161e+00 3.28266191e+00 3.28992057e+00 3.29718709e+00\n",
      " 3.30446148e+00 3.31174421e+00 3.31903481e+00 3.32633328e+00\n",
      " 3.33363986e+00 3.34095454e+00 3.34827709e+00 3.35560775e+00\n",
      " 3.36294651e+00 3.37029314e+00 3.37764788e+00 3.38501048e+00\n",
      " 3.39238119e+00 3.39976001e+00 3.40714669e+00 3.41454148e+00\n",
      " 3.42194438e+00 3.42935514e+00 3.43677402e+00 3.44420075e+00\n",
      " 3.45163560e+00 3.45907855e+00 3.46652937e+00 3.47398829e+00\n",
      " 3.48145533e+00 3.48893023e+00 3.49641323e+00 3.50390410e+00\n",
      " 3.51140308e+00 3.51891017e+00 3.52642512e+00 3.53394818e+00\n",
      " 3.54147935e+00 3.54901838e+00 3.55656528e+00 3.56412053e+00\n",
      " 3.57168365e+00 3.57925463e+00 3.58683395e+00 3.59442115e+00\n",
      " 3.60201621e+00 3.60961938e+00 3.61723113e+00 3.62485027e+00\n",
      " 3.63247752e+00 3.64011288e+00 3.64775610e+00 3.65540743e+00\n",
      " 3.66306663e+00 3.67073393e+00 3.67840934e+00 3.68609262e+00\n",
      " 3.69378400e+00 3.70148349e+00 3.70919085e+00 3.71690631e+00\n",
      " 3.72462964e+00 3.73236108e+00 3.74010062e+00 3.74784803e+00\n",
      " 3.75560355e+00 3.76336718e+00 3.77113867e+00 3.77891827e+00\n",
      " 3.78670573e+00 3.79450130e+00 3.80230498e+00 3.81011653e+00\n",
      " 3.81793618e+00 3.82576370e+00 3.83359957e+00 3.84144306e+00\n",
      " 3.84929490e+00 3.85715461e+00 3.86502218e+00 3.87289810e+00\n",
      " 3.88078165e+00 3.88867354e+00 3.89657331e+00 3.90448117e+00\n",
      " 3.91239691e+00 3.92032075e+00 3.92825270e+00 3.93619251e+00\n",
      " 3.94414043e+00 3.95209622e+00 3.96006012e+00 3.96803212e+00\n",
      " 3.97601199e+00 3.98399997e+00 3.99199605e+00 4.00000000e+00], shape=(1000,), dtype=float32)\n",
      "tf.Tensor(\n",
      "[0.         0.04474374 0.0632772  0.07749843 0.08948747 0.10005002\n",
      " 0.10959934 0.11838081 0.1265544  0.13423121 0.14149211 0.14839818\n",
      " 0.15499686 0.16132583 0.16741572 0.17329173 0.17897494 0.18448316\n",
      " 0.1898316  0.19503342 0.20010005 0.20504156 0.20986673 0.21458341\n",
      " 0.21919867 0.22371867 0.22814918 0.2324953  0.23676161 0.2409524\n",
      " 0.24507153 0.24912259 0.2531088  0.2570332  0.26089856 0.2647075\n",
      " 0.26846242 0.27216554 0.2758189  0.27942452 0.28298423 0.2864997\n",
      " 0.28997257 0.29340428 0.29679635 0.3001501  0.30346677 0.30674762\n",
      " 0.3099937  0.31320614 0.31638598 0.31953418 0.32265165 0.3257393\n",
      " 0.32879797 0.33182842 0.33483145 0.3378078  0.34075812 0.34368318\n",
      " 0.34658346 0.34945977 0.35231256 0.35514235 0.35794988 0.36073554\n",
      " 0.36349985 0.36624327 0.3689663  0.3716694  0.374353   0.37701744\n",
      " 0.3796632  0.3822907  0.3849002  0.3874921  0.39006683 0.3926247\n",
      " 0.39516595 0.39769104 0.4002001  0.40269363 0.4051718  0.40763482\n",
      " 0.41008312 0.41251683 0.41493636 0.41734177 0.41973346 0.42211157\n",
      " 0.4244763  0.4268281  0.42916682 0.43149292 0.43380666 0.43610796\n",
      " 0.43839735 0.4406747  0.4429404  0.44519457 0.44743735 0.449669\n",
      " 0.45188954 0.45409933 0.45629835 0.45848686 0.46066493 0.4628328\n",
      " 0.4649906  0.46713832 0.46927628 0.4714045  0.47352323 0.47563243\n",
      " 0.4777324  0.47982314 0.4819048  0.4839775  0.48604137 0.48809657\n",
      " 0.49014306 0.4921811  0.49421075 0.49623206 0.49824518 0.5002501\n",
      " 0.50224715 0.5042363  0.5062176  0.50819117 0.510157   0.5121155\n",
      " 0.5140664  0.5160099  0.5179462  0.5198752  0.5217971  0.523712\n",
      " 0.5256199  0.5275209  0.529415   0.53130245 0.53318316 0.53505725\n",
      " 0.53692484 0.53878593 0.5406406  0.54248893 0.5443311  0.5461669\n",
      " 0.54799664 0.54982024 0.5516378  0.55344945 0.5552552  0.557055\n",
      " 0.55884904 0.5606374  0.56242007 0.564197   0.56596845 0.56773436\n",
      " 0.5694947  0.5712498  0.5729994  0.57474375 0.57648265 0.5782165\n",
      " 0.57994515 0.58166856 0.58338696 0.58510023 0.58680856 0.588512\n",
      " 0.5902104  0.591904   0.5935927  0.5952767  0.5969559  0.5986304\n",
      " 0.6003002  0.6019654  0.603626   0.6052821  0.60693353 0.6085805\n",
      " 0.6102232  0.61186135 0.61349523 0.6151247  0.6167498  0.6183707\n",
      " 0.6199874  0.6215999  0.62320817 0.6248123  0.6264123  0.6280083\n",
      " 0.62960017 0.63118804 0.63277197 0.6343519  0.635928   0.63750017\n",
      " 0.63906837 0.6406328  0.64219344 0.64375025 0.6453033  0.64685273\n",
      " 0.6483983  0.6499403  0.6514786  0.65301335 0.6545445  0.65607196\n",
      " 0.65759593 0.6591164  0.6606334  0.6621468  0.66365683 0.6651634\n",
      " 0.6666667  0.6681665  0.6696629  0.671156   0.6726458  0.67413235\n",
      " 0.6756156  0.6770956  0.67857236 0.6800459  0.68151623 0.6829835\n",
      " 0.6844475  0.6859085  0.68736637 0.6888211  0.69027275 0.69172144\n",
      " 0.6931669  0.6946095  0.6960492  0.69748586 0.69891953 0.7003502\n",
      " 0.70177805 0.703203   0.7046251  0.70604426 0.70746046 0.7088741\n",
      " 0.7102847  0.7116927  0.7130979  0.7145002  0.71589977 0.71729666\n",
      " 0.7186908  0.7200823  0.7214711  0.7228572  0.72424066 0.7256214\n",
      " 0.7269997  0.7283752  0.72974825 0.73111874 0.73248655 0.73385173\n",
      " 0.7352146  0.73657477 0.7379326  0.7392878  0.74064064 0.7419909\n",
      " 0.7433388  0.7446842  0.74602723 0.7473677  0.748706   0.7500416\n",
      " 0.75137514 0.7527062  0.7540349  0.75536126 0.7566852  0.758007\n",
      " 0.7593264  0.7606435  0.76195836 0.76327103 0.7645814  0.76588947\n",
      " 0.7671953  0.7684989  0.7698004  0.7710996  0.7723966  0.7736915\n",
      " 0.7749842  0.77627486 0.7775632  0.77884954 0.78013366 0.7814158\n",
      " 0.7826957  0.78397363 0.7852494  0.78652304 0.78779465 0.78906435\n",
      " 0.7903319  0.7915975  0.79286104 0.7941225  0.7953821  0.79663956\n",
      " 0.79789513 0.7991487  0.8004002  0.80165    0.8028977  0.80414337\n",
      " 0.80538726 0.8066292  0.8078692  0.80910736 0.8103436  0.8115779\n",
      " 0.81281024 0.81404096 0.81526965 0.81649655 0.81772166 0.8189449\n",
      " 0.82016623 0.82138586 0.8226036  0.8238196  0.82503366 0.82624614\n",
      " 0.8274567  0.8286657  0.8298727  0.83107805 0.83228165 0.83348346\n",
      " 0.83468354 0.83588195 0.8370786  0.8382736  0.8394669  0.84065855\n",
      " 0.84184843 0.8430366  0.84422314 0.845408   0.8465912  0.8477727\n",
      " 0.8489526  0.8501309  0.85130763 0.8524826  0.8536562  0.8548279\n",
      " 0.8559981  0.8571667  0.85833365 0.8594991  0.8606629  0.86182517\n",
      " 0.86298585 0.8641451  0.86530274 0.8664588  0.8676133  0.86876625\n",
      " 0.86991763 0.87106764 0.8722159  0.8733629  0.8745083  0.8756522\n",
      " 0.8767947  0.8779355  0.87907493 0.8802129  0.8813494  0.88248444\n",
      " 0.88361806 0.8847501  0.8858808  0.88701004 0.8881379  0.8892643\n",
      " 0.89038914 0.89151263 0.8926348  0.8937554  0.8948747  0.89599264\n",
      " 0.8971091  0.89822435 0.899338   0.90045035 0.9015613  0.90267086\n",
      " 0.9037791  0.90488607 0.9059916  0.9070958  0.90819865 0.90930015\n",
      " 0.9104004  0.91149926 0.9125967  0.9136929  0.9147879  0.9158814\n",
      " 0.9169737  0.9180647  0.91915447 0.9202428  0.92132986 0.9224158\n",
      " 0.92350036 0.9245837  0.9256656  0.9267464  0.9278259  0.9289041\n",
      " 0.9299812  0.9310569  0.9321314  0.93320465 0.93427664 0.93534756\n",
      " 0.936417   0.93748534 0.93855256 0.9396185  0.9406831  0.9417467\n",
      " 0.942809   0.9438702  0.9449301  0.94598883 0.94704646 0.9481028\n",
      " 0.949158   0.950212   0.95126486 0.95231664 0.9533671  0.9544166\n",
      " 0.9554648  0.95651186 0.9575578  0.9586026  0.9596463  0.9606888\n",
      " 0.96173024 0.96277046 0.9638096  0.96484774 0.96588457 0.9669203\n",
      " 0.967955   0.9689885  0.97002107 0.97105247 0.97208273 0.97311205\n",
      " 0.97414005 0.9751671  0.97619313 0.97721803 0.9782418  0.9792645\n",
      " 0.9802861  0.98130673 0.9823263  0.98334485 0.9843622  0.98537856\n",
      " 0.98639387 0.98740816 0.9884215  0.98943365 0.9904449  0.9914549\n",
      " 0.9924641  0.99347216 0.9944793  0.99548537 0.99649036 0.9974944\n",
      " 0.99849737 0.9994993  1.0005002  1.0015002  1.0024993  1.0034974\n",
      " 1.0044943  1.0054903  1.0064855  1.0074794  1.0084726  1.0094647\n",
      " 1.0104558  1.011446   1.0124352  1.0134234  1.0144107  1.015397\n",
      " 1.0163823  1.0173666  1.0183501  1.0193325  1.020314   1.0212947\n",
      " 1.0222744  1.0232531  1.024231   1.0252078  1.0261837  1.0271587\n",
      " 1.0281328  1.0291059  1.0300782  1.0310495  1.0320199  1.0329894\n",
      " 1.033958   1.0349256  1.0358924  1.0368582  1.0378232  1.0387872\n",
      " 1.0397505  1.0407127  1.0416741  1.0426347  1.0435942  1.044553\n",
      " 1.0455109  1.0464678  1.047424   1.0483792  1.0493337  1.0502871\n",
      " 1.0512398  1.0521916  1.0531425  1.0540925  1.0550418  1.0559901\n",
      " 1.0569376  1.0578842  1.05883    1.0597751  1.0607191  1.0616624\n",
      " 1.0626049  1.0635464  1.0644872  1.0654273  1.0663663  1.0673046\n",
      " 1.0682421  1.0691787  1.0701145  1.0710496  1.0719837  1.0729171\n",
      " 1.0738497  1.0747814  1.0757123  1.0766425  1.0775719  1.0785003\n",
      " 1.0794281  1.080355   1.0812812  1.0822067  1.0831313  1.084055\n",
      " 1.0849779  1.0859002  1.0868216  1.0877422  1.0886621  1.0895811\n",
      " 1.0904995  1.091417   1.0923338  1.0932498  1.0941651  1.0950795\n",
      " 1.0959933  1.0969062  1.0978184  1.0987298  1.0996405  1.1005504\n",
      " 1.1014596  1.102368   1.1032757  1.1041826  1.1050887  1.1059942\n",
      " 1.1068989  1.1078029  1.1087061  1.1096085  1.1105103  1.1114113\n",
      " 1.1123116  1.1132112  1.11411    1.1150082  1.1159055  1.1168022\n",
      " 1.1176981  1.1185933  1.1194879  1.1203818  1.1212748  1.1221672\n",
      " 1.1230588  1.1239499  1.1248401  1.1257296  1.1266185  1.1275066\n",
      " 1.128394   1.1292808  1.1301668  1.1310523  1.1319369  1.1328207\n",
      " 1.1337042  1.1345868  1.1354687  1.1363499  1.1372304  1.1381103\n",
      " 1.1389894  1.139868   1.140746   1.1416231  1.1424996  1.1433754\n",
      " 1.1442505  1.145125   1.1459988  1.1468719  1.1477444  1.1486162\n",
      " 1.1494875  1.1503578  1.1512278  1.152097   1.1529653  1.1538334\n",
      " 1.1547006  1.155567   1.156433   1.1572983  1.1581628  1.159027\n",
      " 1.1598903  1.1607529  1.161615   1.1624763  1.1633371  1.1641973\n",
      " 1.1650568  1.1659156  1.1667739  1.1676315  1.1684885  1.1693449\n",
      " 1.1702005  1.1710558  1.1719102  1.172764   1.1736171  1.17447\n",
      " 1.1753218  1.1761732  1.177024   1.1778741  1.1787236  1.1795725\n",
      " 1.1804208  1.1812686  1.1821156  1.1829621  1.183808   1.1846532\n",
      " 1.1854979  1.1863421  1.1871854  1.1880285  1.1888707  1.1897123\n",
      " 1.1905534  1.1913939  1.1922338  1.193073   1.1939118  1.19475\n",
      " 1.1955874  1.1964244  1.1972609  1.1980966  1.1989317  1.1997664\n",
      " 1.2006004  1.201434   1.2022667  1.2030991  1.2039309  1.204762\n",
      " 1.2055926  1.2064226  1.207252   1.208081   1.2089092  1.209737\n",
      " 1.2105643  1.2113907  1.2122167  1.2130423  1.2138671  1.2146915\n",
      " 1.2155153  1.2163385  1.217161   1.2179834  1.2188048  1.219626\n",
      " 1.2204463  1.2212663  1.2220856  1.2229046  1.2237227  1.2245405\n",
      " 1.2253577  1.2261744  1.2269905  1.227806   1.228621   1.2294354\n",
      " 1.2302494  1.2310628  1.2318757  1.232688   1.2334996  1.2343109\n",
      " 1.2351217  1.2359318  1.2367414  1.2375506  1.2383592  1.2391673\n",
      " 1.2399749  1.2407819  1.2415884  1.2423942  1.2431998  1.2440046\n",
      " 1.244809   1.245613   1.2464163  1.2472192  1.2480215  1.2488232\n",
      " 1.2496246  1.2504255  1.2512255  1.2520254  1.2528245  1.2536235\n",
      " 1.2544217  1.2552193  1.2560166  1.2568132  1.2576095  1.2584052\n",
      " 1.2592003  1.2599951  1.2607893  1.261583   1.2623761  1.2631688\n",
      " 1.2639611  1.2647529  1.2655439  1.2663347  1.2671249  1.2679147\n",
      " 1.2687038  1.2694926  1.270281   1.2710687  1.271856   1.2726429\n",
      " 1.2734292  1.2742149  1.2750003  1.2757851  1.2765695  1.2773534\n",
      " 1.2781367  1.2789197  1.2797021  1.2804841  1.2812656  1.2820466\n",
      " 1.2828271  1.2836072  1.2843869  1.2851659  1.2859446  1.2867228\n",
      " 1.2875005  1.2882777  1.2890546  1.2898308  1.2906066  1.2913821\n",
      " 1.2921569  1.2929314  1.2937055  1.2944789  1.295252   1.2960244\n",
      " 1.2967966  1.2975683  1.2983395  1.2991103  1.2998806  1.3006504\n",
      " 1.3014197  1.3021889  1.3029572  1.3037252  1.304493   1.3052602\n",
      " 1.3060267  1.306793   1.3075587  1.308324   1.309089   1.3098533\n",
      " 1.3106173  1.3113809  1.3121439  1.3129065  1.3136688  1.3144306\n",
      " 1.3151919  1.3159529  1.3167132  1.3174732  1.3182328  1.318992\n",
      " 1.3197505  1.3205088  1.3212668  1.3220241  1.3227811  1.3235376\n",
      " 1.3242936  1.3250493  1.3258045  1.3265594  1.3273137  1.3280677\n",
      " 1.3288213  1.3295743  1.3303268  1.3310792  1.331831   1.3325824\n",
      " 1.3333334  1.3340839  1.334834   1.3355837  1.336333   1.3370818\n",
      " 1.3378302  1.3385782  1.3393258  1.3400731  1.3408198  1.3415662\n",
      " 1.342312   1.3430576  1.3438027  1.3445473  1.3452916  1.3460356\n",
      " 1.346779   1.3475221  1.3482647  1.349007   1.3497488  1.3504902\n",
      " 1.3512312  1.3519719  1.352712   1.3534517  1.3541912  1.3549302\n",
      " 1.3556688  1.3564069  1.3571447  1.357882   1.3586191  1.3593556\n",
      " 1.3600918  1.3608277  1.361563   1.362298   1.3630325  1.3637668\n",
      " 1.3645005  1.3652339  1.365967   1.3666996  1.3674318  1.3681637\n",
      " 1.368895   1.369626   1.3703568  1.3710871  1.371817   1.3725464\n",
      " 1.3732755  1.3740044  1.3747327  1.3754606  1.376188   1.3769152\n",
      " 1.3776422  1.3783685  1.3790946  1.3798202  1.3805455  1.3812704\n",
      " 1.381995   1.382719   1.3834429  1.3841662  1.3848891  1.3856118\n",
      " 1.3863338  1.3870559  1.3877773  1.3884985  1.389219   1.3899395\n",
      " 1.3906596  1.3913792  1.3920984  1.3928173  1.3935359  1.3942538\n",
      " 1.3949717  1.395689   1.396406   1.3971227  1.3978391  1.398555\n",
      " 1.3992705  1.3999857  1.4007004  1.401415   1.402129   1.4028429\n",
      " 1.4035561  1.4042692  1.4049819  1.4056942  1.406406   1.4071176\n",
      " 1.4078288  1.4085397  1.4092503  1.4099603  1.4106699  1.4113795\n",
      " 1.4120885  1.4127972  1.4135056  1.4142134 ], shape=(1000,), dtype=float32)\n",
      "tf.Tensor(\n",
      "[1.        1.002004  1.004012  1.0060241 1.0080402 1.0100603 1.0120845\n",
      " 1.0141127 1.016145  1.0181813 1.0202217 1.0222663 1.0243149 1.0263677\n",
      " 1.0284245 1.0304855 1.0325506 1.0346198 1.0366932 1.0387708 1.0408524\n",
      " 1.0429384 1.0450283 1.0471226 1.049221  1.0513238 1.0534306 1.0555416\n",
      " 1.057657  1.0597765 1.0619004 1.0640284 1.0661607 1.0682973 1.0704381\n",
      " 1.0725833 1.0747328 1.0768865 1.0790447 1.081207  1.0833738 1.085545\n",
      " 1.0877204 1.0899001 1.0920843 1.0942729 1.0964658 1.0986631 1.1008649\n",
      " 1.103071  1.1052816 1.1074965 1.1097159 1.1119399 1.1141682 1.116401\n",
      " 1.1186383 1.12088   1.1231263 1.125377  1.1276323 1.1298921 1.1321564\n",
      " 1.1344253 1.1366986 1.1389766 1.1412591 1.1435462 1.1458379 1.1481341\n",
      " 1.150435  1.1527405 1.1550506 1.1573653 1.1596847 1.1620088 1.1643374\n",
      " 1.1666707 1.1690087 1.1713514 1.1736988 1.1760509 1.1784078 1.1807693\n",
      " 1.1831355 1.1855066 1.1878823 1.1902628 1.1926482 1.1950382 1.1974331\n",
      " 1.1998328 1.2022372 1.2046465 1.2070607 1.2094796 1.2119035 1.2143321\n",
      " 1.2167656 1.219204  1.2216473 1.2240955 1.2265486 1.2290066 1.2314695\n",
      " 1.2339374 1.2364103 1.238888  1.2413708 1.2438585 1.2463512 1.2488489\n",
      " 1.2513516 1.2538593 1.256372  1.2588898 1.2614126 1.2639406 1.2664734\n",
      " 1.2690115 1.2715546 1.2741028 1.2766562 1.2792145 1.2817781 1.2843468\n",
      " 1.2869205 1.2894996 1.2920837 1.2946731 1.2972677 1.2998674 1.3024724\n",
      " 1.3050826 1.3076979 1.3103185 1.3129444 1.3155756 1.318212  1.3208537\n",
      " 1.3235008 1.326153  1.3288107 1.3314736 1.3341419 1.3368155 1.3394945\n",
      " 1.3421788 1.3448685 1.3475637 1.3502642 1.3529701 1.3556815 1.3583983\n",
      " 1.3611206 1.3638482 1.3665814 1.36932   1.3720641 1.3748138 1.377569\n",
      " 1.3803296 1.3830957 1.3858676 1.3886448 1.3914278 1.3942161 1.3970101\n",
      " 1.3998097 1.402615  1.4054258 1.4082423 1.4110644 1.4138923 1.4167256\n",
      " 1.4195647 1.4224095 1.4252601 1.4281163 1.4309783 1.433846  1.4367194\n",
      " 1.4395986 1.4424837 1.4453744 1.4482709 1.4511733 1.4540814 1.4569955\n",
      " 1.4599153 1.4628409 1.4657724 1.46871   1.4716532 1.4746025 1.4775574\n",
      " 1.4805186 1.4834855 1.4864584 1.4894373 1.4924221 1.495413  1.4984097\n",
      " 1.5014126 1.5044215 1.5074363 1.5104573 1.5134842 1.5165172 1.5195563\n",
      " 1.5226015 1.5256529 1.5287102 1.5317738 1.5348436 1.5379194 1.5410013\n",
      " 1.5440896 1.5471839 1.5502845 1.5533912 1.5565042 1.5596235 1.562749\n",
      " 1.5658808 1.5690188 1.5721631 1.5753138 1.5784707 1.5816339 1.5848036\n",
      " 1.5879796 1.5911618 1.5943506 1.5975456 1.6007471 1.603955  1.6071694\n",
      " 1.6103902 1.6136174 1.6168511 1.6200912 1.623338  1.6265911 1.6298509\n",
      " 1.6331171 1.6363899 1.6396692 1.6429551 1.6462476 1.6495466 1.6528523\n",
      " 1.6561646 1.6594837 1.6628093 1.6661415 1.6694806 1.6728262 1.6761785\n",
      " 1.6795375 1.6829034 1.686276  1.6896553 1.6930413 1.6964341 1.6998339\n",
      " 1.7032404 1.7066536 1.7100737 1.7135007 1.7169347 1.7203754 1.7238231\n",
      " 1.7272775 1.7307391 1.7342076 1.7376829 1.7411653 1.7446545 1.7481508\n",
      " 1.7516541 1.7551645 1.7586819 1.7622063 1.7657378 1.7692763 1.7728219\n",
      " 1.7763747 1.7799345 1.7835015 1.7870756 1.790657  1.7942455 1.7978412\n",
      " 1.801444  1.8050542 1.8086715 1.812296  1.815928  1.8195671 1.8232135\n",
      " 1.8268672 1.8305283 1.8341967 1.8378724 1.8415555 1.845246  1.848944\n",
      " 1.8526492 1.8563619 1.860082  1.8638097 1.8675448 1.8712873 1.8750374\n",
      " 1.878795  1.8825601 1.8863328 1.890113  1.8939008 1.8976961 1.9014992\n",
      " 1.9053098 1.9091281 1.912954  1.9167876 1.9206289 1.9244778 1.9283345\n",
      " 1.9321989 1.936071  1.939951  1.9438386 1.9477341 1.9516374 1.9555484\n",
      " 1.9594674 1.9633942 1.9673288 1.9712714 1.9752218 1.9791801 1.9831464\n",
      " 1.9871206 1.9911029 1.9950931 1.9990913 2.0030975 2.0071115 2.011134\n",
      " 2.0151641 2.0192027 2.0232491 2.0273037 2.0313663 2.0354373 2.0395164\n",
      " 2.0436037 2.047699  2.0518026 2.0559144 2.0600345 2.0641627 2.0682993\n",
      " 2.0724442 2.0765975 2.080759  2.0849288 2.089107  2.0932937 2.0974886\n",
      " 2.101692  2.1059039 2.110124  2.1143527 2.11859   2.1228356 2.12709\n",
      " 2.1313527 2.1356237 2.1399035 2.144192  2.148489  2.1527946 2.1571088\n",
      " 2.1614316 2.1657631 2.1701033 2.1744523 2.17881   2.1831763 2.1875513\n",
      " 2.191935  2.196328  2.2007294 2.2051396 2.2095587 2.2139866 2.2184234\n",
      " 2.2228692 2.2273238 2.2317874 2.23626   2.2407415 2.2452319 2.2497313\n",
      " 2.2542398 2.2587574 2.263284  2.2678194 2.2723641 2.2769182 2.281481\n",
      " 2.2860532 2.2906344 2.295225  2.2998245 2.3044333 2.3090515 2.3136787\n",
      " 2.3183155 2.3229613 2.3276167 2.332281  2.336955  2.3416386 2.3463311\n",
      " 2.3510332 2.3557446 2.3604655 2.365196  2.3699358 2.3746853 2.3794441\n",
      " 2.3842125 2.3889904 2.393778  2.3985753 2.4033818 2.4081984 2.4130244\n",
      " 2.41786   2.4227054 2.4275606 2.4324255 2.4373    2.4421844 2.4470787\n",
      " 2.4519825 2.4568963 2.46182   2.4667535 2.4716969 2.4766502 2.4816134\n",
      " 2.4865866 2.4915698 2.4965627 2.501566  2.5065792 2.5116024 2.5166354\n",
      " 2.521679  2.5267324 2.531796  2.5368698 2.5419536 2.5470476 2.552152\n",
      " 2.5572665 2.5623913 2.5675263 2.5726717 2.5778275 2.5829933 2.5881698\n",
      " 2.5933566 2.5985537 2.6037612 2.608979  2.6142075 2.6194463 2.6246958\n",
      " 2.6299558 2.6352262 2.6405072 2.6457987 2.6511009 2.6564138 2.6617372\n",
      " 2.6670713 2.6724162 2.6777716 2.683138  2.688515  2.6939027 2.6993012\n",
      " 2.7047107 2.7101312 2.715562  2.7210042 2.726457  2.731921  2.7373958\n",
      " 2.7428815 2.7483783 2.753886  2.7594047 2.7649345 2.7704756 2.7760277\n",
      " 2.781591  2.7871652 2.7927506 2.7983475 2.8039553 2.8095744 2.8152049\n",
      " 2.8208466 2.8264995 2.8321638 2.8378396 2.8435264 2.849225  2.8549347\n",
      " 2.8606563 2.8663888 2.8721333 2.877889  2.8836563 2.889435  2.8952255\n",
      " 2.9010277 2.9068413 2.9126666 2.9185038 2.9243522 2.9302127 2.9360847\n",
      " 2.941969  2.9478645 2.953772  2.9596915 2.9656227 2.9715657 2.977521\n",
      " 2.9834878 2.9894667 2.9954576 3.0014606 3.0074759 3.0135028 3.019542\n",
      " 3.0255933 3.0316565 3.037732  3.0438194 3.0499194 3.0560315 3.0621557\n",
      " 3.0682924 3.0744412 3.0806024 3.086776  3.0929618 3.0991602 3.105371\n",
      " 3.1115942 3.1178298 3.1240778 3.1303387 3.136612  3.1428976 3.149196\n",
      " 3.155507  3.1618307 3.168167  3.174516  3.1808777 3.1872523 3.1936395\n",
      " 3.2000396 3.2064524 3.2128782 3.219317  3.2257683 3.2322328 3.2387104\n",
      " 3.2452006 3.251704  3.2582204 3.26475   3.2712927 3.2778482 3.2844172\n",
      " 3.290999  3.2975943 3.3042026 3.3108244 3.317459  3.3241074 3.330769\n",
      " 3.3374438 3.3441322 3.350834  3.3575487 3.3642774 3.3710194 3.377775\n",
      " 3.3845441 3.3913267 3.398123  3.4049327 3.4117563 3.4185934 3.4254444\n",
      " 3.432309  3.4391873 3.4460795 3.4529855 3.4599051 3.4668388 3.4737866\n",
      " 3.480748  3.4877234 3.4947128 3.5017164 3.5087337 3.5157652 3.522811\n",
      " 3.5298705 3.5369444 3.5440326 3.5511348 3.5582514 3.565382  3.5725272\n",
      " 3.5796864 3.5868602 3.5940483 3.601251  3.6084678 3.615699  3.622945\n",
      " 3.6302054 3.6374803 3.64477   3.652074  3.6593928 3.6667264 3.674075\n",
      " 3.6814377 3.6888154 3.6962078 3.703615  3.7110372 3.718474  3.725926\n",
      " 3.7333927 3.7408743 3.7483711 3.7558827 3.7634096 3.7709515 3.7785087\n",
      " 3.7860806 3.793668  3.8012705 3.8088884 3.8165214 3.8241696 3.8318334\n",
      " 3.8395123 3.8472068 3.8549166 3.8626418 3.8703825 3.878139  3.8859107\n",
      " 3.8936982 3.9015012 3.9093196 3.917154  3.925004  3.9328697 3.9407513\n",
      " 3.9486485 3.9565616 3.9644907 3.9724355 3.9803963 3.988373  3.9963658\n",
      " 4.0043745 4.012399  4.02044   4.028497  4.03657   4.0446596 4.052765\n",
      " 4.060887  4.069025  4.0771794 4.08535   4.093537  4.1017404 4.1099606\n",
      " 4.118197  4.1264496 4.1347194 4.1430054 4.1513076 4.159627  4.167963\n",
      " 4.1763153 4.1846848 4.193071  4.201474  4.2098937 4.2183304 4.2267838\n",
      " 4.2352543 4.243742  4.2522464 4.260768  4.2693067 4.277862  4.286435\n",
      " 4.2950253 4.3036323 4.312257  4.3208985 4.329558  4.3382344 4.346928\n",
      " 4.3556395 4.364368  4.3731146 4.381878  4.3906593 4.3994584 4.4082747\n",
      " 4.417109  4.425961  4.4348307 4.443718  4.4526234 4.4615464 4.4704876\n",
      " 4.4794464 4.488424  4.4974184 4.5064316 4.5154624 4.5245113 4.5335784\n",
      " 4.5426636 4.5517673 4.5608892 4.5700293 4.5791874 4.588364  4.5975595\n",
      " 4.606773  4.616005  4.625255  4.6345243 4.643812  4.653118  4.662443\n",
      " 4.671787  4.681149  4.69053   4.6999297 4.7093487 4.7187862 4.7282424\n",
      " 4.737718  4.7472124 4.756726  4.7662582 4.77581   4.785381  4.7949705\n",
      " 4.8045797 4.814208  4.823856  4.833523  4.8432093 4.8529153 4.8626404\n",
      " 4.872385  4.8821497 4.8919334 4.9017367 4.91156   4.921403  4.9312654\n",
      " 4.9411473 4.95105   4.9609714 4.9709134 4.980875  4.9908566 5.0008583\n",
      " 5.0108805 5.020922  5.030984  5.041066  5.0511684 5.061291  5.071434\n",
      " 5.0815973 5.0917807 5.1019845 5.1122093 5.1224537 5.1327195 5.1430054\n",
      " 5.1533117 5.163639  5.1739874 5.1843557 5.1947455 5.205156  5.2155867\n",
      " 5.226039  5.236512  5.247006  5.257521  5.268057  5.278614  5.2891927\n",
      " 5.2997923 5.310413  5.3210554 5.3317184 5.3424034 5.3531094 5.3638372\n",
      " 5.3745866 5.385357  5.3961496 5.4069633 5.417799  5.428656  5.439535\n",
      " 5.450436  5.461359  5.4723034 5.4832706 5.494259  5.5052695 5.516302\n",
      " 5.527357  5.538434  5.549533  5.560654  5.571798  5.582964  5.594152\n",
      " 5.605363  5.6165957 5.6278515 5.6391296 5.6504307 5.661754  5.6731005\n",
      " 5.684469  5.695861  5.7072754 5.718713  5.730173  5.7416563 5.753163\n",
      " 5.7646923 5.776245  5.7878203 5.7994194 5.8110414 5.8226867 5.8343554\n",
      " 5.8460474 5.8577633 5.869502  5.8812647 5.89305   5.9048605 5.9166937\n",
      " 5.9285507 5.9404316 5.9523363 5.964265  5.9762173 5.9881935 6.000194\n",
      " 6.0122185 6.0242667 6.0363398 6.048436  6.0605574 6.072703  6.0848727\n",
      " 6.097067  6.1092854 6.1215286 6.1337957 6.146088  6.158405  6.1707463\n",
      " 6.1831126 6.1955037 6.2079196 6.2203603 6.2328258 6.2453165 6.257832\n",
      " 6.270373  6.2829385 6.29553   6.308146  6.3207874 6.333454  6.3461466\n",
      " 6.3588643 6.371608  6.3843765 6.3971705 6.409991  6.4228363 6.435708\n",
      " 6.448605  6.461528  6.474477  6.4874516 6.500453  6.5134797 6.5265326\n",
      " 6.539612  6.552717  6.5658493 6.579007  6.5921917 6.605402  6.6186395\n",
      " 6.631903  6.6451936 6.6585107 6.6718545 6.6852245 6.6986227 6.7120466\n",
      " 6.7254977 6.7389755 6.7524805 6.7660127 6.779572  6.793158  6.8067718\n",
      " 6.8204126 6.8340807 6.8477764 6.8614993 6.87525   6.8890276 6.9028335\n",
      " 6.916667  6.9305277 6.9444165 6.958333  6.9722776 6.9862504 7.000251\n",
      " 7.0142794 7.028336  7.042421  7.056534  7.0706754 7.084845  7.099043\n",
      " 7.1132693 7.1275244 7.141808  7.1561203 7.170461  7.1848307 7.1992292\n",
      " 7.2136564 7.2281127 7.242598  7.2571125 7.2716556 7.286228  7.30083\n",
      " 7.3154607 7.3301206 7.3448105 7.3595295 7.374278  7.389056 ], shape=(1000,), dtype=float32)\n",
      "tf.Tensor(\n",
      "[[1.0000000e+00 0.0000000e+00 0.0000000e+00 0.0000000e+00 1.0000000e+00]\n",
      " [1.0000000e+00 2.0020020e-03 4.0080117e-06 4.4743735e-02 1.0020040e+00]\n",
      " [1.0000000e+00 4.0040039e-03 1.6032047e-05 6.3277200e-02 1.0040120e+00]\n",
      " ...\n",
      " [1.0000000e+00 1.9959960e+00 3.9840000e+00 1.4127972e+00 7.3595295e+00]\n",
      " [1.0000000e+00 1.9979980e+00 3.9919960e+00 1.4135056e+00 7.3742781e+00]\n",
      " [1.0000000e+00 2.0000000e+00 4.0000000e+00 1.4142134e+00 7.3890562e+00]], shape=(1000, 5), dtype=float32)\n"
     ]
    }
   ],
   "source": [
    "test = make_features(X)\n",
    "print(test)"
   ]
  },
  {
   "cell_type": "code",
   "execution_count": 59,
   "metadata": {},
   "outputs": [],
   "source": [
    "def predict(X, W):\n",
    "    return tf.squeeze(X @ W, -1)"
   ]
  },
  {
   "cell_type": "code",
   "execution_count": 60,
   "metadata": {},
   "outputs": [],
   "source": [
    "def loss_mse(X, Y, W):\n",
    "    Y_hat = predict(X, W)\n",
    "    errors = (Y_hat - Y)**2\n",
    "    return tf.reduce_mean(errors)"
   ]
  },
  {
   "cell_type": "code",
   "execution_count": 61,
   "metadata": {},
   "outputs": [],
   "source": [
    "def compute_gradients(X, Y, W):\n",
    "    with tf.GradientTape() as tape:\n",
    "        loss = loss_mse(Xf, Y, W)\n",
    "    return tape.gradient(loss, W)"
   ]
  },
  {
   "cell_type": "code",
   "execution_count": 62,
   "metadata": {},
   "outputs": [
    {
     "name": "stdout",
     "output_type": "stream",
     "text": [
      "STEP: 2000 MSE: 0.002376794582232833\n"
     ]
    },
    {
     "data": {
      "text/plain": [
       "<matplotlib.legend.Legend at 0x7f11ec485a10>"
      ]
     },
     "execution_count": 62,
     "metadata": {},
     "output_type": "execute_result"
    },
    {
     "data": {
      "image/png": "[encoded data removed]",
      "text/plain": [
       "<Figure size 432x288 with 1 Axes>"
      ]
     },
     "metadata": {
      "needs_background": "light"
     },
     "output_type": "display_data"
    },
    {
     "data": {
      "image/png": "[encoded data removed]",
      "text/plain": [
       "<Figure size 432x288 with 1 Axes>"
      ]
     },
     "metadata": {
      "needs_background": "light"
     },
     "output_type": "display_data"
    }
   ],
   "source": [
    "# TODO 2\n",
    "STEPS = 2000\n",
    "LEARNING_RATE = .02\n",
    "\n",
    "\n",
    "Xf = make_features(X)\n",
    "n_weights = Xf.shape[1]\n",
    "print(f\"n_weights : {n_weights}\")\n",
    "\n",
    "W = tf.Variable(np.zeros((n_weights, 1)), dtype=tf.float32)\n",
    "\n",
    "# For plotting\n",
    "steps, losses = [], []\n",
    "plt.figure()\n",
    "\n",
    "\n",
    "for step in range(1, STEPS + 1):\n",
    "\n",
    "    dW = compute_gradients(X, Y, W)\n",
    "    W.assign_sub(dW * LEARNING_RATE)\n",
    "\n",
    "    if step % 100 == 0:\n",
    "        loss = loss_mse(Xf, Y, W)\n",
    "        steps.append(step)\n",
    "        losses.append(loss)\n",
    "        plt.clf()\n",
    "        plt.plot(steps, losses)\n",
    "\n",
    "\n",
    "print(\"STEP: {} MSE: {}\".format(STEPS, loss_mse(Xf, Y, W)))\n",
    "\n",
    "plt.figure()\n",
    "plt.plot(X, Y, label='actual')\n",
    "plt.plot(X, predict(Xf, W), label='predicted')\n",
    "plt.legend()"
   ]
  },
  {
   "cell_type": "markdown",
   "metadata": {},
   "source": [
    "Copyright 2019 Google Inc. Licensed under the Apache License, Version 2.0 (the \"License\"); you may not use this file except in compliance with the License. You may obtain a copy of the License at http://www.apache.org/licenses/LICENSE-2.0 Unless required by applicable law or agreed to in writing, software distributed under the License is distributed on an \"AS IS\" BASIS, WITHOUT WARRANTIES OR CONDITIONS OF ANY KIND, either express or implied. See the License for the specific language governing permissions and limitations under the License"
   ]
  },
  {
   "cell_type": "code",
   "execution_count": null,
   "metadata": {},
   "outputs": [],
   "source": []
  }
 ],
 "metadata": {
  "environment": {
   "name": "tf2-gpu.2-1.m69",
   "type": "gcloud",
   "uri": "gcr.io/deeplearning-platform-release/tf2-gpu.2-1:m69"
  },
  "kernelspec": {
   "display_name": "Python 3",
   "language": "python",
   "name": "python3"
  },
  "language_info": {
   "codemirror_mode": {
    "name": "ipython",
    "version": 3
   },
   "file_extension": ".py",
   "mimetype": "text/x-python",
   "name": "python",
   "nbconvert_exporter": "python",
   "pygments_lexer": "ipython3",
   "version": "3.7.10"
  }
 },
 "nbformat": 4,
 "nbformat_minor": 4
}
